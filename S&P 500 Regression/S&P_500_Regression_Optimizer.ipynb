{
  "nbformat": 4,
  "nbformat_minor": 0,
  "metadata": {
    "colab": {
      "provenance": []
    },
    "kernelspec": {
      "name": "python3",
      "display_name": "Python 3"
    },
    "language_info": {
      "name": "python"
    }
  },
  "cells": [
    {
      "cell_type": "code",
      "execution_count": null,
      "metadata": {
        "colab": {
          "base_uri": "https://localhost:8080/"
        },
        "id": "8r_4L7HjZeHQ",
        "outputId": "ae20c18b-126f-41b9-bab0-4c32df4e4d61"
      },
      "outputs": [
        {
          "output_type": "stream",
          "name": "stdout",
          "text": [
            "Drive already mounted at /content/drive; to attempt to forcibly remount, call drive.mount(\"/content/drive\", force_remount=True).\n"
          ]
        }
      ],
      "source": [
        "from google.colab import drive\n",
        "drive.mount('/content/drive')"
      ]
    },
    {
      "cell_type": "code",
      "source": [
        "!pip install pyswarms"
      ],
      "metadata": {
        "colab": {
          "base_uri": "https://localhost:8080/"
        },
        "id": "btkq5q_jxjDd",
        "outputId": "b33d7bea-e1a7-4a60-a4ef-1c3de9e6e16b"
      },
      "execution_count": 11,
      "outputs": [
        {
          "output_type": "stream",
          "name": "stdout",
          "text": [
            "Collecting pyswarms\n",
            "  Downloading pyswarms-1.3.0-py2.py3-none-any.whl.metadata (33 kB)\n",
            "Requirement already satisfied: scipy in /usr/local/lib/python3.11/dist-packages (from pyswarms) (1.15.3)\n",
            "Requirement already satisfied: numpy in /usr/local/lib/python3.11/dist-packages (from pyswarms) (2.0.2)\n",
            "Requirement already satisfied: matplotlib>=1.3.1 in /usr/local/lib/python3.11/dist-packages (from pyswarms) (3.10.0)\n",
            "Requirement already satisfied: attrs in /usr/local/lib/python3.11/dist-packages (from pyswarms) (25.3.0)\n",
            "Requirement already satisfied: tqdm in /usr/local/lib/python3.11/dist-packages (from pyswarms) (4.67.1)\n",
            "Requirement already satisfied: future in /usr/local/lib/python3.11/dist-packages (from pyswarms) (1.0.0)\n",
            "Requirement already satisfied: pyyaml in /usr/local/lib/python3.11/dist-packages (from pyswarms) (6.0.2)\n",
            "Requirement already satisfied: contourpy>=1.0.1 in /usr/local/lib/python3.11/dist-packages (from matplotlib>=1.3.1->pyswarms) (1.3.2)\n",
            "Requirement already satisfied: cycler>=0.10 in /usr/local/lib/python3.11/dist-packages (from matplotlib>=1.3.1->pyswarms) (0.12.1)\n",
            "Requirement already satisfied: fonttools>=4.22.0 in /usr/local/lib/python3.11/dist-packages (from matplotlib>=1.3.1->pyswarms) (4.58.0)\n",
            "Requirement already satisfied: kiwisolver>=1.3.1 in /usr/local/lib/python3.11/dist-packages (from matplotlib>=1.3.1->pyswarms) (1.4.8)\n",
            "Requirement already satisfied: packaging>=20.0 in /usr/local/lib/python3.11/dist-packages (from matplotlib>=1.3.1->pyswarms) (24.2)\n",
            "Requirement already satisfied: pillow>=8 in /usr/local/lib/python3.11/dist-packages (from matplotlib>=1.3.1->pyswarms) (11.2.1)\n",
            "Requirement already satisfied: pyparsing>=2.3.1 in /usr/local/lib/python3.11/dist-packages (from matplotlib>=1.3.1->pyswarms) (3.2.3)\n",
            "Requirement already satisfied: python-dateutil>=2.7 in /usr/local/lib/python3.11/dist-packages (from matplotlib>=1.3.1->pyswarms) (2.9.0.post0)\n",
            "Requirement already satisfied: six>=1.5 in /usr/local/lib/python3.11/dist-packages (from python-dateutil>=2.7->matplotlib>=1.3.1->pyswarms) (1.17.0)\n",
            "Downloading pyswarms-1.3.0-py2.py3-none-any.whl (104 kB)\n",
            "\u001b[2K   \u001b[90m━━━━━━━━━━━━━━━━━━━━━━━━━━━━━━━━━━━━━━━━\u001b[0m \u001b[32m104.1/104.1 kB\u001b[0m \u001b[31m4.1 MB/s\u001b[0m eta \u001b[36m0:00:00\u001b[0m\n",
            "\u001b[?25hInstalling collected packages: pyswarms\n",
            "Successfully installed pyswarms-1.3.0\n"
          ]
        }
      ]
    },
    {
      "cell_type": "code",
      "source": [
        "import numpy as np\n",
        "import pandas as pd\n",
        "import matplotlib.pyplot as plt\n",
        "import seaborn as sns\n",
        "import json\n",
        "\n",
        "import tensorflow as tf\n",
        "from tensorflow import keras\n",
        "from tensorflow.keras.models import Sequential\n",
        "from tensorflow.keras.layers import Dense, Dropout\n",
        "from tensorflow.keras.optimizers import Adam\n",
        "from tensorflow.keras.callbacks import EarlyStopping\n",
        "\n",
        "from sklearn.model_selection import train_test_split\n",
        "from sklearn.preprocessing import StandardScaler\n",
        "from sklearn.compose import ColumnTransformer\n",
        "from sklearn.pipeline import Pipeline\n",
        "from sklearn.impute import SimpleImputer\n",
        "\n",
        "from sklearn.metrics import mean_squared_error, mean_absolute_error, r2_score\n",
        "from sklearn.metrics import mean_absolute_percentage_error, median_absolute_error\n",
        "\n",
        "import pyswarms as ps\n",
        "\n",
        "# --- 0. Configuration ---\n",
        "\n",
        "TARGET_COLUMN = 'Close'\n",
        "DATE_COLUMN = 'Date'\n",
        "FILE_PATH = '/content/drive/MyDrive/VI/sp500_data.json'\n",
        "\n",
        "\n",
        "try:\n",
        "    with open(FILE_PATH, 'r') as f:\n",
        "      data = json.load(f)\n",
        "    stock_data = pd.DataFrame(data)\n",
        "    print(f\"Successfully loaded data from {FILE_PATH}\")\n",
        "except FileNotFoundError:\n",
        "    print(f\"JSON file not found at {FILE_PATH}. Please check the path.\")\n",
        "    exit()\n",
        "\n",
        "except json.JSONDecodeError:\n",
        "    print(f\"Error decoding JSON from {FILE_PATH}. Please check file format.\")\n",
        "    exit()\n",
        "except Exception as e:\n",
        "    print(f\"An unexpected error occurred during loading: {e}\")\n",
        "    exit()\n",
        "\n",
        "if DATE_COLUMN in stock_data.columns:\n",
        "  stock_data[DATE_COLUMN] = pd.to_datetime(stock_data[DATE_COLUMN], errors='coerce')\n",
        "  stock_data.sort_values(by=DATE_COLUMN, inplace=True)\n",
        "  print(f\"\\nConverted '{DATE_COLUMN}' to datetime and sorted data.\")\n",
        "else:\n",
        "  print(f\"Warning: Date column '{DATE_COLUMN}' not found.\")\n",
        "\n",
        "\n",
        "# --- 1. Initial Inspection ---\n",
        "\n",
        "stock_data.info()\n",
        "\n",
        "df_processed = stock_data.copy()\n",
        "\n",
        "cols_to_convert_to_numeric = ['Open', 'High', 'Low', TARGET_COLUMN, 'Volume']\n",
        "missing_value_placeholders = ['', ' ']\n",
        "\n",
        "print(f\"\\nConverting columns {cols_to_convert_to_numeric} to numeric and replacing placeholders {missing_value_placeholders} with NaN.\")\n",
        "for col in cols_to_convert_to_numeric:\n",
        "  if col in df_processed.columns:\n",
        "    for placeholder in missing_value_placeholders:\n",
        "      df_processed[col] = df_processed[col].replace(placeholder, np.nan)\n",
        "    df_processed[col] = pd.to_numeric(df_processed[col], errors='coerce')\n",
        "  else:\n",
        "    print(f\"Warning: Column {col} not found for numeric conversion.\")\n",
        "\n",
        "print(\"\\nData Info after numeric conversion attempt:\")\n",
        "df_processed.info()\n",
        "\n",
        "print(\"\\nDescriptive Statistics (Numerical):\")\n",
        "print(df_processed.describe())\n",
        "\n",
        "object_cols = df_processed.select_dtypes(include='object').columns\n",
        "if len(object_cols) > 0:\n",
        "  print(df_processed[object_cols].describe())\n",
        "else:\n",
        "  print(\"No object type columns remaining for description (excluding datetime).\")\n",
        "\n",
        "# --- 2. Handle Missing Values & Feature Engineering ---\n",
        "\n",
        "# Strategy:\n",
        "# - For the target (e.g., 'Close'), rows with missing values are often dropped.\n",
        "# - For numerical features, impute with median or mean.\n",
        "# - For date column, extract features.\n",
        "\n",
        "if TARGET_COLUMN in df_processed.columns and df_processed[TARGET_COLUMN].isnull().any():\n",
        "   print(f\"\\nFound {df_processed[TARGET_COLUMN].isnull().sum()} missing values in target '{TARGET_COLUMN}'. Dropping these rows.\")\n",
        "   df_processed.dropna(subset=[TARGET_COLUMN], inplace=True)\n",
        "   print(f\"New shape after dropping rows with missing target: {df_processed.shape}\")\n",
        "elif TARGET_COLUMN not in df_processed.columns:\n",
        "  print(f\"Error: Target column '{TARGET_COLUMN}' not found in the processed dataframe.\")\n",
        "  exit()\n",
        "\n",
        "if DATE_COLUMN in df_processed.columns and pd.api.types.is_datetime64_any_dtype(df_processed[DATE_COLUMN]):\n",
        "    print(f\"\\nEngineering features from '{DATE_COLUMN}':\")\n",
        "    df_processed['Year'] = df_processed[DATE_COLUMN].dt.year\n",
        "    df_processed['Month'] = df_processed[DATE_COLUMN].dt.month\n",
        "    df_processed['Day'] = df_processed[DATE_COLUMN].dt.day\n",
        "    df_processed['DayOfWeek'] = df_processed[DATE_COLUMN].dt.dayofweek\n",
        "    df_processed['DayOfYear'] = df_processed[DATE_COLUMN].dt.dayofyear\n",
        "    df_processed.drop(columns=[DATE_COLUMN], inplace=True)\n",
        "    print(f\"Added Year, Month, Day, DayOfWeek, DayOfYear. Dropped original '{DATE_COLUMN}'.\")\n",
        "else:\n",
        "    print(f\"Warning: '{DATE_COLUMN}' not found or not datetime type, skipping date feature engineering.\")\n",
        "\n",
        "print(\"\\nFirst 5 rows of df_processed (to inspect data):\")\n",
        "print(df_processed.head())\n",
        "print(\"\\nLast 5 rows of df_processed (to inspect data):\")\n",
        "print(df_processed.tail())\n",
        "print(\"\\nInfo after feature engineering:\")\n",
        "df_processed.info()\n",
        "\n",
        "# --- 3. Exploratory Data Analysis ---\n",
        "\n",
        "#plt.figure(figsize=(10, 6))\n",
        "#sns.histplot(df_processed[TARGET_COLUMN], kde=True)\n",
        "#plt.title(f'Distribution of Target Variable ({TARGET_COLUMN})')\n",
        "#plt.xlabel(TARGET_COLUMN)\n",
        "#plt.ylabel('Frequency')\n",
        "#plt.tight_layout()\n",
        "#plt.show()\n",
        "\n",
        "#print(f\"\\nDescriptive statistics for {TARGET_COLUMN}:\")\n",
        "#print(df_processed[TARGET_COLUMN].describe())\n",
        "\n",
        "numerical_cols = df_processed.select_dtypes(include=np.number).columns.tolist()\n",
        "\n",
        "if TARGET_COLUMN in numerical_cols:\n",
        "  numerical_features_for_eda = [col for col in numerical_cols if col!= TARGET_COLUMN]\n",
        "else:\n",
        "  numerical_features_for_eda = numerical_cols\n",
        "\n",
        "categorical_cols_eda = df_processed.select_dtypes(include='object').columns.tolist()\n",
        "\n",
        "if numerical_features_for_eda:\n",
        "    print(\"\\nHistograms for numerical features:\")\n",
        "    df_processed[numerical_features_for_eda].hist(bins=30, figsize=(15, max(10, len(numerical_features_for_eda) * 1.5)), layout=(-1, 3))\n",
        "    plt.tight_layout()\n",
        "    plt.show()\n",
        "else:\n",
        "    print(\"No numerical features (excluding target) to plot histograms for.\")\n",
        "\n",
        "if categorical_cols_eda:\n",
        "    print(\"\\nCount plots for categorical features:\")\n",
        "    for col in categorical_cols_eda:\n",
        "        plt.figure(figsize=(10, 5))\n",
        "        value_counts = df_processed[col].value_counts()\n",
        "        top_n = 15\n",
        "        if len(value_counts) > top_n:\n",
        "            sns.countplot(y=df_processed[col], order=value_counts.index[:top_n])\n",
        "            plt.title(f'Distribution of {col} (Top {top_n})')\n",
        "        else:\n",
        "            sns.countplot(y=df_processed[col], order=value_counts.index)\n",
        "            plt.title(f'Distribution of {col}')\n",
        "        plt.tight_layout()\n",
        "        plt.show()\n",
        "        print(f\"\\nValue counts for {col} (Top 10):\")\n",
        "        print(value_counts.head(10))\n",
        "else:\n",
        "    print(\"No categorical features to plot count plots for.\")\n",
        "\n",
        "if numerical_cols: # Use all numerical cols including target for correlation\n",
        "    plt.figure(figsize=(12, 10))\n",
        "    correlation_matrix = df_processed[numerical_cols].corr()\n",
        "    sns.heatmap(correlation_matrix, annot=True, cmap='coolwarm', fmt=\".2f\", linewidths=.5)\n",
        "    plt.title('Correlation Matrix of Numerical Features (including Target)')\n",
        "    plt.show()\n",
        "\n",
        "# --- 4. Preprocessing ---\n",
        "\n",
        "from sklearn.model_selection import train_test_split\n",
        "from sklearn.preprocessing import StandardScaler, OneHotEncoder\n",
        "from sklearn.compose import ColumnTransformer\n",
        "from sklearn.pipeline import Pipeline\n",
        "from sklearn.impute import SimpleImputer\n",
        "\n",
        "if df_processed[TARGET_COLUMN].isnull().any():\n",
        "  print(f\"CRITICAL: NaNs found in target column '{TARGET_COLUMN}' before splitting. Dropping them.\")\n",
        "  df_processed.dropna(subset=[TARGET_COLUMN], inplace=True)\n",
        "\n",
        "X = df_processed.drop(TARGET_COLUMN, axis=1)\n",
        "y = df_processed[TARGET_COLUMN]\n",
        "\n",
        "numerical_features = X.select_dtypes(include=np.number).columns.tolist()\n",
        "categorical_features = X.select_dtypes(include='object').columns.tolist()\n",
        "\n",
        "print(f\"Numerical features for model: {numerical_features}\")\n",
        "print(f\"Categorical features for model: {categorical_features}\")\n",
        "\n",
        "numerical_pipeline = Pipeline([\n",
        "    ('imputer', SimpleImputer(strategy='median')),\n",
        "    ('scaler', StandardScaler())\n",
        "])\n",
        "\n",
        "transformers_list = [('num', numerical_pipeline, numerical_features)]\n",
        "\n",
        "if categorical_features:\n",
        "    categorical_pipeline = Pipeline([\n",
        "        ('imputer', SimpleImputer(strategy='most_frequent')),\n",
        "        ('onehot', OneHotEncoder(handle_unknown='ignore', sparse_output=False))\n",
        "    ])\n",
        "    transformers_list.append(('cat', categorical_pipeline, categorical_features))\n",
        "\n",
        "preprocessor = ColumnTransformer(transformers_list, remainder='passthrough')\n",
        "\n",
        "X_processed = preprocessor.fit_transform(X)\n",
        "print(f\"\\nShape of X_processed: {X_processed.shape}\")\n",
        "\n",
        "try:\n",
        "    processed_feature_names = numerical_features\n",
        "    if categorical_features:\n",
        "        ohe_feature_names = preprocessor.named_transformers_['cat'].named_steps['onehot'].get_feature_names_out(categorical_features)\n",
        "        processed_feature_names = numerical_features + list(ohe_feature_names)\n",
        "\n",
        "    if preprocessor.remainder == 'passthrough' and hasattr(preprocessor, 'feature_names_in_'):\n",
        "        passthrough_cols_indices = [i for i, t in enumerate(preprocessor.transformers_) if t[0] == 'remainder' and t[1] == 'passthrough']\n",
        "        if passthrough_cols_indices:\n",
        "            pass\n",
        "\n",
        "    print(f\"Number of features after processing: {len(processed_feature_names)}\")\n",
        "    print(f\"Feature names (sample): {processed_feature_names[:10]}...\")\n",
        "except Exception as e:\n",
        "    print(f\"Could not get fully resolved OHE feature names: {e}\")\n",
        "    print(\"Using X_processed.shape[1] for input_dim. Feature interpretability might be limited.\")\n",
        "    processed_feature_names = None\n",
        "\n",
        "# --- 5. Train Test Split ---\n",
        "\n",
        "X_train_full, X_test, y_train_full, y_test = train_test_split(\n",
        "    X_processed, y, test_size=0.2, random_state=42\n",
        ")\n",
        "\n",
        "print(f\"X_train shape: {X_train_full.shape}\")\n",
        "print(f\"X_test shape: {X_test.shape}\")\n",
        "print(f\"y_train shape: {y_train_full.shape}\")\n",
        "print(f\"y_test shape: {y_test.shape}\")\n",
        "\n",
        "print(\"\\nTarget variable statistics (y_train):\")\n",
        "print(y_train_full.describe())\n",
        "print(\"\\nTarget variable statistics (y_test):\")\n",
        "print(y_test.describe())\n",
        "\n",
        "input_dim = X_train_full.shape[1]\n",
        "\n",
        "def evaluate_regression_model(model_name, model_to_eval, X_test_data, y_test_data):\n",
        "  print(f\"\\n--- Evaluating {model_name} ---\")\n",
        "  y_pred_eval = model_to_eval.predict(X_test_data).flatten()\n",
        "\n",
        "  metrics = {}\n",
        "  metrics['MSE'] = mean_squared_error(y_test_data, y_pred_eval)\n",
        "  metrics['RMSE'] = np.sqrt(metrics['MSE'])\n",
        "  metrics['MAE'] = mean_absolute_error(y_test_data, y_pred_eval)\n",
        "  metrics['R2'] = r2_score(y_test_data, y_pred_eval)\n",
        "\n",
        "  if np.any(y_test_data == 0):\n",
        "      print(\"Warning: y_test contains zeros, MAPE might be undefined or misleading. Calculating with non-zero subset if possible or skipping.\")\n",
        "      non_zero_mask = y_test_data != 0\n",
        "      if np.any(non_zero_mask):\n",
        "          metrics['MAPE'] = mean_absolute_percentage_error(y_test_data[non_zero_mask], y_pred_eval[non_zero_mask]) * 100\n",
        "      else:\n",
        "          metrics['MAPE'] = np.nan\n",
        "  else:\n",
        "      metrics['MAPE'] = mean_absolute_percentage_error(y_test_data, y_pred_eval) * 100\n",
        "\n",
        "  metrics['MedAE'] = median_absolute_error(y_test_data, y_pred_eval)\n",
        "  print(f\"{model_name} Test MSE: {metrics['MSE']:.4f}\")\n",
        "  print(f\"{model_name} Test RMSE: {metrics['RMSE']:.4f}\")\n",
        "  print(f\"{model_name} Test MAE: {metrics['MAE']:.4f}\")\n",
        "  print(f\"{model_name} Test R-squared (R²): {metrics['R2']:.4f}\")\n",
        "  print(f\"{model_name} Test MAPE: {metrics['MAPE']:.2f}%\")\n",
        "  print(f\"{model_name} Test MedAE: {metrics['MedAE']:.4f}\")\n",
        "  return metrics\n",
        "\n",
        "baseline_model = Sequential([\n",
        "    Dense(64, activation='relu', input_shape=(input_dim,)),\n",
        "    Dropout(0.2),\n",
        "    Dense(32, activation='relu'),\n",
        "    Dropout(0.2),\n",
        "    Dense(16, activation='relu'),\n",
        "    Dense(1)\n",
        "])\n",
        "\n",
        "baseline_model.compile(\n",
        "    optimizer='adam',\n",
        "    loss='mean_squared_error',\n",
        "    metrics=['mae', 'mse']\n",
        ")\n",
        "\n",
        "baseline_model.summary()\n",
        "\n",
        "early_stopping_baseline = EarlyStopping(\n",
        "    monitor='val_loss',\n",
        "    patience=10,\n",
        "    restore_best_weights=True\n",
        ")\n",
        "\n",
        "history_baseline = baseline_model.fit(\n",
        "    X_train_full, y_train_full,\n",
        "    epochs=100,\n",
        "    batch_size=32,\n",
        "    validation_split=0.2,\n",
        "    callbacks=[early_stopping_baseline],\n",
        "    verbose=1\n",
        ")\n",
        "\n",
        "baseline_metrics = evaluate_regression_model(\"Baseline Model\", baseline_model, X_test, y_test)\n",
        "\n",
        "# --- PSO Optimization Model ---\n",
        "\n",
        "X_train_pso, X_val_pso, y_train_pso, y_val_pso = train_test_split(\n",
        "    X_train_full, y_train_full, test_size=0.25, random_state=123\n",
        ")\n",
        "\n",
        "print(f\"PSO training set size: {X_train_pso.shape}\")\n",
        "print(f\"PSO validation set size: {X_val_pso.shape}\")\n",
        "\n",
        "min_bounds_pso = np.array([32,  16, 0.1,  0.0001, 16])\n",
        "max_bounds_pso = np.array([128, 64, 0.5,  0.01,   64])\n",
        "bounds_pso = (min_bounds_pso, max_bounds_pso)\n",
        "n_dimensions_pso = len(min_bounds_pso)\n",
        "\n",
        "pso_iteration_count = 0\n",
        "\n",
        "def nn_fitness_function_pso_regression(params):\n",
        "  global pso_iteration_count\n",
        "  pso_iteration_count += 1\n",
        "\n",
        "  neurons_l1 = int(round(params[0]))\n",
        "  neurons_l2 = int(round(params[1]))\n",
        "  dropout_rate_val = float(params[2])\n",
        "  learning_rate_val = float(params[3])\n",
        "  batch_size_val = int(round(params[4]))\n",
        "\n",
        "  print(f\"PSO Eval {pso_iteration_count}: N1={neurons_l1}, N2={neurons_l2}, DR={dropout_rate_val:.3f}, LR={learning_rate_val:.5f}, BS={batch_size_val}\", end=\"\")\n",
        "\n",
        "  tf.keras.backend.clear_session()\n",
        "\n",
        "  model_pso = Sequential([\n",
        "        Dense(neurons_l1, activation='relu', input_shape=(input_dim,)),\n",
        "        Dropout(dropout_rate_val),\n",
        "        Dense(neurons_l2, activation='relu'),\n",
        "        Dropout(dropout_rate_val),\n",
        "        Dense(1) # Regression output layer\n",
        "    ])\n",
        "  optimizer_pso_nn = Adam(learning_rate=learning_rate_val)\n",
        "  model_pso.compile(optimizer=optimizer_pso_nn, loss='mean_squared_error', metrics=['mae', 'mse'])\n",
        "\n",
        "  early_stop_pso_eval = EarlyStopping(monitor='val_loss', patience=3, restore_best_weights=True, verbose=0)\n",
        "  history_pso_eval = model_pso.fit(X_train_pso, y_train_pso,\n",
        "                                   epochs=20,\n",
        "                                   batch_size=batch_size_val,\n",
        "                                   validation_data=(X_val_pso, y_val_pso),\n",
        "                                   callbacks=[early_stop_pso_eval],\n",
        "                                   verbose=0)\n",
        "  min_val_loss = np.inf\n",
        "  if history_pso_eval.history and 'val_loss' in history_pso_eval.history and history_pso_eval.history['val_loss']:\n",
        "        min_val_loss = np.min(history_pso_eval.history['val_loss'])\n",
        "  else:\n",
        "        print(\" -> Val Loss: N/A (training issue?)\", end=\"\")\n",
        "        return np.inf\n",
        "\n",
        "  print(f\" -> Min Val Loss (MSE): {min_val_loss:.4f}\")\n",
        "  return min_val_loss\n",
        "\n",
        "def pso_objective_function_batch_wrapper_regression(particles_batch):\n",
        "    results = [nn_fitness_function_pso_regression(p) for p in particles_batch]\n",
        "    return np.array(results)\n",
        "\n",
        "n_particles_pso = 20\n",
        "pso_iters = 10\n",
        "options_pso = {'c1': 0.5, 'c2': 0.3, 'w': 0.9}\n",
        "\n",
        "print(f\"\\nStarting PSO with {n_particles_pso} particles for {pso_iters} iterations.\")\n",
        "pso_optimizer = ps.single.GlobalBestPSO(n_particles=n_particles_pso,\n",
        "                                        dimensions=n_dimensions_pso,\n",
        "                                        options=options_pso,\n",
        "                                        bounds=bounds_pso)\n",
        "\n",
        "best_cost_pso, best_params_pso = pso_optimizer.optimize(pso_objective_function_batch_wrapper_regression, iters=pso_iters, verbose=True)\n",
        "\n",
        "print(\"\\n--- PSO Optimization Finished ---\")\n",
        "print(f\"Best cost (min_val_loss MSE) from PSO: {best_cost_pso:.4f}\")\n",
        "print(f\"Best hyperparameters from PSO: {best_params_pso}\")\n",
        "\n",
        "best_neurons_l1 = int(round(best_params_pso[0]))\n",
        "best_neurons_l2 = int(round(best_params_pso[1]))\n",
        "best_dropout_rate = float(best_params_pso[2])\n",
        "best_learning_rate = float(best_params_pso[3])\n",
        "best_batch_size = int(round(best_params_pso[4]))\n",
        "\n",
        "print(\"\\nFormatted Best Hyperparameters from PSO:\")\n",
        "print(f\"  Neurons L1: {best_neurons_l1}, Neurons L2: {best_neurons_l2}\")\n",
        "print(f\"  Dropout: {best_dropout_rate:.4f}, LR: {best_learning_rate:.6f}, Batch Size: {best_batch_size}\")\n",
        "\n",
        "print(\"\\n--- Training Final Model with PSO-Optimized Hyperparameters ---\")\n",
        "tf.keras.backend.clear_session()\n",
        "final_model_pso = Sequential([\n",
        "    Dense(best_neurons_l1, activation='relu', input_shape=(input_dim,)),\n",
        "    Dropout(best_dropout_rate),\n",
        "    Dense(best_neurons_l2, activation='relu'),\n",
        "    Dropout(best_dropout_rate),\n",
        "    Dense(1) # Regression output\n",
        "])\n",
        "final_optimizer_pso = Adam(learning_rate=best_learning_rate)\n",
        "final_model_pso.compile(optimizer=final_optimizer_pso, loss='mean_squared_error', metrics=['mae', 'mse'])\n",
        "final_model_pso.summary()\n",
        "\n",
        "early_stopping_final_pso = EarlyStopping(monitor='val_loss', patience=10, restore_best_weights=True)\n",
        "history_final_pso = final_model_pso.fit(\n",
        "    X_train_full, y_train_full, # Train on the full training data (before PSO's internal split)\n",
        "    epochs=100,                 # More epochs for final model\n",
        "    batch_size=best_batch_size,\n",
        "    validation_split=0.2,\n",
        "    callbacks=[early_stopping_final_pso],\n",
        "    verbose=1\n",
        ")\n",
        "\n",
        "pso_optimized_metrics = evaluate_regression_model(\"PSO Optimized Model\", final_model_pso, X_test, y_test)\n",
        "\n",
        "print(\"\\n\\n--- Comparison of Model Performance (Regression Metrics) ---\")\n",
        "metrics_order = ['MSE', 'RMSE', 'MAE', 'R2', 'MAPE', 'MedAE']\n",
        "comparison_data = {\n",
        "    \"Metric\": metrics_order,\n",
        "    \"Baseline Model\": [baseline_metrics.get(m, np.nan) for m in metrics_order],\n",
        "    \"PSO Optimized Model\": [pso_optimized_metrics.get(m, np.nan) for m in metrics_order]\n",
        "}\n",
        "comparison_df = pd.DataFrame(comparison_data)\n",
        "\n",
        "float_format_map = {\n",
        "    'MSE': \"%.2f\", 'RMSE': \"%.2f\", 'MAE': \"%.2f\",\n",
        "    'R2': \"%.4f\", 'MAPE': \"%.2f%%\", 'MedAE': \"%.2f\"\n",
        "}\n",
        "\n",
        "formatted_comparison_df = comparison_df.copy()\n",
        "for metric_name, fmt_str in float_format_map.items():\n",
        "    if metric_name in formatted_comparison_df['Metric'].values:\n",
        "        row_indexer = formatted_comparison_df['Metric'] == metric_name\n",
        "        if metric_name == 'MAPE':\n",
        "             formatted_comparison_df.loc[row_indexer, [\"Baseline Model\", \"PSO Optimized Model\"]] = \\\n",
        "                comparison_df.loc[row_indexer, [\"Baseline Model\", \"PSO Optimized Model\"]].applymap(lambda x: f\"{x:.2f}%\" if pd.notnull(x) else \"N/A\")\n",
        "        else:\n",
        "            formatted_comparison_df.loc[row_indexer, [\"Baseline Model\", \"PSO Optimized Model\"]] = \\\n",
        "                comparison_df.loc[row_indexer, [\"Baseline Model\", \"PSO Optimized Model\"]].applymap(lambda x: fmt_str % x if pd.notnull(x) else \"N/A\")\n",
        "\n",
        "\n",
        "print(formatted_comparison_df.to_string(index=False))\n",
        "\n",
        "if history_baseline:\n",
        "    pd.DataFrame(history_baseline.history).plot(figsize=(10,6), title=\"Baseline Model Training History\").grid(True)\n",
        "    plt.show()\n",
        "    if history_final_pso:\n",
        "      pd.DataFrame(history_final_pso.history).plot(figsize=(10,6), title=\"PSO Optimized Model Training History\").grid(True)\n",
        "      plt.show()\n",
        "\n",
        "\n",
        "y_pred_final_pso_plot = final_model_pso.predict(X_test).flatten()\n",
        "plt.figure(figsize=(8, 8))\n",
        "plt.scatter(y_test, y_pred_final_pso_plot, alpha=0.5)\n",
        "plt.plot([y_test.min(), y_test.max()], [y_test.min(), y_test.max()], 'k--', lw=2)\n",
        "plt.xlabel('Actual Values')\n",
        "plt.ylabel('Predicted Values')\n",
        "plt.title('PSO Optimized Model: Actual vs. Predicted')\n",
        "plt.grid(True)\n",
        "plt.show()\n",
        "\n",
        "\n",
        "print(\"\\n--- Script Finished ---\")"
      ],
      "metadata": {
        "colab": {
          "base_uri": "https://localhost:8080/",
          "height": 1000
        },
        "id": "IiEPZCx2d5Dk",
        "outputId": "891e1dec-8387-454c-bdaf-93d1c042bec0"
      },
      "execution_count": 13,
      "outputs": [
        {
          "output_type": "stream",
          "name": "stdout",
          "text": [
            "Successfully loaded data from /content/drive/MyDrive/VI/sp500_data.json\n",
            "\n",
            "Converted 'Date' to datetime and sorted data.\n",
            "<class 'pandas.core.frame.DataFrame'>\n",
            "RangeIndex: 24445 entries, 0 to 24444\n",
            "Data columns (total 6 columns):\n",
            " #   Column  Non-Null Count  Dtype         \n",
            "---  ------  --------------  -----         \n",
            " 0   Date    24445 non-null  datetime64[ns]\n",
            " 1   Close   24445 non-null  float64       \n",
            " 2   High    24445 non-null  float64       \n",
            " 3   Low     24445 non-null  float64       \n",
            " 4   Open    24445 non-null  float64       \n",
            " 5   Volume  24445 non-null  int64         \n",
            "dtypes: datetime64[ns](1), float64(4), int64(1)\n",
            "memory usage: 1.1 MB\n",
            "\n",
            "Converting columns ['Open', 'High', 'Low', 'Close', 'Volume'] to numeric and replacing placeholders ['', ' '] with NaN.\n",
            "\n",
            "Data Info after numeric conversion attempt:\n",
            "<class 'pandas.core.frame.DataFrame'>\n",
            "RangeIndex: 24445 entries, 0 to 24444\n",
            "Data columns (total 6 columns):\n",
            " #   Column  Non-Null Count  Dtype         \n",
            "---  ------  --------------  -----         \n",
            " 0   Date    24445 non-null  datetime64[ns]\n",
            " 1   Close   24445 non-null  float64       \n",
            " 2   High    24445 non-null  float64       \n",
            " 3   Low     24445 non-null  float64       \n",
            " 4   Open    24445 non-null  float64       \n",
            " 5   Volume  24445 non-null  int64         \n",
            "dtypes: datetime64[ns](1), float64(4), int64(1)\n",
            "memory usage: 1.1 MB\n",
            "\n",
            "Descriptive Statistics (Numerical):\n",
            "                                Date         Close          High  \\\n",
            "count                          24445  24445.000000  24445.000000   \n",
            "mean   1976-09-27 13:58:11.904274912    674.690699    678.506101   \n",
            "min              1927-12-30 00:00:00      4.400000      4.400000   \n",
            "25%              1952-06-19 00:00:00     24.780001     24.780001   \n",
            "50%              1976-10-29 00:00:00    102.879997    103.690002   \n",
            "75%              2001-01-05 00:00:00   1064.660034   1071.520020   \n",
            "max              2025-04-25 00:00:00   6144.149902   6147.430176   \n",
            "std                              NaN   1121.472763   1127.496054   \n",
            "\n",
            "                Low          Open        Volume  \n",
            "count  24445.000000  24445.000000  2.444500e+04  \n",
            "mean     670.355766    654.897324  9.325444e+08  \n",
            "min        4.400000      0.000000  0.000000e+00  \n",
            "25%       24.780001      9.780000  1.570000e+06  \n",
            "50%      102.050003     43.849998  2.106000e+07  \n",
            "75%     1054.920044   1064.250000  1.075200e+09  \n",
            "max     6111.149902   6134.500000  1.145623e+10  \n",
            "std     1114.628094   1132.055601  1.643254e+09  \n",
            "No object type columns remaining for description (excluding datetime).\n",
            "\n",
            "Engineering features from 'Date':\n",
            "Added Year, Month, Day, DayOfWeek, DayOfYear. Dropped original 'Date'.\n",
            "\n",
            "First 5 rows of df_processed (to inspect data):\n",
            "       Close       High        Low       Open  Volume  Year  Month  Day  \\\n",
            "0  17.660000  17.660000  17.660000  17.660000       0  1927     12   30   \n",
            "1  17.760000  17.760000  17.760000  17.760000       0  1928      1    3   \n",
            "2  17.719999  17.719999  17.719999  17.719999       0  1928      1    4   \n",
            "3  17.549999  17.549999  17.549999  17.549999       0  1928      1    5   \n",
            "4  17.660000  17.660000  17.660000  17.660000       0  1928      1    6   \n",
            "\n",
            "   DayOfWeek  DayOfYear  \n",
            "0          4        364  \n",
            "1          1          3  \n",
            "2          2          4  \n",
            "3          3          5  \n",
            "4          4          6  \n",
            "\n",
            "Last 5 rows of df_processed (to inspect data):\n",
            "             Close         High          Low         Open      Volume  Year  \\\n",
            "24440  5158.200195  5232.939941  5101.629883  5232.939941  4226340000  2025   \n",
            "24441  5287.759766  5309.609863  5207.669922  5207.669922  4666950000  2025   \n",
            "24442  5375.859863  5469.689941  5356.169922  5395.919922  5371390000  2025   \n",
            "24443  5484.770020  5489.399902  5371.959961  5381.379883  4697710000  2025   \n",
            "24444  5525.209961  5528.109863  5455.859863  5489.729980  4236580000  2025   \n",
            "\n",
            "       Month  Day  DayOfWeek  DayOfYear  \n",
            "24440      4   21          0        111  \n",
            "24441      4   22          1        112  \n",
            "24442      4   23          2        113  \n",
            "24443      4   24          3        114  \n",
            "24444      4   25          4        115  \n",
            "\n",
            "Info after feature engineering:\n",
            "<class 'pandas.core.frame.DataFrame'>\n",
            "RangeIndex: 24445 entries, 0 to 24444\n",
            "Data columns (total 10 columns):\n",
            " #   Column     Non-Null Count  Dtype  \n",
            "---  ------     --------------  -----  \n",
            " 0   Close      24445 non-null  float64\n",
            " 1   High       24445 non-null  float64\n",
            " 2   Low        24445 non-null  float64\n",
            " 3   Open       24445 non-null  float64\n",
            " 4   Volume     24445 non-null  int64  \n",
            " 5   Year       24445 non-null  int32  \n",
            " 6   Month      24445 non-null  int32  \n",
            " 7   Day        24445 non-null  int32  \n",
            " 8   DayOfWeek  24445 non-null  int32  \n",
            " 9   DayOfYear  24445 non-null  int32  \n",
            "dtypes: float64(4), int32(5), int64(1)\n",
            "memory usage: 1.4 MB\n",
            "\n",
            "Histograms for numerical features:\n"
          ]
        },
        {
          "output_type": "display_data",
          "data": {
            "text/plain": [
              "<Figure size 1500x1350 with 9 Axes>"
            ],
            "image/png": "[encoded data removed]"
          },
          "metadata": {}
        },
        {
          "output_type": "stream",
          "name": "stdout",
          "text": [
            "No categorical features to plot count plots for.\n"
          ]
        },
        {
          "output_type": "display_data",
          "data": {
            "text/plain": [
              "<Figure size 1200x1000 with 2 Axes>"
            ],
            "image/png": "[encoded data removed]"
          },
          "metadata": {}
        },
        {
          "output_type": "stream",
          "name": "stdout",
          "text": [
            "Numerical features for model: ['High', 'Low', 'Open', 'Volume', 'Year', 'Month', 'Day', 'DayOfWeek', 'DayOfYear']\n",
            "Categorical features for model: []\n",
            "\n",
            "Shape of X_processed: (24445, 9)\n",
            "Number of features after processing: 9\n",
            "Feature names (sample): ['High', 'Low', 'Open', 'Volume', 'Year', 'Month', 'Day', 'DayOfWeek', 'DayOfYear']...\n",
            "X_train shape: (19556, 9)\n",
            "X_test shape: (4889, 9)\n",
            "y_train shape: (19556,)\n",
            "y_test shape: (4889,)\n",
            "\n",
            "Target variable statistics (y_train):\n",
            "count    19556.000000\n",
            "mean       671.679084\n",
            "std       1115.764057\n",
            "min          4.410000\n",
            "25%         24.837500\n",
            "50%        102.975002\n",
            "75%       1067.732513\n",
            "max       6144.149902\n",
            "Name: Close, dtype: float64\n",
            "\n",
            "Target variable statistics (y_test):\n",
            "count    4889.000000\n",
            "mean      686.737157\n",
            "std      1144.059343\n",
            "min         4.400000\n",
            "25%        24.620001\n",
            "50%       102.430000\n",
            "75%      1050.709961\n",
            "max      6075.109863\n",
            "Name: Close, dtype: float64\n"
          ]
        },
        {
          "output_type": "stream",
          "name": "stderr",
          "text": [
            "/usr/local/lib/python3.11/dist-packages/keras/src/layers/core/dense.py:87: UserWarning: Do not pass an `input_shape`/`input_dim` argument to a layer. When using Sequential models, prefer using an `Input(shape)` object as the first layer in the model instead.\n",
            "  super().__init__(activity_regularizer=activity_regularizer, **kwargs)\n"
          ]
        },
        {
          "output_type": "display_data",
          "data": {
            "text/plain": [
              "\u001b[1mModel: \"sequential_1\"\u001b[0m\n"
            ],
            "text/html": [
              "<pre style=\"white-space:pre;overflow-x:auto;line-height:normal;font-family:Menlo,'DejaVu Sans Mono',consolas,'Courier New',monospace\"><span style=\"font-weight: bold\">Model: \"sequential_1\"</span>\n",
              "</pre>\n"
            ]
          },
          "metadata": {}
        },
        {
          "output_type": "display_data",
          "data": {
            "text/plain": [
              "┏━━━━━━━━━━━━━━━━━━━━━━━━━━━━━━━━━┳━━━━━━━━━━━━━━━━━━━━━━━━┳━━━━━━━━━━━━━━━┓\n",
              "┃\u001b[1m \u001b[0m\u001b[1mLayer (type)                   \u001b[0m\u001b[1m \u001b[0m┃\u001b[1m \u001b[0m\u001b[1mOutput Shape          \u001b[0m\u001b[1m \u001b[0m┃\u001b[1m \u001b[0m\u001b[1m      Param #\u001b[0m\u001b[1m \u001b[0m┃\n",
              "┡━━━━━━━━━━━━━━━━━━━━━━━━━━━━━━━━━╇━━━━━━━━━━━━━━━━━━━━━━━━╇━━━━━━━━━━━━━━━┩\n",
              "│ dense_4 (\u001b[38;5;33mDense\u001b[0m)                 │ (\u001b[38;5;45mNone\u001b[0m, \u001b[38;5;34m64\u001b[0m)             │           \u001b[38;5;34m640\u001b[0m │\n",
              "├─────────────────────────────────┼────────────────────────┼───────────────┤\n",
              "│ dropout_2 (\u001b[38;5;33mDropout\u001b[0m)             │ (\u001b[38;5;45mNone\u001b[0m, \u001b[38;5;34m64\u001b[0m)             │             \u001b[38;5;34m0\u001b[0m │\n",
              "├─────────────────────────────────┼────────────────────────┼───────────────┤\n",
              "│ dense_5 (\u001b[38;5;33mDense\u001b[0m)                 │ (\u001b[38;5;45mNone\u001b[0m, \u001b[38;5;34m32\u001b[0m)             │         \u001b[38;5;34m2,080\u001b[0m │\n",
              "├─────────────────────────────────┼────────────────────────┼───────────────┤\n",
              "│ dropout_3 (\u001b[38;5;33mDropout\u001b[0m)             │ (\u001b[38;5;45mNone\u001b[0m, \u001b[38;5;34m32\u001b[0m)             │             \u001b[38;5;34m0\u001b[0m │\n",
              "├─────────────────────────────────┼────────────────────────┼───────────────┤\n",
              "│ dense_6 (\u001b[38;5;33mDense\u001b[0m)                 │ (\u001b[38;5;45mNone\u001b[0m, \u001b[38;5;34m16\u001b[0m)             │           \u001b[38;5;34m528\u001b[0m │\n",
              "├─────────────────────────────────┼────────────────────────┼───────────────┤\n",
              "│ dense_7 (\u001b[38;5;33mDense\u001b[0m)                 │ (\u001b[38;5;45mNone\u001b[0m, \u001b[38;5;34m1\u001b[0m)              │            \u001b[38;5;34m17\u001b[0m │\n",
              "└─────────────────────────────────┴────────────────────────┴───────────────┘\n"
            ],
            "text/html": [
              "<pre style=\"white-space:pre;overflow-x:auto;line-height:normal;font-family:Menlo,'DejaVu Sans Mono',consolas,'Courier New',monospace\">┏━━━━━━━━━━━━━━━━━━━━━━━━━━━━━━━━━┳━━━━━━━━━━━━━━━━━━━━━━━━┳━━━━━━━━━━━━━━━┓\n",
              "┃<span style=\"font-weight: bold\"> Layer (type)                    </span>┃<span style=\"font-weight: bold\"> Output Shape           </span>┃<span style=\"font-weight: bold\">       Param # </span>┃\n",
              "┡━━━━━━━━━━━━━━━━━━━━━━━━━━━━━━━━━╇━━━━━━━━━━━━━━━━━━━━━━━━╇━━━━━━━━━━━━━━━┩\n",
              "│ dense_4 (<span style=\"color: #0087ff; text-decoration-color: #0087ff\">Dense</span>)                 │ (<span style=\"color: #00d7ff; text-decoration-color: #00d7ff\">None</span>, <span style=\"color: #00af00; text-decoration-color: #00af00\">64</span>)             │           <span style=\"color: #00af00; text-decoration-color: #00af00\">640</span> │\n",
              "├─────────────────────────────────┼────────────────────────┼───────────────┤\n",
              "│ dropout_2 (<span style=\"color: #0087ff; text-decoration-color: #0087ff\">Dropout</span>)             │ (<span style=\"color: #00d7ff; text-decoration-color: #00d7ff\">None</span>, <span style=\"color: #00af00; text-decoration-color: #00af00\">64</span>)             │             <span style=\"color: #00af00; text-decoration-color: #00af00\">0</span> │\n",
              "├─────────────────────────────────┼────────────────────────┼───────────────┤\n",
              "│ dense_5 (<span style=\"color: #0087ff; text-decoration-color: #0087ff\">Dense</span>)                 │ (<span style=\"color: #00d7ff; text-decoration-color: #00d7ff\">None</span>, <span style=\"color: #00af00; text-decoration-color: #00af00\">32</span>)             │         <span style=\"color: #00af00; text-decoration-color: #00af00\">2,080</span> │\n",
              "├─────────────────────────────────┼────────────────────────┼───────────────┤\n",
              "│ dropout_3 (<span style=\"color: #0087ff; text-decoration-color: #0087ff\">Dropout</span>)             │ (<span style=\"color: #00d7ff; text-decoration-color: #00d7ff\">None</span>, <span style=\"color: #00af00; text-decoration-color: #00af00\">32</span>)             │             <span style=\"color: #00af00; text-decoration-color: #00af00\">0</span> │\n",
              "├─────────────────────────────────┼────────────────────────┼───────────────┤\n",
              "│ dense_6 (<span style=\"color: #0087ff; text-decoration-color: #0087ff\">Dense</span>)                 │ (<span style=\"color: #00d7ff; text-decoration-color: #00d7ff\">None</span>, <span style=\"color: #00af00; text-decoration-color: #00af00\">16</span>)             │           <span style=\"color: #00af00; text-decoration-color: #00af00\">528</span> │\n",
              "├─────────────────────────────────┼────────────────────────┼───────────────┤\n",
              "│ dense_7 (<span style=\"color: #0087ff; text-decoration-color: #0087ff\">Dense</span>)                 │ (<span style=\"color: #00d7ff; text-decoration-color: #00d7ff\">None</span>, <span style=\"color: #00af00; text-decoration-color: #00af00\">1</span>)              │            <span style=\"color: #00af00; text-decoration-color: #00af00\">17</span> │\n",
              "└─────────────────────────────────┴────────────────────────┴───────────────┘\n",
              "</pre>\n"
            ]
          },
          "metadata": {}
        },
        {
          "output_type": "display_data",
          "data": {
            "text/plain": [
              "\u001b[1m Total params: \u001b[0m\u001b[38;5;34m3,265\u001b[0m (12.75 KB)\n"
            ],
            "text/html": [
              "<pre style=\"white-space:pre;overflow-x:auto;line-height:normal;font-family:Menlo,'DejaVu Sans Mono',consolas,'Courier New',monospace\"><span style=\"font-weight: bold\"> Total params: </span><span style=\"color: #00af00; text-decoration-color: #00af00\">3,265</span> (12.75 KB)\n",
              "</pre>\n"
            ]
          },
          "metadata": {}
        },
        {
          "output_type": "display_data",
          "data": {
            "text/plain": [
              "\u001b[1m Trainable params: \u001b[0m\u001b[38;5;34m3,265\u001b[0m (12.75 KB)\n"
            ],
            "text/html": [
              "<pre style=\"white-space:pre;overflow-x:auto;line-height:normal;font-family:Menlo,'DejaVu Sans Mono',consolas,'Courier New',monospace\"><span style=\"font-weight: bold\"> Trainable params: </span><span style=\"color: #00af00; text-decoration-color: #00af00\">3,265</span> (12.75 KB)\n",
              "</pre>\n"
            ]
          },
          "metadata": {}
        },
        {
          "output_type": "display_data",
          "data": {
            "text/plain": [
              "\u001b[1m Non-trainable params: \u001b[0m\u001b[38;5;34m0\u001b[0m (0.00 B)\n"
            ],
            "text/html": [
              "<pre style=\"white-space:pre;overflow-x:auto;line-height:normal;font-family:Menlo,'DejaVu Sans Mono',consolas,'Courier New',monospace\"><span style=\"font-weight: bold\"> Non-trainable params: </span><span style=\"color: #00af00; text-decoration-color: #00af00\">0</span> (0.00 B)\n",
              "</pre>\n"
            ]
          },
          "metadata": {}
        },
        {
          "output_type": "stream",
          "name": "stdout",
          "text": [
            "Epoch 1/100\n",
            "\u001b[1m489/489\u001b[0m \u001b[32m━━━━━━━━━━━━━━━━━━━━\u001b[0m\u001b[37m\u001b[0m \u001b[1m5s\u001b[0m 6ms/step - loss: 1185109.8750 - mae: 511.9984 - mse: 1185109.8750 - val_loss: 15642.9951 - val_mae: 79.2745 - val_mse: 15642.9951\n",
            "Epoch 2/100\n",
            "\u001b[1m489/489\u001b[0m \u001b[32m━━━━━━━━━━━━━━━━━━━━\u001b[0m\u001b[37m\u001b[0m \u001b[1m6s\u001b[0m 7ms/step - loss: 41867.1250 - mae: 105.6807 - mse: 41867.1250 - val_loss: 2460.8611 - val_mae: 35.4965 - val_mse: 2460.8611\n",
            "Epoch 3/100\n",
            "\u001b[1m489/489\u001b[0m \u001b[32m━━━━━━━━━━━━━━━━━━━━\u001b[0m\u001b[37m\u001b[0m \u001b[1m4s\u001b[0m 5ms/step - loss: 29819.7402 - mae: 84.4579 - mse: 29819.7402 - val_loss: 1816.9003 - val_mae: 29.4199 - val_mse: 1816.9003\n",
            "Epoch 4/100\n",
            "\u001b[1m489/489\u001b[0m \u001b[32m━━━━━━━━━━━━━━━━━━━━\u001b[0m\u001b[37m\u001b[0m \u001b[1m6s\u001b[0m 7ms/step - loss: 27199.3008 - mae: 78.9602 - mse: 27199.3008 - val_loss: 3007.2224 - val_mae: 36.0574 - val_mse: 3007.2224\n",
            "Epoch 5/100\n",
            "\u001b[1m489/489\u001b[0m \u001b[32m━━━━━━━━━━━━━━━━━━━━\u001b[0m\u001b[37m\u001b[0m \u001b[1m2s\u001b[0m 4ms/step - loss: 27909.8398 - mae: 76.0828 - mse: 27909.8398 - val_loss: 1615.3372 - val_mae: 26.9626 - val_mse: 1615.3372\n",
            "Epoch 6/100\n",
            "\u001b[1m489/489\u001b[0m \u001b[32m━━━━━━━━━━━━━━━━━━━━\u001b[0m\u001b[37m\u001b[0m \u001b[1m2s\u001b[0m 4ms/step - loss: 26256.8340 - mae: 74.6589 - mse: 26256.8340 - val_loss: 5612.5723 - val_mae: 43.6007 - val_mse: 5612.5723\n",
            "Epoch 7/100\n",
            "\u001b[1m489/489\u001b[0m \u001b[32m━━━━━━━━━━━━━━━━━━━━\u001b[0m\u001b[37m\u001b[0m \u001b[1m3s\u001b[0m 5ms/step - loss: 24811.6914 - mae: 74.2562 - mse: 24811.6914 - val_loss: 992.4677 - val_mae: 21.0544 - val_mse: 992.4677\n",
            "Epoch 8/100\n",
            "\u001b[1m489/489\u001b[0m \u001b[32m━━━━━━━━━━━━━━━━━━━━\u001b[0m\u001b[37m\u001b[0m \u001b[1m6s\u001b[0m 7ms/step - loss: 29822.6934 - mae: 76.0951 - mse: 29822.6934 - val_loss: 1067.3101 - val_mae: 21.8674 - val_mse: 1067.3101\n",
            "Epoch 9/100\n",
            "\u001b[1m489/489\u001b[0m \u001b[32m━━━━━━━━━━━━━━━━━━━━\u001b[0m\u001b[37m\u001b[0m \u001b[1m4s\u001b[0m 4ms/step - loss: 26895.8184 - mae: 73.5245 - mse: 26895.8184 - val_loss: 570.4618 - val_mae: 16.6392 - val_mse: 570.4618\n",
            "Epoch 10/100\n",
            "\u001b[1m489/489\u001b[0m \u001b[32m━━━━━━━━━━━━━━━━━━━━\u001b[0m\u001b[37m\u001b[0m \u001b[1m3s\u001b[0m 5ms/step - loss: 28521.9258 - mae: 74.8884 - mse: 28521.9258 - val_loss: 1706.5148 - val_mae: 25.3090 - val_mse: 1706.5148\n",
            "Epoch 11/100\n",
            "\u001b[1m489/489\u001b[0m \u001b[32m━━━━━━━━━━━━━━━━━━━━\u001b[0m\u001b[37m\u001b[0m \u001b[1m3s\u001b[0m 5ms/step - loss: 26778.6211 - mae: 72.2882 - mse: 26778.6211 - val_loss: 476.1558 - val_mae: 15.0930 - val_mse: 476.1558\n",
            "Epoch 12/100\n",
            "\u001b[1m489/489\u001b[0m \u001b[32m━━━━━━━━━━━━━━━━━━━━\u001b[0m\u001b[37m\u001b[0m \u001b[1m3s\u001b[0m 5ms/step - loss: 25741.2324 - mae: 72.2967 - mse: 25741.2324 - val_loss: 449.0474 - val_mae: 14.7545 - val_mse: 449.0474\n",
            "Epoch 13/100\n",
            "\u001b[1m489/489\u001b[0m \u001b[32m━━━━━━━━━━━━━━━━━━━━\u001b[0m\u001b[37m\u001b[0m \u001b[1m3s\u001b[0m 6ms/step - loss: 25855.1191 - mae: 71.3768 - mse: 25855.1191 - val_loss: 1048.8848 - val_mae: 19.9027 - val_mse: 1048.8848\n",
            "Epoch 14/100\n",
            "\u001b[1m489/489\u001b[0m \u001b[32m━━━━━━━━━━━━━━━━━━━━\u001b[0m\u001b[37m\u001b[0m \u001b[1m4s\u001b[0m 4ms/step - loss: 25471.4375 - mae: 70.6339 - mse: 25471.4375 - val_loss: 460.2317 - val_mae: 15.0745 - val_mse: 460.2317\n",
            "Epoch 15/100\n",
            "\u001b[1m489/489\u001b[0m \u001b[32m━━━━━━━━━━━━━━━━━━━━\u001b[0m\u001b[37m\u001b[0m \u001b[1m2s\u001b[0m 4ms/step - loss: 24317.5957 - mae: 68.2536 - mse: 24317.5957 - val_loss: 856.1494 - val_mae: 17.6512 - val_mse: 856.1494\n",
            "Epoch 16/100\n",
            "\u001b[1m489/489\u001b[0m \u001b[32m━━━━━━━━━━━━━━━━━━━━\u001b[0m\u001b[37m\u001b[0m \u001b[1m2s\u001b[0m 4ms/step - loss: 25801.3613 - mae: 71.1436 - mse: 25801.3613 - val_loss: 2759.7278 - val_mae: 29.0554 - val_mse: 2759.7278\n",
            "Epoch 17/100\n",
            "\u001b[1m489/489\u001b[0m \u001b[32m━━━━━━━━━━━━━━━━━━━━\u001b[0m\u001b[37m\u001b[0m \u001b[1m3s\u001b[0m 5ms/step - loss: 24499.8359 - mae: 69.0705 - mse: 24499.8359 - val_loss: 570.3427 - val_mae: 15.3644 - val_mse: 570.3427\n",
            "Epoch 18/100\n",
            "\u001b[1m489/489\u001b[0m \u001b[32m━━━━━━━━━━━━━━━━━━━━\u001b[0m\u001b[37m\u001b[0m \u001b[1m3s\u001b[0m 6ms/step - loss: 26156.4258 - mae: 71.2548 - mse: 26156.4258 - val_loss: 1077.3368 - val_mae: 20.1169 - val_mse: 1077.3368\n",
            "Epoch 19/100\n",
            "\u001b[1m489/489\u001b[0m \u001b[32m━━━━━━━━━━━━━━━━━━━━\u001b[0m\u001b[37m\u001b[0m \u001b[1m2s\u001b[0m 4ms/step - loss: 26707.9414 - mae: 69.4397 - mse: 26707.9414 - val_loss: 1981.9432 - val_mae: 22.9663 - val_mse: 1981.9432\n",
            "Epoch 20/100\n",
            "\u001b[1m489/489\u001b[0m \u001b[32m━━━━━━━━━━━━━━━━━━━━\u001b[0m\u001b[37m\u001b[0m \u001b[1m2s\u001b[0m 5ms/step - loss: 25631.2246 - mae: 69.8196 - mse: 25631.2246 - val_loss: 613.4805 - val_mae: 15.2009 - val_mse: 613.4805\n",
            "Epoch 21/100\n",
            "\u001b[1m489/489\u001b[0m \u001b[32m━━━━━━━━━━━━━━━━━━━━\u001b[0m\u001b[37m\u001b[0m \u001b[1m2s\u001b[0m 4ms/step - loss: 27993.3887 - mae: 70.1327 - mse: 27993.3887 - val_loss: 880.0076 - val_mae: 17.3709 - val_mse: 880.0076\n",
            "Epoch 22/100\n",
            "\u001b[1m489/489\u001b[0m \u001b[32m━━━━━━━━━━━━━━━━━━━━\u001b[0m\u001b[37m\u001b[0m \u001b[1m4s\u001b[0m 8ms/step - loss: 25323.4336 - mae: 67.9330 - mse: 25323.4336 - val_loss: 1248.4093 - val_mae: 19.8135 - val_mse: 1248.4093\n",
            "\n",
            "--- Evaluating Baseline Model ---\n",
            "\u001b[1m153/153\u001b[0m \u001b[32m━━━━━━━━━━━━━━━━━━━━\u001b[0m\u001b[37m\u001b[0m \u001b[1m1s\u001b[0m 5ms/step\n"
          ]
        },
        {
          "output_type": "stream",
          "name": "stderr",
          "text": [
            "2025-05-22 21:13:43,875 - pyswarms.single.global_best - INFO - Optimize for 10 iters with {'c1': 0.5, 'c2': 0.3, 'w': 0.9}\n"
          ]
        },
        {
          "output_type": "stream",
          "name": "stdout",
          "text": [
            "Baseline Model Test MSE: 411.4610\n",
            "Baseline Model Test RMSE: 20.2845\n",
            "Baseline Model Test MAE: 14.2154\n",
            "Baseline Model Test R-squared (R²): 0.9997\n",
            "Baseline Model Test MAPE: 18.28%\n",
            "Baseline Model Test MedAE: 9.2995\n",
            "PSO training set size: (14667, 9)\n",
            "PSO validation set size: (4889, 9)\n",
            "\n",
            "Starting PSO with 20 particles for 10 iterations.\n"
          ]
        },
        {
          "output_type": "stream",
          "name": "stderr",
          "text": [
            "\rpyswarms.single.global_best:   0%|          |0/10"
          ]
        },
        {
          "output_type": "stream",
          "name": "stdout",
          "text": [
            "PSO Eval 1: N1=80, N2=20, DR=0.428, LR=0.00769, BS=33"
          ]
        },
        {
          "output_type": "stream",
          "name": "stderr",
          "text": [
            "/usr/local/lib/python3.11/dist-packages/keras/src/layers/core/dense.py:87: UserWarning: Do not pass an `input_shape`/`input_dim` argument to a layer. When using Sequential models, prefer using an `Input(shape)` object as the first layer in the model instead.\n",
            "  super().__init__(activity_regularizer=activity_regularizer, **kwargs)\n"
          ]
        },
        {
          "output_type": "stream",
          "name": "stdout",
          "text": [
            " -> Min Val Loss (MSE): 4633.3750\n",
            "PSO Eval 2: N1=71, N2=29, DR=0.136, LR=0.00250, BS=55"
          ]
        },
        {
          "output_type": "stream",
          "name": "stderr",
          "text": [
            "/usr/local/lib/python3.11/dist-packages/keras/src/layers/core/dense.py:87: UserWarning: Do not pass an `input_shape`/`input_dim` argument to a layer. When using Sequential models, prefer using an `Input(shape)` object as the first layer in the model instead.\n",
            "  super().__init__(activity_regularizer=activity_regularizer, **kwargs)\n"
          ]
        },
        {
          "output_type": "stream",
          "name": "stdout",
          "text": [
            " -> Min Val Loss (MSE): 565.5179\n",
            "PSO Eval 3: N1=54, N2=51, DR=0.107, LR=0.00316, BS=46"
          ]
        },
        {
          "output_type": "stream",
          "name": "stderr",
          "text": [
            "/usr/local/lib/python3.11/dist-packages/keras/src/layers/core/dense.py:87: UserWarning: Do not pass an `input_shape`/`input_dim` argument to a layer. When using Sequential models, prefer using an `Input(shape)` object as the first layer in the model instead.\n",
            "  super().__init__(activity_regularizer=activity_regularizer, **kwargs)\n"
          ]
        },
        {
          "output_type": "stream",
          "name": "stdout",
          "text": [
            " -> Min Val Loss (MSE): 324.4783\n",
            "PSO Eval 4: N1=124, N2=56, DR=0.119, LR=0.00390, BS=49"
          ]
        },
        {
          "output_type": "stream",
          "name": "stderr",
          "text": [
            "/usr/local/lib/python3.11/dist-packages/keras/src/layers/core/dense.py:87: UserWarning: Do not pass an `input_shape`/`input_dim` argument to a layer. When using Sequential models, prefer using an `Input(shape)` object as the first layer in the model instead.\n",
            "  super().__init__(activity_regularizer=activity_regularizer, **kwargs)\n"
          ]
        },
        {
          "output_type": "stream",
          "name": "stdout",
          "text": [
            " -> Min Val Loss (MSE): 346.4758\n",
            "PSO Eval 5: N1=125, N2=17, DR=0.219, LR=0.00860, BS=33"
          ]
        },
        {
          "output_type": "stream",
          "name": "stderr",
          "text": [
            "/usr/local/lib/python3.11/dist-packages/keras/src/layers/core/dense.py:87: UserWarning: Do not pass an `input_shape`/`input_dim` argument to a layer. When using Sequential models, prefer using an `Input(shape)` object as the first layer in the model instead.\n",
            "  super().__init__(activity_regularizer=activity_regularizer, **kwargs)\n"
          ]
        },
        {
          "output_type": "stream",
          "name": "stdout",
          "text": [
            " -> Min Val Loss (MSE): 364.5622\n",
            "PSO Eval 6: N1=93, N2=27, DR=0.210, LR=0.00221, BS=29"
          ]
        },
        {
          "output_type": "stream",
          "name": "stderr",
          "text": [
            "/usr/local/lib/python3.11/dist-packages/keras/src/layers/core/dense.py:87: UserWarning: Do not pass an `input_shape`/`input_dim` argument to a layer. When using Sequential models, prefer using an `Input(shape)` object as the first layer in the model instead.\n",
            "  super().__init__(activity_regularizer=activity_regularizer, **kwargs)\n"
          ]
        },
        {
          "output_type": "stream",
          "name": "stdout",
          "text": [
            " -> Min Val Loss (MSE): 640.3471\n",
            "PSO Eval 7: N1=113, N2=42, DR=0.153, LR=0.00579, BS=28"
          ]
        },
        {
          "output_type": "stream",
          "name": "stderr",
          "text": [
            "/usr/local/lib/python3.11/dist-packages/keras/src/layers/core/dense.py:87: UserWarning: Do not pass an `input_shape`/`input_dim` argument to a layer. When using Sequential models, prefer using an `Input(shape)` object as the first layer in the model instead.\n",
            "  super().__init__(activity_regularizer=activity_regularizer, **kwargs)\n"
          ]
        },
        {
          "output_type": "stream",
          "name": "stdout",
          "text": [
            " -> Min Val Loss (MSE): 740.7987\n",
            "PSO Eval 8: N1=105, N2=30, DR=0.231, LR=0.00023, BS=21"
          ]
        },
        {
          "output_type": "stream",
          "name": "stderr",
          "text": [
            "/usr/local/lib/python3.11/dist-packages/keras/src/layers/core/dense.py:87: UserWarning: Do not pass an `input_shape`/`input_dim` argument to a layer. When using Sequential models, prefer using an `Input(shape)` object as the first layer in the model instead.\n",
            "  super().__init__(activity_regularizer=activity_regularizer, **kwargs)\n"
          ]
        },
        {
          "output_type": "stream",
          "name": "stdout",
          "text": [
            " -> Min Val Loss (MSE): 2137.4868\n",
            "PSO Eval 9: N1=34, N2=41, DR=0.214, LR=0.00507, BS=16"
          ]
        },
        {
          "output_type": "stream",
          "name": "stderr",
          "text": [
            "/usr/local/lib/python3.11/dist-packages/keras/src/layers/core/dense.py:87: UserWarning: Do not pass an `input_shape`/`input_dim` argument to a layer. When using Sequential models, prefer using an `Input(shape)` object as the first layer in the model instead.\n",
            "  super().__init__(activity_regularizer=activity_regularizer, **kwargs)\n"
          ]
        },
        {
          "output_type": "stream",
          "name": "stdout",
          "text": [
            " -> Min Val Loss (MSE): 2131.6079\n",
            "PSO Eval 10: N1=105, N2=61, DR=0.371, LR=0.00288, BS=40"
          ]
        },
        {
          "output_type": "stream",
          "name": "stderr",
          "text": [
            "/usr/local/lib/python3.11/dist-packages/keras/src/layers/core/dense.py:87: UserWarning: Do not pass an `input_shape`/`input_dim` argument to a layer. When using Sequential models, prefer using an `Input(shape)` object as the first layer in the model instead.\n",
            "  super().__init__(activity_regularizer=activity_regularizer, **kwargs)\n"
          ]
        },
        {
          "output_type": "stream",
          "name": "stdout",
          "text": [
            " -> Min Val Loss (MSE): 974.0212\n",
            "PSO Eval 11: N1=127, N2=62, DR=0.289, LR=0.00091, BS=22"
          ]
        },
        {
          "output_type": "stream",
          "name": "stderr",
          "text": [
            "/usr/local/lib/python3.11/dist-packages/keras/src/layers/core/dense.py:87: UserWarning: Do not pass an `input_shape`/`input_dim` argument to a layer. When using Sequential models, prefer using an `Input(shape)` object as the first layer in the model instead.\n",
            "  super().__init__(activity_regularizer=activity_regularizer, **kwargs)\n"
          ]
        },
        {
          "output_type": "stream",
          "name": "stdout",
          "text": [
            " -> Min Val Loss (MSE): 824.5252\n",
            "PSO Eval 12: N1=101, N2=24, DR=0.158, LR=0.00622, BS=46"
          ]
        },
        {
          "output_type": "stream",
          "name": "stderr",
          "text": [
            "/usr/local/lib/python3.11/dist-packages/keras/src/layers/core/dense.py:87: UserWarning: Do not pass an `input_shape`/`input_dim` argument to a layer. When using Sequential models, prefer using an `Input(shape)` object as the first layer in the model instead.\n",
            "  super().__init__(activity_regularizer=activity_regularizer, **kwargs)\n"
          ]
        },
        {
          "output_type": "stream",
          "name": "stdout",
          "text": [
            " -> Min Val Loss (MSE): 505.1740\n",
            "PSO Eval 13: N1=77, N2=51, DR=0.433, LR=0.00545, BS=35"
          ]
        },
        {
          "output_type": "stream",
          "name": "stderr",
          "text": [
            "/usr/local/lib/python3.11/dist-packages/keras/src/layers/core/dense.py:87: UserWarning: Do not pass an `input_shape`/`input_dim` argument to a layer. When using Sequential models, prefer using an `Input(shape)` object as the first layer in the model instead.\n",
            "  super().__init__(activity_regularizer=activity_regularizer, **kwargs)\n"
          ]
        },
        {
          "output_type": "stream",
          "name": "stdout",
          "text": [
            " -> Min Val Loss (MSE): 871.4950\n",
            "PSO Eval 14: N1=87, N2=21, DR=0.252, LR=0.00254, BS=23"
          ]
        },
        {
          "output_type": "stream",
          "name": "stderr",
          "text": [
            "/usr/local/lib/python3.11/dist-packages/keras/src/layers/core/dense.py:87: UserWarning: Do not pass an `input_shape`/`input_dim` argument to a layer. When using Sequential models, prefer using an `Input(shape)` object as the first layer in the model instead.\n",
            "  super().__init__(activity_regularizer=activity_regularizer, **kwargs)\n"
          ]
        },
        {
          "output_type": "stream",
          "name": "stdout",
          "text": [
            " -> Min Val Loss (MSE): 771.3331\n",
            "PSO Eval 15: N1=75, N2=24, DR=0.363, LR=0.00559, BS=33"
          ]
        },
        {
          "output_type": "stream",
          "name": "stderr",
          "text": [
            "/usr/local/lib/python3.11/dist-packages/keras/src/layers/core/dense.py:87: UserWarning: Do not pass an `input_shape`/`input_dim` argument to a layer. When using Sequential models, prefer using an `Input(shape)` object as the first layer in the model instead.\n",
            "  super().__init__(activity_regularizer=activity_regularizer, **kwargs)\n"
          ]
        },
        {
          "output_type": "stream",
          "name": "stdout",
          "text": [
            " -> Min Val Loss (MSE): 3324.1594\n",
            "PSO Eval 16: N1=57, N2=30, DR=0.494, LR=0.00291, BS=55"
          ]
        },
        {
          "output_type": "stream",
          "name": "stderr",
          "text": [
            "/usr/local/lib/python3.11/dist-packages/keras/src/layers/core/dense.py:87: UserWarning: Do not pass an `input_shape`/`input_dim` argument to a layer. When using Sequential models, prefer using an `Input(shape)` object as the first layer in the model instead.\n",
            "  super().__init__(activity_regularizer=activity_regularizer, **kwargs)\n"
          ]
        },
        {
          "output_type": "stream",
          "name": "stdout",
          "text": [
            " -> Min Val Loss (MSE): 6601.4897\n",
            "PSO Eval 17: N1=79, N2=33, DR=0.346, LR=0.00274, BS=56"
          ]
        },
        {
          "output_type": "stream",
          "name": "stderr",
          "text": [
            "/usr/local/lib/python3.11/dist-packages/keras/src/layers/core/dense.py:87: UserWarning: Do not pass an `input_shape`/`input_dim` argument to a layer. When using Sequential models, prefer using an `Input(shape)` object as the first layer in the model instead.\n",
            "  super().__init__(activity_regularizer=activity_regularizer, **kwargs)\n"
          ]
        },
        {
          "output_type": "stream",
          "name": "stdout",
          "text": [
            " -> Min Val Loss (MSE): 1203.8707\n",
            "PSO Eval 18: N1=88, N2=33, DR=0.110, LR=0.00380, BS=31"
          ]
        },
        {
          "output_type": "stream",
          "name": "stderr",
          "text": [
            "/usr/local/lib/python3.11/dist-packages/keras/src/layers/core/dense.py:87: UserWarning: Do not pass an `input_shape`/`input_dim` argument to a layer. When using Sequential models, prefer using an `Input(shape)` object as the first layer in the model instead.\n",
            "  super().__init__(activity_regularizer=activity_regularizer, **kwargs)\n"
          ]
        },
        {
          "output_type": "stream",
          "name": "stdout",
          "text": [
            " -> Min Val Loss (MSE): 480.2505\n",
            "PSO Eval 19: N1=125, N2=36, DR=0.136, LR=0.00441, BS=39"
          ]
        },
        {
          "output_type": "stream",
          "name": "stderr",
          "text": [
            "/usr/local/lib/python3.11/dist-packages/keras/src/layers/core/dense.py:87: UserWarning: Do not pass an `input_shape`/`input_dim` argument to a layer. When using Sequential models, prefer using an `Input(shape)` object as the first layer in the model instead.\n",
            "  super().__init__(activity_regularizer=activity_regularizer, **kwargs)\n"
          ]
        },
        {
          "output_type": "stream",
          "name": "stdout",
          "text": [
            " -> Min Val Loss (MSE): 459.2536\n",
            "PSO Eval 20: N1=83, N2=59, DR=0.429, LR=0.00962, BS=34"
          ]
        },
        {
          "output_type": "stream",
          "name": "stderr",
          "text": [
            "/usr/local/lib/python3.11/dist-packages/keras/src/layers/core/dense.py:87: UserWarning: Do not pass an `input_shape`/`input_dim` argument to a layer. When using Sequential models, prefer using an `Input(shape)` object as the first layer in the model instead.\n",
            "  super().__init__(activity_regularizer=activity_regularizer, **kwargs)\n",
            "pyswarms.single.global_best:  10%|█         |1/10, best_cost=324"
          ]
        },
        {
          "output_type": "stream",
          "name": "stdout",
          "text": [
            " -> Min Val Loss (MSE): 4461.1802\n",
            "PSO Eval 21: N1=78, N2=25, DR=0.263, LR=0.00963, BS=36"
          ]
        },
        {
          "output_type": "stream",
          "name": "stderr",
          "text": [
            "/usr/local/lib/python3.11/dist-packages/keras/src/layers/core/dense.py:87: UserWarning: Do not pass an `input_shape`/`input_dim` argument to a layer. When using Sequential models, prefer using an `Input(shape)` object as the first layer in the model instead.\n",
            "  super().__init__(activity_regularizer=activity_regularizer, **kwargs)\n"
          ]
        },
        {
          "output_type": "stream",
          "name": "stdout",
          "text": [
            " -> Min Val Loss (MSE): 1065.1206\n",
            "PSO Eval 22: N1=67, N2=30, DR=0.327, LR=0.00834, BS=54"
          ]
        },
        {
          "output_type": "stream",
          "name": "stderr",
          "text": [
            "/usr/local/lib/python3.11/dist-packages/keras/src/layers/core/dense.py:87: UserWarning: Do not pass an `input_shape`/`input_dim` argument to a layer. When using Sequential models, prefer using an `Input(shape)` object as the first layer in the model instead.\n",
            "  super().__init__(activity_regularizer=activity_regularizer, **kwargs)\n"
          ]
        },
        {
          "output_type": "stream",
          "name": "stdout",
          "text": [
            " -> Min Val Loss (MSE): 2515.9590\n",
            "PSO Eval 23: N1=54, N2=51, DR=0.297, LR=0.00185, BS=46"
          ]
        },
        {
          "output_type": "stream",
          "name": "stderr",
          "text": [
            "/usr/local/lib/python3.11/dist-packages/keras/src/layers/core/dense.py:87: UserWarning: Do not pass an `input_shape`/`input_dim` argument to a layer. When using Sequential models, prefer using an `Input(shape)` object as the first layer in the model instead.\n",
            "  super().__init__(activity_regularizer=activity_regularizer, **kwargs)\n"
          ]
        },
        {
          "output_type": "stream",
          "name": "stdout",
          "text": [
            " -> Min Val Loss (MSE): 1134.6599\n",
            "PSO Eval 24: N1=104, N2=56, DR=0.217, LR=0.00917, BS=49"
          ]
        },
        {
          "output_type": "stream",
          "name": "stderr",
          "text": [
            "/usr/local/lib/python3.11/dist-packages/keras/src/layers/core/dense.py:87: UserWarning: Do not pass an `input_shape`/`input_dim` argument to a layer. When using Sequential models, prefer using an `Input(shape)` object as the first layer in the model instead.\n",
            "  super().__init__(activity_regularizer=activity_regularizer, **kwargs)\n"
          ]
        },
        {
          "output_type": "stream",
          "name": "stdout",
          "text": [
            " -> Min Val Loss (MSE): 1125.9979\n",
            "PSO Eval 25: N1=119, N2=20, DR=0.214, LR=0.00316, BS=33"
          ]
        },
        {
          "output_type": "stream",
          "name": "stderr",
          "text": [
            "/usr/local/lib/python3.11/dist-packages/keras/src/layers/core/dense.py:87: UserWarning: Do not pass an `input_shape`/`input_dim` argument to a layer. When using Sequential models, prefer using an `Input(shape)` object as the first layer in the model instead.\n",
            "  super().__init__(activity_regularizer=activity_regularizer, **kwargs)\n"
          ]
        },
        {
          "output_type": "stream",
          "name": "stdout",
          "text": [
            " -> Min Val Loss (MSE): 613.1258\n",
            "PSO Eval 26: N1=92, N2=32, DR=0.243, LR=0.00878, BS=34"
          ]
        },
        {
          "output_type": "stream",
          "name": "stderr",
          "text": [
            "/usr/local/lib/python3.11/dist-packages/keras/src/layers/core/dense.py:87: UserWarning: Do not pass an `input_shape`/`input_dim` argument to a layer. When using Sequential models, prefer using an `Input(shape)` object as the first layer in the model instead.\n",
            "  super().__init__(activity_regularizer=activity_regularizer, **kwargs)\n"
          ]
        },
        {
          "output_type": "stream",
          "name": "stdout",
          "text": [
            " -> Min Val Loss (MSE): 1720.4606\n",
            "PSO Eval 27: N1=96, N2=44, DR=0.200, LR=0.00525, BS=32"
          ]
        },
        {
          "output_type": "stream",
          "name": "stderr",
          "text": [
            "/usr/local/lib/python3.11/dist-packages/keras/src/layers/core/dense.py:87: UserWarning: Do not pass an `input_shape`/`input_dim` argument to a layer. When using Sequential models, prefer using an `Input(shape)` object as the first layer in the model instead.\n",
            "  super().__init__(activity_regularizer=activity_regularizer, **kwargs)\n"
          ]
        },
        {
          "output_type": "stream",
          "name": "stdout",
          "text": [
            " -> Min Val Loss (MSE): 435.0814\n",
            "PSO Eval 28: N1=93, N2=33, DR=0.219, LR=0.00745, BS=24"
          ]
        },
        {
          "output_type": "stream",
          "name": "stderr",
          "text": [
            "/usr/local/lib/python3.11/dist-packages/keras/src/layers/core/dense.py:87: UserWarning: Do not pass an `input_shape`/`input_dim` argument to a layer. When using Sequential models, prefer using an `Input(shape)` object as the first layer in the model instead.\n",
            "  super().__init__(activity_regularizer=activity_regularizer, **kwargs)\n"
          ]
        },
        {
          "output_type": "stream",
          "name": "stdout",
          "text": [
            " -> Min Val Loss (MSE): 904.0089\n",
            "PSO Eval 29: N1=37, N2=43, DR=0.340, LR=0.00780, BS=21"
          ]
        },
        {
          "output_type": "stream",
          "name": "stderr",
          "text": [
            "/usr/local/lib/python3.11/dist-packages/keras/src/layers/core/dense.py:87: UserWarning: Do not pass an `input_shape`/`input_dim` argument to a layer. When using Sequential models, prefer using an `Input(shape)` object as the first layer in the model instead.\n",
            "  super().__init__(activity_regularizer=activity_regularizer, **kwargs)\n"
          ]
        },
        {
          "output_type": "stream",
          "name": "stdout",
          "text": [
            " -> Min Val Loss (MSE): 1583.7374\n",
            "PSO Eval 30: N1=103, N2=58, DR=0.350, LR=0.00831, BS=41"
          ]
        },
        {
          "output_type": "stream",
          "name": "stderr",
          "text": [
            "/usr/local/lib/python3.11/dist-packages/keras/src/layers/core/dense.py:87: UserWarning: Do not pass an `input_shape`/`input_dim` argument to a layer. When using Sequential models, prefer using an `Input(shape)` object as the first layer in the model instead.\n",
            "  super().__init__(activity_regularizer=activity_regularizer, **kwargs)\n"
          ]
        },
        {
          "output_type": "stream",
          "name": "stdout",
          "text": [
            " -> Min Val Loss (MSE): 819.6034\n",
            "PSO Eval 31: N1=123, N2=62, DR=0.360, LR=0.00335, BS=24"
          ]
        },
        {
          "output_type": "stream",
          "name": "stderr",
          "text": [
            "/usr/local/lib/python3.11/dist-packages/keras/src/layers/core/dense.py:87: UserWarning: Do not pass an `input_shape`/`input_dim` argument to a layer. When using Sequential models, prefer using an `Input(shape)` object as the first layer in the model instead.\n",
            "  super().__init__(activity_regularizer=activity_regularizer, **kwargs)\n"
          ]
        },
        {
          "output_type": "stream",
          "name": "stdout",
          "text": [
            " -> Min Val Loss (MSE): 825.4091\n",
            "PSO Eval 32: N1=99, N2=25, DR=0.486, LR=0.00626, BS=47"
          ]
        },
        {
          "output_type": "stream",
          "name": "stderr",
          "text": [
            "/usr/local/lib/python3.11/dist-packages/keras/src/layers/core/dense.py:87: UserWarning: Do not pass an `input_shape`/`input_dim` argument to a layer. When using Sequential models, prefer using an `Input(shape)` object as the first layer in the model instead.\n",
            "  super().__init__(activity_regularizer=activity_regularizer, **kwargs)\n"
          ]
        },
        {
          "output_type": "stream",
          "name": "stdout",
          "text": [
            " -> Min Val Loss (MSE): 4088.8418\n",
            "PSO Eval 33: N1=72, N2=51, DR=0.374, LR=0.00082, BS=37"
          ]
        },
        {
          "output_type": "stream",
          "name": "stderr",
          "text": [
            "/usr/local/lib/python3.11/dist-packages/keras/src/layers/core/dense.py:87: UserWarning: Do not pass an `input_shape`/`input_dim` argument to a layer. When using Sequential models, prefer using an `Input(shape)` object as the first layer in the model instead.\n",
            "  super().__init__(activity_regularizer=activity_regularizer, **kwargs)\n"
          ]
        },
        {
          "output_type": "stream",
          "name": "stdout",
          "text": [
            " -> Min Val Loss (MSE): 905.4291\n",
            "PSO Eval 34: N1=83, N2=27, DR=0.315, LR=0.00684, BS=28"
          ]
        },
        {
          "output_type": "stream",
          "name": "stderr",
          "text": [
            "/usr/local/lib/python3.11/dist-packages/keras/src/layers/core/dense.py:87: UserWarning: Do not pass an `input_shape`/`input_dim` argument to a layer. When using Sequential models, prefer using an `Input(shape)` object as the first layer in the model instead.\n",
            "  super().__init__(activity_regularizer=activity_regularizer, **kwargs)\n"
          ]
        },
        {
          "output_type": "stream",
          "name": "stdout",
          "text": [
            " -> Min Val Loss (MSE): 914.5728\n",
            "PSO Eval 35: N1=75, N2=29, DR=0.407, LR=0.00965, BS=36"
          ]
        },
        {
          "output_type": "stream",
          "name": "stderr",
          "text": [
            "/usr/local/lib/python3.11/dist-packages/keras/src/layers/core/dense.py:87: UserWarning: Do not pass an `input_shape`/`input_dim` argument to a layer. When using Sequential models, prefer using an `Input(shape)` object as the first layer in the model instead.\n",
            "  super().__init__(activity_regularizer=activity_regularizer, **kwargs)\n"
          ]
        },
        {
          "output_type": "stream",
          "name": "stdout",
          "text": [
            " -> Min Val Loss (MSE): 1287.1509\n",
            "PSO Eval 36: N1=57, N2=34, DR=0.129, LR=0.00265, BS=55"
          ]
        },
        {
          "output_type": "stream",
          "name": "stderr",
          "text": [
            "/usr/local/lib/python3.11/dist-packages/keras/src/layers/core/dense.py:87: UserWarning: Do not pass an `input_shape`/`input_dim` argument to a layer. When using Sequential models, prefer using an `Input(shape)` object as the first layer in the model instead.\n",
            "  super().__init__(activity_regularizer=activity_regularizer, **kwargs)\n"
          ]
        },
        {
          "output_type": "stream",
          "name": "stdout",
          "text": [
            " -> Min Val Loss (MSE): 903.1989\n",
            "PSO Eval 37: N1=75, N2=37, DR=0.455, LR=0.00575, BS=54"
          ]
        },
        {
          "output_type": "stream",
          "name": "stderr",
          "text": [
            "/usr/local/lib/python3.11/dist-packages/keras/src/layers/core/dense.py:87: UserWarning: Do not pass an `input_shape`/`input_dim` argument to a layer. When using Sequential models, prefer using an `Input(shape)` object as the first layer in the model instead.\n",
            "  super().__init__(activity_regularizer=activity_regularizer, **kwargs)\n"
          ]
        },
        {
          "output_type": "stream",
          "name": "stdout",
          "text": [
            " -> Min Val Loss (MSE): 1131.5695\n",
            "PSO Eval 38: N1=83, N2=35, DR=0.430, LR=0.00184, BS=36"
          ]
        },
        {
          "output_type": "stream",
          "name": "stderr",
          "text": [
            "/usr/local/lib/python3.11/dist-packages/keras/src/layers/core/dense.py:87: UserWarning: Do not pass an `input_shape`/`input_dim` argument to a layer. When using Sequential models, prefer using an `Input(shape)` object as the first layer in the model instead.\n",
            "  super().__init__(activity_regularizer=activity_regularizer, **kwargs)\n"
          ]
        },
        {
          "output_type": "stream",
          "name": "stdout",
          "text": [
            " -> Min Val Loss (MSE): 3040.0264\n",
            "PSO Eval 39: N1=123, N2=38, DR=0.443, LR=0.00806, BS=40"
          ]
        },
        {
          "output_type": "stream",
          "name": "stderr",
          "text": [
            "/usr/local/lib/python3.11/dist-packages/keras/src/layers/core/dense.py:87: UserWarning: Do not pass an `input_shape`/`input_dim` argument to a layer. When using Sequential models, prefer using an `Input(shape)` object as the first layer in the model instead.\n",
            "  super().__init__(activity_regularizer=activity_regularizer, **kwargs)\n"
          ]
        },
        {
          "output_type": "stream",
          "name": "stdout",
          "text": [
            " -> Min Val Loss (MSE): 914.3671\n",
            "PSO Eval 40: N1=77, N2=59, DR=0.241, LR=0.00883, BS=35"
          ]
        },
        {
          "output_type": "stream",
          "name": "stderr",
          "text": [
            "/usr/local/lib/python3.11/dist-packages/keras/src/layers/core/dense.py:87: UserWarning: Do not pass an `input_shape`/`input_dim` argument to a layer. When using Sequential models, prefer using an `Input(shape)` object as the first layer in the model instead.\n",
            "  super().__init__(activity_regularizer=activity_regularizer, **kwargs)\n",
            "pyswarms.single.global_best:  20%|██        |2/10, best_cost=324"
          ]
        },
        {
          "output_type": "stream",
          "name": "stdout",
          "text": [
            " -> Min Val Loss (MSE): 486.9587\n",
            "PSO Eval 41: N1=74, N2=35, DR=0.390, LR=0.00138, BS=40"
          ]
        },
        {
          "output_type": "stream",
          "name": "stderr",
          "text": [
            "/usr/local/lib/python3.11/dist-packages/keras/src/layers/core/dense.py:87: UserWarning: Do not pass an `input_shape`/`input_dim` argument to a layer. When using Sequential models, prefer using an `Input(shape)` object as the first layer in the model instead.\n",
            "  super().__init__(activity_regularizer=activity_regularizer, **kwargs)\n"
          ]
        },
        {
          "output_type": "stream",
          "name": "stdout",
          "text": [
            " -> Min Val Loss (MSE): 2637.7952\n",
            "PSO Eval 42: N1=65, N2=31, DR=0.335, LR=0.00706, BS=51"
          ]
        },
        {
          "output_type": "stream",
          "name": "stderr",
          "text": [
            "/usr/local/lib/python3.11/dist-packages/keras/src/layers/core/dense.py:87: UserWarning: Do not pass an `input_shape`/`input_dim` argument to a layer. When using Sequential models, prefer using an `Input(shape)` object as the first layer in the model instead.\n",
            "  super().__init__(activity_regularizer=activity_regularizer, **kwargs)\n"
          ]
        },
        {
          "output_type": "stream",
          "name": "stdout",
          "text": [
            " -> Min Val Loss (MSE): 731.1176\n",
            "PSO Eval 43: N1=54, N2=51, DR=0.351, LR=0.00622, BS=46"
          ]
        },
        {
          "output_type": "stream",
          "name": "stderr",
          "text": [
            "/usr/local/lib/python3.11/dist-packages/keras/src/layers/core/dense.py:87: UserWarning: Do not pass an `input_shape`/`input_dim` argument to a layer. When using Sequential models, prefer using an `Input(shape)` object as the first layer in the model instead.\n",
            "  super().__init__(activity_regularizer=activity_regularizer, **kwargs)\n"
          ]
        },
        {
          "output_type": "stream",
          "name": "stdout",
          "text": [
            " -> Min Val Loss (MSE): 784.0682\n",
            "PSO Eval 44: N1=87, N2=54, DR=0.280, LR=0.00490, BS=48"
          ]
        },
        {
          "output_type": "stream",
          "name": "stderr",
          "text": [
            "/usr/local/lib/python3.11/dist-packages/keras/src/layers/core/dense.py:87: UserWarning: Do not pass an `input_shape`/`input_dim` argument to a layer. When using Sequential models, prefer using an `Input(shape)` object as the first layer in the model instead.\n",
            "  super().__init__(activity_regularizer=activity_regularizer, **kwargs)\n"
          ]
        },
        {
          "output_type": "stream",
          "name": "stdout",
          "text": [
            " -> Min Val Loss (MSE): 1827.4148\n",
            "PSO Eval 45: N1=106, N2=24, DR=0.107, LR=0.00402, BS=37"
          ]
        },
        {
          "output_type": "stream",
          "name": "stderr",
          "text": [
            "/usr/local/lib/python3.11/dist-packages/keras/src/layers/core/dense.py:87: UserWarning: Do not pass an `input_shape`/`input_dim` argument to a layer. When using Sequential models, prefer using an `Input(shape)` object as the first layer in the model instead.\n",
            "  super().__init__(activity_regularizer=activity_regularizer, **kwargs)\n"
          ]
        },
        {
          "output_type": "stream",
          "name": "stdout",
          "text": [
            " -> Min Val Loss (MSE): 447.1104\n",
            "PSO Eval 46: N1=90, N2=38, DR=0.182, LR=0.00902, BS=36"
          ]
        },
        {
          "output_type": "stream",
          "name": "stderr",
          "text": [
            "/usr/local/lib/python3.11/dist-packages/keras/src/layers/core/dense.py:87: UserWarning: Do not pass an `input_shape`/`input_dim` argument to a layer. When using Sequential models, prefer using an `Input(shape)` object as the first layer in the model instead.\n",
            "  super().__init__(activity_regularizer=activity_regularizer, **kwargs)\n"
          ]
        },
        {
          "output_type": "stream",
          "name": "stdout",
          "text": [
            " -> Min Val Loss (MSE): 618.3513\n",
            "PSO Eval 47: N1=70, N2=45, DR=0.233, LR=0.00433, BS=38"
          ]
        },
        {
          "output_type": "stream",
          "name": "stderr",
          "text": [
            "/usr/local/lib/python3.11/dist-packages/keras/src/layers/core/dense.py:87: UserWarning: Do not pass an `input_shape`/`input_dim` argument to a layer. When using Sequential models, prefer using an `Input(shape)` object as the first layer in the model instead.\n",
            "  super().__init__(activity_regularizer=activity_regularizer, **kwargs)\n"
          ]
        },
        {
          "output_type": "stream",
          "name": "stdout",
          "text": [
            " -> Min Val Loss (MSE): 557.8444\n",
            "PSO Eval 48: N1=73, N2=40, DR=0.119, LR=0.00978, BS=26"
          ]
        },
        {
          "output_type": "stream",
          "name": "stderr",
          "text": [
            "/usr/local/lib/python3.11/dist-packages/keras/src/layers/core/dense.py:87: UserWarning: Do not pass an `input_shape`/`input_dim` argument to a layer. When using Sequential models, prefer using an `Input(shape)` object as the first layer in the model instead.\n",
            "  super().__init__(activity_regularizer=activity_regularizer, **kwargs)\n"
          ]
        },
        {
          "output_type": "stream",
          "name": "stdout",
          "text": [
            " -> Min Val Loss (MSE): 919.4354\n",
            "PSO Eval 49: N1=42, N2=47, DR=0.350, LR=0.00186, BS=30"
          ]
        },
        {
          "output_type": "stream",
          "name": "stderr",
          "text": [
            "/usr/local/lib/python3.11/dist-packages/keras/src/layers/core/dense.py:87: UserWarning: Do not pass an `input_shape`/`input_dim` argument to a layer. When using Sequential models, prefer using an `Input(shape)` object as the first layer in the model instead.\n",
            "  super().__init__(activity_regularizer=activity_regularizer, **kwargs)\n"
          ]
        },
        {
          "output_type": "stream",
          "name": "stdout",
          "text": [
            " -> Min Val Loss (MSE): 1181.7769\n",
            "PSO Eval 50: N1=102, N2=54, DR=0.222, LR=0.00578, BS=43"
          ]
        },
        {
          "output_type": "stream",
          "name": "stderr",
          "text": [
            "/usr/local/lib/python3.11/dist-packages/keras/src/layers/core/dense.py:87: UserWarning: Do not pass an `input_shape`/`input_dim` argument to a layer. When using Sequential models, prefer using an `Input(shape)` object as the first layer in the model instead.\n",
            "  super().__init__(activity_regularizer=activity_regularizer, **kwargs)\n"
          ]
        },
        {
          "output_type": "stream",
          "name": "stdout",
          "text": [
            " -> Min Val Loss (MSE): 672.9925\n",
            "PSO Eval 51: N1=118, N2=61, DR=0.384, LR=0.00145, BS=26"
          ]
        },
        {
          "output_type": "stream",
          "name": "stderr",
          "text": [
            "/usr/local/lib/python3.11/dist-packages/keras/src/layers/core/dense.py:87: UserWarning: Do not pass an `input_shape`/`input_dim` argument to a layer. When using Sequential models, prefer using an `Input(shape)` object as the first layer in the model instead.\n",
            "  super().__init__(activity_regularizer=activity_regularizer, **kwargs)\n"
          ]
        },
        {
          "output_type": "stream",
          "name": "stdout",
          "text": [
            " -> Min Val Loss (MSE): 844.6840\n",
            "PSO Eval 52: N1=87, N2=30, DR=0.179, LR=0.00110, BS=47"
          ]
        },
        {
          "output_type": "stream",
          "name": "stderr",
          "text": [
            "/usr/local/lib/python3.11/dist-packages/keras/src/layers/core/dense.py:87: UserWarning: Do not pass an `input_shape`/`input_dim` argument to a layer. When using Sequential models, prefer using an `Input(shape)` object as the first layer in the model instead.\n",
            "  super().__init__(activity_regularizer=activity_regularizer, **kwargs)\n"
          ]
        },
        {
          "output_type": "stream",
          "name": "stdout",
          "text": [
            " -> Min Val Loss (MSE): 620.9392\n",
            "PSO Eval 53: N1=63, N2=51, DR=0.227, LR=0.00175, BS=39"
          ]
        },
        {
          "output_type": "stream",
          "name": "stderr",
          "text": [
            "/usr/local/lib/python3.11/dist-packages/keras/src/layers/core/dense.py:87: UserWarning: Do not pass an `input_shape`/`input_dim` argument to a layer. When using Sequential models, prefer using an `Input(shape)` object as the first layer in the model instead.\n",
            "  super().__init__(activity_regularizer=activity_regularizer, **kwargs)\n"
          ]
        },
        {
          "output_type": "stream",
          "name": "stdout",
          "text": [
            " -> Min Val Loss (MSE): 385.8745\n",
            "PSO Eval 54: N1=79, N2=36, DR=0.279, LR=0.00685, BS=35"
          ]
        },
        {
          "output_type": "stream",
          "name": "stderr",
          "text": [
            "/usr/local/lib/python3.11/dist-packages/keras/src/layers/core/dense.py:87: UserWarning: Do not pass an `input_shape`/`input_dim` argument to a layer. When using Sequential models, prefer using an `Input(shape)` object as the first layer in the model instead.\n",
            "  super().__init__(activity_regularizer=activity_regularizer, **kwargs)\n"
          ]
        },
        {
          "output_type": "stream",
          "name": "stdout",
          "text": [
            " -> Min Val Loss (MSE): 1323.2438\n",
            "PSO Eval 55: N1=72, N2=34, DR=0.360, LR=0.00365, BS=41"
          ]
        },
        {
          "output_type": "stream",
          "name": "stderr",
          "text": [
            "/usr/local/lib/python3.11/dist-packages/keras/src/layers/core/dense.py:87: UserWarning: Do not pass an `input_shape`/`input_dim` argument to a layer. When using Sequential models, prefer using an `Input(shape)` object as the first layer in the model instead.\n",
            "  super().__init__(activity_regularizer=activity_regularizer, **kwargs)\n"
          ]
        },
        {
          "output_type": "stream",
          "name": "stdout",
          "text": [
            " -> Min Val Loss (MSE): 2511.6062\n",
            "PSO Eval 56: N1=56, N2=41, DR=0.115, LR=0.00543, BS=54"
          ]
        },
        {
          "output_type": "stream",
          "name": "stderr",
          "text": [
            "/usr/local/lib/python3.11/dist-packages/keras/src/layers/core/dense.py:87: UserWarning: Do not pass an `input_shape`/`input_dim` argument to a layer. When using Sequential models, prefer using an `Input(shape)` object as the first layer in the model instead.\n",
            "  super().__init__(activity_regularizer=activity_regularizer, **kwargs)\n"
          ]
        },
        {
          "output_type": "stream",
          "name": "stdout",
          "text": [
            " -> Min Val Loss (MSE): 436.8981\n",
            "PSO Eval 57: N1=67, N2=44, DR=0.494, LR=0.00447, BS=50"
          ]
        },
        {
          "output_type": "stream",
          "name": "stderr",
          "text": [
            "/usr/local/lib/python3.11/dist-packages/keras/src/layers/core/dense.py:87: UserWarning: Do not pass an `input_shape`/`input_dim` argument to a layer. When using Sequential models, prefer using an `Input(shape)` object as the first layer in the model instead.\n",
            "  super().__init__(activity_regularizer=activity_regularizer, **kwargs)\n"
          ]
        },
        {
          "output_type": "stream",
          "name": "stdout",
          "text": [
            " -> Min Val Loss (MSE): 2890.4448\n",
            "PSO Eval 58: N1=73, N2=41, DR=0.458, LR=0.00241, BS=41"
          ]
        },
        {
          "output_type": "stream",
          "name": "stderr",
          "text": [
            "/usr/local/lib/python3.11/dist-packages/keras/src/layers/core/dense.py:87: UserWarning: Do not pass an `input_shape`/`input_dim` argument to a layer. When using Sequential models, prefer using an `Input(shape)` object as the first layer in the model instead.\n",
            "  super().__init__(activity_regularizer=activity_regularizer, **kwargs)\n"
          ]
        },
        {
          "output_type": "stream",
          "name": "stdout",
          "text": [
            " -> Min Val Loss (MSE): 3159.2686\n",
            "PSO Eval 59: N1=103, N2=44, DR=0.120, LR=0.00771, BS=42"
          ]
        },
        {
          "output_type": "stream",
          "name": "stderr",
          "text": [
            "/usr/local/lib/python3.11/dist-packages/keras/src/layers/core/dense.py:87: UserWarning: Do not pass an `input_shape`/`input_dim` argument to a layer. When using Sequential models, prefer using an `Input(shape)` object as the first layer in the model instead.\n",
            "  super().__init__(activity_regularizer=activity_regularizer, **kwargs)\n"
          ]
        },
        {
          "output_type": "stream",
          "name": "stdout",
          "text": [
            " -> Min Val Loss (MSE): 722.7545\n",
            "PSO Eval 60: N1=70, N2=57, DR=0.357, LR=0.00361, BS=38"
          ]
        },
        {
          "output_type": "stream",
          "name": "stderr",
          "text": [
            "/usr/local/lib/python3.11/dist-packages/keras/src/layers/core/dense.py:87: UserWarning: Do not pass an `input_shape`/`input_dim` argument to a layer. When using Sequential models, prefer using an `Input(shape)` object as the first layer in the model instead.\n",
            "  super().__init__(activity_regularizer=activity_regularizer, **kwargs)\n",
            "pyswarms.single.global_best:  30%|███       |3/10, best_cost=324"
          ]
        },
        {
          "output_type": "stream",
          "name": "stdout",
          "text": [
            " -> Min Val Loss (MSE): 1117.3143\n",
            "PSO Eval 61: N1=67, N2=43, DR=0.385, LR=0.00402, BS=43"
          ]
        },
        {
          "output_type": "stream",
          "name": "stderr",
          "text": [
            "/usr/local/lib/python3.11/dist-packages/keras/src/layers/core/dense.py:87: UserWarning: Do not pass an `input_shape`/`input_dim` argument to a layer. When using Sequential models, prefer using an `Input(shape)` object as the first layer in the model instead.\n",
            "  super().__init__(activity_regularizer=activity_regularizer, **kwargs)\n"
          ]
        },
        {
          "output_type": "stream",
          "name": "stdout",
          "text": [
            " -> Min Val Loss (MSE): 1026.7903\n",
            "PSO Eval 62: N1=61, N2=33, DR=0.232, LR=0.00410, BS=47"
          ]
        },
        {
          "output_type": "stream",
          "name": "stderr",
          "text": [
            "/usr/local/lib/python3.11/dist-packages/keras/src/layers/core/dense.py:87: UserWarning: Do not pass an `input_shape`/`input_dim` argument to a layer. When using Sequential models, prefer using an `Input(shape)` object as the first layer in the model instead.\n",
            "  super().__init__(activity_regularizer=activity_regularizer, **kwargs)\n"
          ]
        },
        {
          "output_type": "stream",
          "name": "stdout",
          "text": [
            " -> Min Val Loss (MSE): 728.8758\n",
            "PSO Eval 63: N1=54, N2=51, DR=0.251, LR=0.00724, BS=46"
          ]
        },
        {
          "output_type": "stream",
          "name": "stderr",
          "text": [
            "/usr/local/lib/python3.11/dist-packages/keras/src/layers/core/dense.py:87: UserWarning: Do not pass an `input_shape`/`input_dim` argument to a layer. When using Sequential models, prefer using an `Input(shape)` object as the first layer in the model instead.\n",
            "  super().__init__(activity_regularizer=activity_regularizer, **kwargs)\n"
          ]
        },
        {
          "output_type": "stream",
          "name": "stdout",
          "text": [
            " -> Min Val Loss (MSE): 751.2339\n",
            "PSO Eval 64: N1=87, N2=53, DR=0.276, LR=0.00364, BS=47"
          ]
        },
        {
          "output_type": "stream",
          "name": "stderr",
          "text": [
            "/usr/local/lib/python3.11/dist-packages/keras/src/layers/core/dense.py:87: UserWarning: Do not pass an `input_shape`/`input_dim` argument to a layer. When using Sequential models, prefer using an `Input(shape)` object as the first layer in the model instead.\n",
            "  super().__init__(activity_regularizer=activity_regularizer, **kwargs)\n"
          ]
        },
        {
          "output_type": "stream",
          "name": "stdout",
          "text": [
            " -> Min Val Loss (MSE): 493.2733\n",
            "PSO Eval 65: N1=96, N2=27, DR=0.386, LR=0.00804, BS=40"
          ]
        },
        {
          "output_type": "stream",
          "name": "stderr",
          "text": [
            "/usr/local/lib/python3.11/dist-packages/keras/src/layers/core/dense.py:87: UserWarning: Do not pass an `input_shape`/`input_dim` argument to a layer. When using Sequential models, prefer using an `Input(shape)` object as the first layer in the model instead.\n",
            "  super().__init__(activity_regularizer=activity_regularizer, **kwargs)\n"
          ]
        },
        {
          "output_type": "stream",
          "name": "stdout",
          "text": [
            " -> Min Val Loss (MSE): 1317.7279\n",
            "PSO Eval 66: N1=83, N2=44, DR=0.446, LR=0.00111, BS=41"
          ]
        },
        {
          "output_type": "stream",
          "name": "stderr",
          "text": [
            "/usr/local/lib/python3.11/dist-packages/keras/src/layers/core/dense.py:87: UserWarning: Do not pass an `input_shape`/`input_dim` argument to a layer. When using Sequential models, prefer using an `Input(shape)` object as the first layer in the model instead.\n",
            "  super().__init__(activity_regularizer=activity_regularizer, **kwargs)\n"
          ]
        },
        {
          "output_type": "stream",
          "name": "stdout",
          "text": [
            " -> Min Val Loss (MSE): 1679.6759\n",
            "PSO Eval 67: N1=59, N2=46, DR=0.222, LR=0.00941, BS=40"
          ]
        },
        {
          "output_type": "stream",
          "name": "stderr",
          "text": [
            "/usr/local/lib/python3.11/dist-packages/keras/src/layers/core/dense.py:87: UserWarning: Do not pass an `input_shape`/`input_dim` argument to a layer. When using Sequential models, prefer using an `Input(shape)` object as the first layer in the model instead.\n",
            "  super().__init__(activity_regularizer=activity_regularizer, **kwargs)\n"
          ]
        },
        {
          "output_type": "stream",
          "name": "stdout",
          "text": [
            " -> Min Val Loss (MSE): 544.0198\n",
            "PSO Eval 68: N1=53, N2=45, DR=0.361, LR=0.00341, BS=29"
          ]
        },
        {
          "output_type": "stream",
          "name": "stderr",
          "text": [
            "/usr/local/lib/python3.11/dist-packages/keras/src/layers/core/dense.py:87: UserWarning: Do not pass an `input_shape`/`input_dim` argument to a layer. When using Sequential models, prefer using an `Input(shape)` object as the first layer in the model instead.\n",
            "  super().__init__(activity_regularizer=activity_regularizer, **kwargs)\n"
          ]
        },
        {
          "output_type": "stream",
          "name": "stdout",
          "text": [
            " -> Min Val Loss (MSE): 708.9406\n",
            "PSO Eval 69: N1=48, N2=51, DR=0.281, LR=0.00570, BS=40"
          ]
        },
        {
          "output_type": "stream",
          "name": "stderr",
          "text": [
            "/usr/local/lib/python3.11/dist-packages/keras/src/layers/core/dense.py:87: UserWarning: Do not pass an `input_shape`/`input_dim` argument to a layer. When using Sequential models, prefer using an `Input(shape)` object as the first layer in the model instead.\n",
            "  super().__init__(activity_regularizer=activity_regularizer, **kwargs)\n"
          ]
        },
        {
          "output_type": "stream",
          "name": "stdout",
          "text": [
            " -> Min Val Loss (MSE): 3105.6177\n",
            "PSO Eval 70: N1=97, N2=50, DR=0.410, LR=0.00233, BS=45"
          ]
        },
        {
          "output_type": "stream",
          "name": "stderr",
          "text": [
            "/usr/local/lib/python3.11/dist-packages/keras/src/layers/core/dense.py:87: UserWarning: Do not pass an `input_shape`/`input_dim` argument to a layer. When using Sequential models, prefer using an `Input(shape)` object as the first layer in the model instead.\n",
            "  super().__init__(activity_regularizer=activity_regularizer, **kwargs)\n"
          ]
        },
        {
          "output_type": "stream",
          "name": "stdout",
          "text": [
            " -> Min Val Loss (MSE): 781.6605\n",
            "PSO Eval 71: N1=103, N2=60, DR=0.330, LR=0.00191, BS=29"
          ]
        },
        {
          "output_type": "stream",
          "name": "stderr",
          "text": [
            "/usr/local/lib/python3.11/dist-packages/keras/src/layers/core/dense.py:87: UserWarning: Do not pass an `input_shape`/`input_dim` argument to a layer. When using Sequential models, prefer using an `Input(shape)` object as the first layer in the model instead.\n",
            "  super().__init__(activity_regularizer=activity_regularizer, **kwargs)\n"
          ]
        },
        {
          "output_type": "stream",
          "name": "stdout",
          "text": [
            " -> Min Val Loss (MSE): 596.0665\n",
            "PSO Eval 72: N1=76, N2=39, DR=0.206, LR=0.00318, BS=46"
          ]
        },
        {
          "output_type": "stream",
          "name": "stderr",
          "text": [
            "/usr/local/lib/python3.11/dist-packages/keras/src/layers/core/dense.py:87: UserWarning: Do not pass an `input_shape`/`input_dim` argument to a layer. When using Sequential models, prefer using an `Input(shape)` object as the first layer in the model instead.\n",
            "  super().__init__(activity_regularizer=activity_regularizer, **kwargs)\n"
          ]
        },
        {
          "output_type": "stream",
          "name": "stdout",
          "text": [
            " -> Min Val Loss (MSE): 1282.1024\n",
            "PSO Eval 73: N1=53, N2=51, DR=0.384, LR=0.00957, BS=41"
          ]
        },
        {
          "output_type": "stream",
          "name": "stderr",
          "text": [
            "/usr/local/lib/python3.11/dist-packages/keras/src/layers/core/dense.py:87: UserWarning: Do not pass an `input_shape`/`input_dim` argument to a layer. When using Sequential models, prefer using an `Input(shape)` object as the first layer in the model instead.\n",
            "  super().__init__(activity_regularizer=activity_regularizer, **kwargs)\n"
          ]
        },
        {
          "output_type": "stream",
          "name": "stdout",
          "text": [
            " -> Min Val Loss (MSE): 1122.6691\n",
            "PSO Eval 74: N1=76, N2=38, DR=0.116, LR=0.00733, BS=40"
          ]
        },
        {
          "output_type": "stream",
          "name": "stderr",
          "text": [
            "/usr/local/lib/python3.11/dist-packages/keras/src/layers/core/dense.py:87: UserWarning: Do not pass an `input_shape`/`input_dim` argument to a layer. When using Sequential models, prefer using an `Input(shape)` object as the first layer in the model instead.\n",
            "  super().__init__(activity_regularizer=activity_regularizer, **kwargs)\n"
          ]
        },
        {
          "output_type": "stream",
          "name": "stdout",
          "text": [
            " -> Min Val Loss (MSE): 354.5379\n",
            "PSO Eval 75: N1=68, N2=40, DR=0.274, LR=0.00183, BS=45"
          ]
        },
        {
          "output_type": "stream",
          "name": "stderr",
          "text": [
            "/usr/local/lib/python3.11/dist-packages/keras/src/layers/core/dense.py:87: UserWarning: Do not pass an `input_shape`/`input_dim` argument to a layer. When using Sequential models, prefer using an `Input(shape)` object as the first layer in the model instead.\n",
            "  super().__init__(activity_regularizer=activity_regularizer, **kwargs)\n"
          ]
        },
        {
          "output_type": "stream",
          "name": "stdout",
          "text": [
            " -> Min Val Loss (MSE): 640.7744\n",
            "PSO Eval 76: N1=55, N2=49, DR=0.461, LR=0.00934, BS=52"
          ]
        },
        {
          "output_type": "stream",
          "name": "stderr",
          "text": [
            "/usr/local/lib/python3.11/dist-packages/keras/src/layers/core/dense.py:87: UserWarning: Do not pass an `input_shape`/`input_dim` argument to a layer. When using Sequential models, prefer using an `Input(shape)` object as the first layer in the model instead.\n",
            "  super().__init__(activity_regularizer=activity_regularizer, **kwargs)\n"
          ]
        },
        {
          "output_type": "stream",
          "name": "stdout",
          "text": [
            " -> Min Val Loss (MSE): 786.5782\n",
            "PSO Eval 77: N1=57, N2=51, DR=0.413, LR=0.00751, BS=46"
          ]
        },
        {
          "output_type": "stream",
          "name": "stderr",
          "text": [
            "/usr/local/lib/python3.11/dist-packages/keras/src/layers/core/dense.py:87: UserWarning: Do not pass an `input_shape`/`input_dim` argument to a layer. When using Sequential models, prefer using an `Input(shape)` object as the first layer in the model instead.\n",
            "  super().__init__(activity_regularizer=activity_regularizer, **kwargs)\n"
          ]
        },
        {
          "output_type": "stream",
          "name": "stdout",
          "text": [
            " -> Min Val Loss (MSE): 2387.5356\n",
            "PSO Eval 78: N1=61, N2=46, DR=0.240, LR=0.00332, BS=43"
          ]
        },
        {
          "output_type": "stream",
          "name": "stderr",
          "text": [
            "/usr/local/lib/python3.11/dist-packages/keras/src/layers/core/dense.py:87: UserWarning: Do not pass an `input_shape`/`input_dim` argument to a layer. When using Sequential models, prefer using an `Input(shape)` object as the first layer in the model instead.\n",
            "  super().__init__(activity_regularizer=activity_regularizer, **kwargs)\n"
          ]
        },
        {
          "output_type": "stream",
          "name": "stdout",
          "text": [
            " -> Min Val Loss (MSE): 585.0750\n",
            "PSO Eval 79: N1=82, N2=49, DR=0.191, LR=0.00968, BS=43"
          ]
        },
        {
          "output_type": "stream",
          "name": "stderr",
          "text": [
            "/usr/local/lib/python3.11/dist-packages/keras/src/layers/core/dense.py:87: UserWarning: Do not pass an `input_shape`/`input_dim` argument to a layer. When using Sequential models, prefer using an `Input(shape)` object as the first layer in the model instead.\n",
            "  super().__init__(activity_regularizer=activity_regularizer, **kwargs)\n"
          ]
        },
        {
          "output_type": "stream",
          "name": "stdout",
          "text": [
            " -> Min Val Loss (MSE): 1032.9071\n",
            "PSO Eval 80: N1=65, N2=55, DR=0.303, LR=0.00198, BS=41"
          ]
        },
        {
          "output_type": "stream",
          "name": "stderr",
          "text": [
            "/usr/local/lib/python3.11/dist-packages/keras/src/layers/core/dense.py:87: UserWarning: Do not pass an `input_shape`/`input_dim` argument to a layer. When using Sequential models, prefer using an `Input(shape)` object as the first layer in the model instead.\n",
            "  super().__init__(activity_regularizer=activity_regularizer, **kwargs)\n",
            "pyswarms.single.global_best:  40%|████      |4/10, best_cost=324"
          ]
        },
        {
          "output_type": "stream",
          "name": "stdout",
          "text": [
            " -> Min Val Loss (MSE): 461.3289\n",
            "PSO Eval 81: N1=58, N2=52, DR=0.294, LR=0.00633, BS=47"
          ]
        },
        {
          "output_type": "stream",
          "name": "stderr",
          "text": [
            "/usr/local/lib/python3.11/dist-packages/keras/src/layers/core/dense.py:87: UserWarning: Do not pass an `input_shape`/`input_dim` argument to a layer. When using Sequential models, prefer using an `Input(shape)` object as the first layer in the model instead.\n",
            "  super().__init__(activity_regularizer=activity_regularizer, **kwargs)\n"
          ]
        },
        {
          "output_type": "stream",
          "name": "stdout",
          "text": [
            " -> Min Val Loss (MSE): 434.0739\n",
            "PSO Eval 82: N1=57, N2=37, DR=0.462, LR=0.00613, BS=47"
          ]
        },
        {
          "output_type": "stream",
          "name": "stderr",
          "text": [
            "/usr/local/lib/python3.11/dist-packages/keras/src/layers/core/dense.py:87: UserWarning: Do not pass an `input_shape`/`input_dim` argument to a layer. When using Sequential models, prefer using an `Input(shape)` object as the first layer in the model instead.\n",
            "  super().__init__(activity_regularizer=activity_regularizer, **kwargs)\n"
          ]
        },
        {
          "output_type": "stream",
          "name": "stdout",
          "text": [
            " -> Min Val Loss (MSE): 4994.8389\n",
            "PSO Eval 83: N1=54, N2=51, DR=0.440, LR=0.00592, BS=46"
          ]
        },
        {
          "output_type": "stream",
          "name": "stderr",
          "text": [
            "/usr/local/lib/python3.11/dist-packages/keras/src/layers/core/dense.py:87: UserWarning: Do not pass an `input_shape`/`input_dim` argument to a layer. When using Sequential models, prefer using an `Input(shape)` object as the first layer in the model instead.\n",
            "  super().__init__(activity_regularizer=activity_regularizer, **kwargs)\n"
          ]
        },
        {
          "output_type": "stream",
          "name": "stdout",
          "text": [
            " -> Min Val Loss (MSE): 822.2552\n",
            "PSO Eval 84: N1=83, N2=53, DR=0.233, LR=0.00358, BS=46"
          ]
        },
        {
          "output_type": "stream",
          "name": "stderr",
          "text": [
            "/usr/local/lib/python3.11/dist-packages/keras/src/layers/core/dense.py:87: UserWarning: Do not pass an `input_shape`/`input_dim` argument to a layer. When using Sequential models, prefer using an `Input(shape)` object as the first layer in the model instead.\n",
            "  super().__init__(activity_regularizer=activity_regularizer, **kwargs)\n"
          ]
        },
        {
          "output_type": "stream",
          "name": "stdout",
          "text": [
            " -> Min Val Loss (MSE): 330.2956\n",
            "PSO Eval 85: N1=87, N2=32, DR=0.473, LR=0.00865, BS=43"
          ]
        },
        {
          "output_type": "stream",
          "name": "stderr",
          "text": [
            "/usr/local/lib/python3.11/dist-packages/keras/src/layers/core/dense.py:87: UserWarning: Do not pass an `input_shape`/`input_dim` argument to a layer. When using Sequential models, prefer using an `Input(shape)` object as the first layer in the model instead.\n",
            "  super().__init__(activity_regularizer=activity_regularizer, **kwargs)\n"
          ]
        },
        {
          "output_type": "stream",
          "name": "stdout",
          "text": [
            " -> Min Val Loss (MSE): 1256.2000\n",
            "PSO Eval 86: N1=77, N2=49, DR=0.186, LR=0.00471, BS=45"
          ]
        },
        {
          "output_type": "stream",
          "name": "stderr",
          "text": [
            "/usr/local/lib/python3.11/dist-packages/keras/src/layers/core/dense.py:87: UserWarning: Do not pass an `input_shape`/`input_dim` argument to a layer. When using Sequential models, prefer using an `Input(shape)` object as the first layer in the model instead.\n",
            "  super().__init__(activity_regularizer=activity_regularizer, **kwargs)\n"
          ]
        },
        {
          "output_type": "stream",
          "name": "stdout",
          "text": [
            " -> Min Val Loss (MSE): 694.2007\n",
            "PSO Eval 87: N1=59, N2=47, DR=0.189, LR=0.00423, BS=39"
          ]
        },
        {
          "output_type": "stream",
          "name": "stderr",
          "text": [
            "/usr/local/lib/python3.11/dist-packages/keras/src/layers/core/dense.py:87: UserWarning: Do not pass an `input_shape`/`input_dim` argument to a layer. When using Sequential models, prefer using an `Input(shape)` object as the first layer in the model instead.\n",
            "  super().__init__(activity_regularizer=activity_regularizer, **kwargs)\n"
          ]
        },
        {
          "output_type": "stream",
          "name": "stdout",
          "text": [
            " -> Min Val Loss (MSE): 754.4061\n",
            "PSO Eval 88: N1=36, N2=52, DR=0.103, LR=0.00356, BS=36"
          ]
        },
        {
          "output_type": "stream",
          "name": "stderr",
          "text": [
            "/usr/local/lib/python3.11/dist-packages/keras/src/layers/core/dense.py:87: UserWarning: Do not pass an `input_shape`/`input_dim` argument to a layer. When using Sequential models, prefer using an `Input(shape)` object as the first layer in the model instead.\n",
            "  super().__init__(activity_regularizer=activity_regularizer, **kwargs)\n"
          ]
        },
        {
          "output_type": "stream",
          "name": "stdout",
          "text": [
            " -> Min Val Loss (MSE): 417.8913\n",
            "PSO Eval 89: N1=51, N2=54, DR=0.159, LR=0.00594, BS=48"
          ]
        },
        {
          "output_type": "stream",
          "name": "stderr",
          "text": [
            "/usr/local/lib/python3.11/dist-packages/keras/src/layers/core/dense.py:87: UserWarning: Do not pass an `input_shape`/`input_dim` argument to a layer. When using Sequential models, prefer using an `Input(shape)` object as the first layer in the model instead.\n",
            "  super().__init__(activity_regularizer=activity_regularizer, **kwargs)\n"
          ]
        },
        {
          "output_type": "stream",
          "name": "stdout",
          "text": [
            " -> Min Val Loss (MSE): 713.7512\n",
            "PSO Eval 90: N1=93, N2=46, DR=0.431, LR=0.00449, BS=47"
          ]
        },
        {
          "output_type": "stream",
          "name": "stderr",
          "text": [
            "/usr/local/lib/python3.11/dist-packages/keras/src/layers/core/dense.py:87: UserWarning: Do not pass an `input_shape`/`input_dim` argument to a layer. When using Sequential models, prefer using an `Input(shape)` object as the first layer in the model instead.\n",
            "  super().__init__(activity_regularizer=activity_regularizer, **kwargs)\n"
          ]
        },
        {
          "output_type": "stream",
          "name": "stdout",
          "text": [
            " -> Min Val Loss (MSE): 951.2673\n",
            "PSO Eval 91: N1=80, N2=58, DR=0.242, LR=0.00048, BS=33"
          ]
        },
        {
          "output_type": "stream",
          "name": "stderr",
          "text": [
            "/usr/local/lib/python3.11/dist-packages/keras/src/layers/core/dense.py:87: UserWarning: Do not pass an `input_shape`/`input_dim` argument to a layer. When using Sequential models, prefer using an `Input(shape)` object as the first layer in the model instead.\n",
            "  super().__init__(activity_regularizer=activity_regularizer, **kwargs)\n"
          ]
        },
        {
          "output_type": "stream",
          "name": "stdout",
          "text": [
            " -> Min Val Loss (MSE): 862.7603\n",
            "PSO Eval 92: N1=66, N2=45, DR=0.167, LR=0.00436, BS=46"
          ]
        },
        {
          "output_type": "stream",
          "name": "stderr",
          "text": [
            "/usr/local/lib/python3.11/dist-packages/keras/src/layers/core/dense.py:87: UserWarning: Do not pass an `input_shape`/`input_dim` argument to a layer. When using Sequential models, prefer using an `Input(shape)` object as the first layer in the model instead.\n",
            "  super().__init__(activity_regularizer=activity_regularizer, **kwargs)\n"
          ]
        },
        {
          "output_type": "stream",
          "name": "stdout",
          "text": [
            " -> Min Val Loss (MSE): 698.3111\n",
            "PSO Eval 93: N1=47, N2=51, DR=0.430, LR=0.00493, BS=43"
          ]
        },
        {
          "output_type": "stream",
          "name": "stderr",
          "text": [
            "/usr/local/lib/python3.11/dist-packages/keras/src/layers/core/dense.py:87: UserWarning: Do not pass an `input_shape`/`input_dim` argument to a layer. When using Sequential models, prefer using an `Input(shape)` object as the first layer in the model instead.\n",
            "  super().__init__(activity_regularizer=activity_regularizer, **kwargs)\n"
          ]
        },
        {
          "output_type": "stream",
          "name": "stdout",
          "text": [
            " -> Min Val Loss (MSE): 2026.3494\n",
            "PSO Eval 94: N1=66, N2=43, DR=0.288, LR=0.00371, BS=46"
          ]
        },
        {
          "output_type": "stream",
          "name": "stderr",
          "text": [
            "/usr/local/lib/python3.11/dist-packages/keras/src/layers/core/dense.py:87: UserWarning: Do not pass an `input_shape`/`input_dim` argument to a layer. When using Sequential models, prefer using an `Input(shape)` object as the first layer in the model instead.\n",
            "  super().__init__(activity_regularizer=activity_regularizer, **kwargs)\n"
          ]
        },
        {
          "output_type": "stream",
          "name": "stdout",
          "text": [
            " -> Min Val Loss (MSE): 1868.9568\n",
            "PSO Eval 95: N1=64, N2=45, DR=0.135, LR=0.00332, BS=48"
          ]
        },
        {
          "output_type": "stream",
          "name": "stderr",
          "text": [
            "/usr/local/lib/python3.11/dist-packages/keras/src/layers/core/dense.py:87: UserWarning: Do not pass an `input_shape`/`input_dim` argument to a layer. When using Sequential models, prefer using an `Input(shape)` object as the first layer in the model instead.\n",
            "  super().__init__(activity_regularizer=activity_regularizer, **kwargs)\n"
          ]
        },
        {
          "output_type": "stream",
          "name": "stdout",
          "text": [
            " -> Min Val Loss (MSE): 684.5496\n",
            "PSO Eval 96: N1=54, N2=56, DR=0.314, LR=0.00095, BS=51"
          ]
        },
        {
          "output_type": "stream",
          "name": "stderr",
          "text": [
            "/usr/local/lib/python3.11/dist-packages/keras/src/layers/core/dense.py:87: UserWarning: Do not pass an `input_shape`/`input_dim` argument to a layer. When using Sequential models, prefer using an `Input(shape)` object as the first layer in the model instead.\n",
            "  super().__init__(activity_regularizer=activity_regularizer, **kwargs)\n"
          ]
        },
        {
          "output_type": "stream",
          "name": "stdout",
          "text": [
            " -> Min Val Loss (MSE): 868.4067\n",
            "PSO Eval 97: N1=50, N2=52, DR=0.290, LR=0.00143, BS=44"
          ]
        },
        {
          "output_type": "stream",
          "name": "stderr",
          "text": [
            "/usr/local/lib/python3.11/dist-packages/keras/src/layers/core/dense.py:87: UserWarning: Do not pass an `input_shape`/`input_dim` argument to a layer. When using Sequential models, prefer using an `Input(shape)` object as the first layer in the model instead.\n",
            "  super().__init__(activity_regularizer=activity_regularizer, **kwargs)\n"
          ]
        },
        {
          "output_type": "stream",
          "name": "stdout",
          "text": [
            " -> Min Val Loss (MSE): 930.6202\n",
            "PSO Eval 98: N1=58, N2=47, DR=0.327, LR=0.00132, BS=42"
          ]
        },
        {
          "output_type": "stream",
          "name": "stderr",
          "text": [
            "/usr/local/lib/python3.11/dist-packages/keras/src/layers/core/dense.py:87: UserWarning: Do not pass an `input_shape`/`input_dim` argument to a layer. When using Sequential models, prefer using an `Input(shape)` object as the first layer in the model instead.\n",
            "  super().__init__(activity_regularizer=activity_regularizer, **kwargs)\n"
          ]
        },
        {
          "output_type": "stream",
          "name": "stdout",
          "text": [
            " -> Min Val Loss (MSE): 877.2728\n",
            "PSO Eval 99: N1=76, N2=48, DR=0.238, LR=0.00896, BS=44"
          ]
        },
        {
          "output_type": "stream",
          "name": "stderr",
          "text": [
            "/usr/local/lib/python3.11/dist-packages/keras/src/layers/core/dense.py:87: UserWarning: Do not pass an `input_shape`/`input_dim` argument to a layer. When using Sequential models, prefer using an `Input(shape)` object as the first layer in the model instead.\n",
            "  super().__init__(activity_regularizer=activity_regularizer, **kwargs)\n"
          ]
        },
        {
          "output_type": "stream",
          "name": "stdout",
          "text": [
            " -> Min Val Loss (MSE): 2176.0115\n",
            "PSO Eval 100: N1=59, N2=53, DR=0.177, LR=0.00973, BS=44"
          ]
        },
        {
          "output_type": "stream",
          "name": "stderr",
          "text": [
            "/usr/local/lib/python3.11/dist-packages/keras/src/layers/core/dense.py:87: UserWarning: Do not pass an `input_shape`/`input_dim` argument to a layer. When using Sequential models, prefer using an `Input(shape)` object as the first layer in the model instead.\n",
            "  super().__init__(activity_regularizer=activity_regularizer, **kwargs)\n",
            "pyswarms.single.global_best:  50%|█████     |5/10, best_cost=324"
          ]
        },
        {
          "output_type": "stream",
          "name": "stdout",
          "text": [
            " -> Min Val Loss (MSE): 756.8788\n",
            "PSO Eval 101: N1=49, N2=60, DR=0.145, LR=0.00784, BS=50"
          ]
        },
        {
          "output_type": "stream",
          "name": "stderr",
          "text": [
            "/usr/local/lib/python3.11/dist-packages/keras/src/layers/core/dense.py:87: UserWarning: Do not pass an `input_shape`/`input_dim` argument to a layer. When using Sequential models, prefer using an `Input(shape)` object as the first layer in the model instead.\n",
            "  super().__init__(activity_regularizer=activity_regularizer, **kwargs)\n"
          ]
        },
        {
          "output_type": "stream",
          "name": "stdout",
          "text": [
            " -> Min Val Loss (MSE): 645.9396\n",
            "PSO Eval 102: N1=60, N2=40, DR=0.226, LR=0.00580, BS=49"
          ]
        },
        {
          "output_type": "stream",
          "name": "stderr",
          "text": [
            "/usr/local/lib/python3.11/dist-packages/keras/src/layers/core/dense.py:87: UserWarning: Do not pass an `input_shape`/`input_dim` argument to a layer. When using Sequential models, prefer using an `Input(shape)` object as the first layer in the model instead.\n",
            "  super().__init__(activity_regularizer=activity_regularizer, **kwargs)\n"
          ]
        },
        {
          "output_type": "stream",
          "name": "stdout",
          "text": [
            " -> Min Val Loss (MSE): 471.2507\n",
            "PSO Eval 103: N1=53, N2=51, DR=0.492, LR=0.00549, BS=45"
          ]
        },
        {
          "output_type": "stream",
          "name": "stderr",
          "text": [
            "/usr/local/lib/python3.11/dist-packages/keras/src/layers/core/dense.py:87: UserWarning: Do not pass an `input_shape`/`input_dim` argument to a layer. When using Sequential models, prefer using an `Input(shape)` object as the first layer in the model instead.\n",
            "  super().__init__(activity_regularizer=activity_regularizer, **kwargs)\n"
          ]
        },
        {
          "output_type": "stream",
          "name": "stdout",
          "text": [
            " -> Min Val Loss (MSE): 992.1257\n",
            "PSO Eval 104: N1=72, N2=53, DR=0.182, LR=0.00152, BS=46"
          ]
        },
        {
          "output_type": "stream",
          "name": "stderr",
          "text": [
            "/usr/local/lib/python3.11/dist-packages/keras/src/layers/core/dense.py:87: UserWarning: Do not pass an `input_shape`/`input_dim` argument to a layer. When using Sequential models, prefer using an `Input(shape)` object as the first layer in the model instead.\n",
            "  super().__init__(activity_regularizer=activity_regularizer, **kwargs)\n"
          ]
        },
        {
          "output_type": "stream",
          "name": "stdout",
          "text": [
            " -> Min Val Loss (MSE): 713.3245\n",
            "PSO Eval 105: N1=80, N2=35, DR=0.473, LR=0.00160, BS=44"
          ]
        },
        {
          "output_type": "stream",
          "name": "stderr",
          "text": [
            "/usr/local/lib/python3.11/dist-packages/keras/src/layers/core/dense.py:87: UserWarning: Do not pass an `input_shape`/`input_dim` argument to a layer. When using Sequential models, prefer using an `Input(shape)` object as the first layer in the model instead.\n",
            "  super().__init__(activity_regularizer=activity_regularizer, **kwargs)\n"
          ]
        },
        {
          "output_type": "stream",
          "name": "stdout",
          "text": [
            " -> Min Val Loss (MSE): 2046.6104\n",
            "PSO Eval 106: N1=69, N2=50, DR=0.253, LR=0.00386, BS=45"
          ]
        },
        {
          "output_type": "stream",
          "name": "stderr",
          "text": [
            "/usr/local/lib/python3.11/dist-packages/keras/src/layers/core/dense.py:87: UserWarning: Do not pass an `input_shape`/`input_dim` argument to a layer. When using Sequential models, prefer using an `Input(shape)` object as the first layer in the model instead.\n",
            "  super().__init__(activity_regularizer=activity_regularizer, **kwargs)\n"
          ]
        },
        {
          "output_type": "stream",
          "name": "stdout",
          "text": [
            " -> Min Val Loss (MSE): 755.6242\n",
            "PSO Eval 107: N1=77, N2=47, DR=0.157, LR=0.00576, BS=37"
          ]
        },
        {
          "output_type": "stream",
          "name": "stderr",
          "text": [
            "/usr/local/lib/python3.11/dist-packages/keras/src/layers/core/dense.py:87: UserWarning: Do not pass an `input_shape`/`input_dim` argument to a layer. When using Sequential models, prefer using an `Input(shape)` object as the first layer in the model instead.\n",
            "  super().__init__(activity_regularizer=activity_regularizer, **kwargs)\n"
          ]
        },
        {
          "output_type": "stream",
          "name": "stdout",
          "text": [
            " -> Min Val Loss (MSE): 722.2421\n",
            "PSO Eval 108: N1=116, N2=57, DR=0.192, LR=0.00459, BS=44"
          ]
        },
        {
          "output_type": "stream",
          "name": "stderr",
          "text": [
            "/usr/local/lib/python3.11/dist-packages/keras/src/layers/core/dense.py:87: UserWarning: Do not pass an `input_shape`/`input_dim` argument to a layer. When using Sequential models, prefer using an `Input(shape)` object as the first layer in the model instead.\n",
            "  super().__init__(activity_regularizer=activity_regularizer, **kwargs)\n"
          ]
        },
        {
          "output_type": "stream",
          "name": "stdout",
          "text": [
            " -> Min Val Loss (MSE): 329.2176\n",
            "PSO Eval 109: N1=53, N2=56, DR=0.399, LR=0.00838, BS=54"
          ]
        },
        {
          "output_type": "stream",
          "name": "stderr",
          "text": [
            "/usr/local/lib/python3.11/dist-packages/keras/src/layers/core/dense.py:87: UserWarning: Do not pass an `input_shape`/`input_dim` argument to a layer. When using Sequential models, prefer using an `Input(shape)` object as the first layer in the model instead.\n",
            "  super().__init__(activity_regularizer=activity_regularizer, **kwargs)\n"
          ]
        },
        {
          "output_type": "stream",
          "name": "stdout",
          "text": [
            " -> Min Val Loss (MSE): 3125.8103\n",
            "PSO Eval 110: N1=79, N2=46, DR=0.371, LR=0.00560, BS=46"
          ]
        },
        {
          "output_type": "stream",
          "name": "stderr",
          "text": [
            "/usr/local/lib/python3.11/dist-packages/keras/src/layers/core/dense.py:87: UserWarning: Do not pass an `input_shape`/`input_dim` argument to a layer. When using Sequential models, prefer using an `Input(shape)` object as the first layer in the model instead.\n",
            "  super().__init__(activity_regularizer=activity_regularizer, **kwargs)\n"
          ]
        },
        {
          "output_type": "stream",
          "name": "stdout",
          "text": [
            " -> Min Val Loss (MSE): 923.0737\n",
            "PSO Eval 111: N1=60, N2=55, DR=0.143, LR=0.00309, BS=39"
          ]
        },
        {
          "output_type": "stream",
          "name": "stderr",
          "text": [
            "/usr/local/lib/python3.11/dist-packages/keras/src/layers/core/dense.py:87: UserWarning: Do not pass an `input_shape`/`input_dim` argument to a layer. When using Sequential models, prefer using an `Input(shape)` object as the first layer in the model instead.\n",
            "  super().__init__(activity_regularizer=activity_regularizer, **kwargs)\n"
          ]
        },
        {
          "output_type": "stream",
          "name": "stdout",
          "text": [
            " -> Min Val Loss (MSE): 714.3954\n",
            "PSO Eval 112: N1=70, N2=51, DR=0.483, LR=0.00409, BS=45"
          ]
        },
        {
          "output_type": "stream",
          "name": "stderr",
          "text": [
            "/usr/local/lib/python3.11/dist-packages/keras/src/layers/core/dense.py:87: UserWarning: Do not pass an `input_shape`/`input_dim` argument to a layer. When using Sequential models, prefer using an `Input(shape)` object as the first layer in the model instead.\n",
            "  super().__init__(activity_regularizer=activity_regularizer, **kwargs)\n"
          ]
        },
        {
          "output_type": "stream",
          "name": "stdout",
          "text": [
            " -> Min Val Loss (MSE): 920.6615\n",
            "PSO Eval 113: N1=41, N2=51, DR=0.338, LR=0.00156, BS=42"
          ]
        },
        {
          "output_type": "stream",
          "name": "stderr",
          "text": [
            "/usr/local/lib/python3.11/dist-packages/keras/src/layers/core/dense.py:87: UserWarning: Do not pass an `input_shape`/`input_dim` argument to a layer. When using Sequential models, prefer using an `Input(shape)` object as the first layer in the model instead.\n",
            "  super().__init__(activity_regularizer=activity_regularizer, **kwargs)\n"
          ]
        },
        {
          "output_type": "stream",
          "name": "stdout",
          "text": [
            " -> Min Val Loss (MSE): 1113.6138\n",
            "PSO Eval 114: N1=58, N2=47, DR=0.381, LR=0.00100, BS=51"
          ]
        },
        {
          "output_type": "stream",
          "name": "stderr",
          "text": [
            "/usr/local/lib/python3.11/dist-packages/keras/src/layers/core/dense.py:87: UserWarning: Do not pass an `input_shape`/`input_dim` argument to a layer. When using Sequential models, prefer using an `Input(shape)` object as the first layer in the model instead.\n",
            "  super().__init__(activity_regularizer=activity_regularizer, **kwargs)\n"
          ]
        },
        {
          "output_type": "stream",
          "name": "stdout",
          "text": [
            " -> Min Val Loss (MSE): 1798.9978\n",
            "PSO Eval 115: N1=62, N2=48, DR=0.420, LR=0.00807, BS=50"
          ]
        },
        {
          "output_type": "stream",
          "name": "stderr",
          "text": [
            "/usr/local/lib/python3.11/dist-packages/keras/src/layers/core/dense.py:87: UserWarning: Do not pass an `input_shape`/`input_dim` argument to a layer. When using Sequential models, prefer using an `Input(shape)` object as the first layer in the model instead.\n",
            "  super().__init__(activity_regularizer=activity_regularizer, **kwargs)\n"
          ]
        },
        {
          "output_type": "stream",
          "name": "stdout",
          "text": [
            " -> Min Val Loss (MSE): 800.3524\n",
            "PSO Eval 116: N1=54, N2=59, DR=0.461, LR=0.00138, BS=50"
          ]
        },
        {
          "output_type": "stream",
          "name": "stderr",
          "text": [
            "/usr/local/lib/python3.11/dist-packages/keras/src/layers/core/dense.py:87: UserWarning: Do not pass an `input_shape`/`input_dim` argument to a layer. When using Sequential models, prefer using an `Input(shape)` object as the first layer in the model instead.\n",
            "  super().__init__(activity_regularizer=activity_regularizer, **kwargs)\n"
          ]
        },
        {
          "output_type": "stream",
          "name": "stdout",
          "text": [
            " -> Min Val Loss (MSE): 2219.7466\n",
            "PSO Eval 117: N1=44, N2=53, DR=0.491, LR=0.00439, BS=42"
          ]
        },
        {
          "output_type": "stream",
          "name": "stderr",
          "text": [
            "/usr/local/lib/python3.11/dist-packages/keras/src/layers/core/dense.py:87: UserWarning: Do not pass an `input_shape`/`input_dim` argument to a layer. When using Sequential models, prefer using an `Input(shape)` object as the first layer in the model instead.\n",
            "  super().__init__(activity_regularizer=activity_regularizer, **kwargs)\n"
          ]
        },
        {
          "output_type": "stream",
          "name": "stdout",
          "text": [
            " -> Min Val Loss (MSE): 1056.2126\n",
            "PSO Eval 118: N1=68, N2=49, DR=0.341, LR=0.00298, BS=38"
          ]
        },
        {
          "output_type": "stream",
          "name": "stderr",
          "text": [
            "/usr/local/lib/python3.11/dist-packages/keras/src/layers/core/dense.py:87: UserWarning: Do not pass an `input_shape`/`input_dim` argument to a layer. When using Sequential models, prefer using an `Input(shape)` object as the first layer in the model instead.\n",
            "  super().__init__(activity_regularizer=activity_regularizer, **kwargs)\n"
          ]
        },
        {
          "output_type": "stream",
          "name": "stdout",
          "text": [
            " -> Min Val Loss (MSE): 1412.2859\n",
            "PSO Eval 119: N1=78, N2=45, DR=0.254, LR=0.00335, BS=44"
          ]
        },
        {
          "output_type": "stream",
          "name": "stderr",
          "text": [
            "/usr/local/lib/python3.11/dist-packages/keras/src/layers/core/dense.py:87: UserWarning: Do not pass an `input_shape`/`input_dim` argument to a layer. When using Sequential models, prefer using an `Input(shape)` object as the first layer in the model instead.\n",
            "  super().__init__(activity_regularizer=activity_regularizer, **kwargs)\n"
          ]
        },
        {
          "output_type": "stream",
          "name": "stdout",
          "text": [
            " -> Min Val Loss (MSE): 682.8825\n",
            "PSO Eval 120: N1=52, N2=51, DR=0.473, LR=0.00122, BS=46"
          ]
        },
        {
          "output_type": "stream",
          "name": "stderr",
          "text": [
            "/usr/local/lib/python3.11/dist-packages/keras/src/layers/core/dense.py:87: UserWarning: Do not pass an `input_shape`/`input_dim` argument to a layer. When using Sequential models, prefer using an `Input(shape)` object as the first layer in the model instead.\n",
            "  super().__init__(activity_regularizer=activity_regularizer, **kwargs)\n",
            "pyswarms.single.global_best:  60%|██████    |6/10, best_cost=324"
          ]
        },
        {
          "output_type": "stream",
          "name": "stdout",
          "text": [
            " -> Min Val Loss (MSE): 4272.5220\n",
            "PSO Eval 121: N1=45, N2=62, DR=0.431, LR=0.00762, BS=52"
          ]
        },
        {
          "output_type": "stream",
          "name": "stderr",
          "text": [
            "/usr/local/lib/python3.11/dist-packages/keras/src/layers/core/dense.py:87: UserWarning: Do not pass an `input_shape`/`input_dim` argument to a layer. When using Sequential models, prefer using an `Input(shape)` object as the first layer in the model instead.\n",
            "  super().__init__(activity_regularizer=activity_regularizer, **kwargs)\n"
          ]
        },
        {
          "output_type": "stream",
          "name": "stdout",
          "text": [
            " -> Min Val Loss (MSE): 1895.3964\n",
            "PSO Eval 122: N1=60, N2=44, DR=0.349, LR=0.00932, BS=51"
          ]
        },
        {
          "output_type": "stream",
          "name": "stderr",
          "text": [
            "/usr/local/lib/python3.11/dist-packages/keras/src/layers/core/dense.py:87: UserWarning: Do not pass an `input_shape`/`input_dim` argument to a layer. When using Sequential models, prefer using an `Input(shape)` object as the first layer in the model instead.\n",
            "  super().__init__(activity_regularizer=activity_regularizer, **kwargs)\n"
          ]
        },
        {
          "output_type": "stream",
          "name": "stdout",
          "text": [
            " -> Min Val Loss (MSE): 1102.3644\n",
            "PSO Eval 123: N1=53, N2=51, DR=0.400, LR=0.00820, BS=45"
          ]
        },
        {
          "output_type": "stream",
          "name": "stderr",
          "text": [
            "/usr/local/lib/python3.11/dist-packages/keras/src/layers/core/dense.py:87: UserWarning: Do not pass an `input_shape`/`input_dim` argument to a layer. When using Sequential models, prefer using an `Input(shape)` object as the first layer in the model instead.\n",
            "  super().__init__(activity_regularizer=activity_regularizer, **kwargs)\n"
          ]
        },
        {
          "output_type": "stream",
          "name": "stdout",
          "text": [
            " -> Min Val Loss (MSE): 753.6421\n",
            "PSO Eval 124: N1=63, N2=53, DR=0.140, LR=0.00485, BS=45"
          ]
        },
        {
          "output_type": "stream",
          "name": "stderr",
          "text": [
            "/usr/local/lib/python3.11/dist-packages/keras/src/layers/core/dense.py:87: UserWarning: Do not pass an `input_shape`/`input_dim` argument to a layer. When using Sequential models, prefer using an `Input(shape)` object as the first layer in the model instead.\n",
            "  super().__init__(activity_regularizer=activity_regularizer, **kwargs)\n"
          ]
        },
        {
          "output_type": "stream",
          "name": "stdout",
          "text": [
            " -> Min Val Loss (MSE): 646.0972\n",
            "PSO Eval 125: N1=85, N2=35, DR=0.381, LR=0.00241, BS=44"
          ]
        },
        {
          "output_type": "stream",
          "name": "stderr",
          "text": [
            "/usr/local/lib/python3.11/dist-packages/keras/src/layers/core/dense.py:87: UserWarning: Do not pass an `input_shape`/`input_dim` argument to a layer. When using Sequential models, prefer using an `Input(shape)` object as the first layer in the model instead.\n",
            "  super().__init__(activity_regularizer=activity_regularizer, **kwargs)\n"
          ]
        },
        {
          "output_type": "stream",
          "name": "stdout",
          "text": [
            " -> Min Val Loss (MSE): 666.0255\n",
            "PSO Eval 126: N1=70, N2=51, DR=0.248, LR=0.00469, BS=42"
          ]
        },
        {
          "output_type": "stream",
          "name": "stderr",
          "text": [
            "/usr/local/lib/python3.11/dist-packages/keras/src/layers/core/dense.py:87: UserWarning: Do not pass an `input_shape`/`input_dim` argument to a layer. When using Sequential models, prefer using an `Input(shape)` object as the first layer in the model instead.\n",
            "  super().__init__(activity_regularizer=activity_regularizer, **kwargs)\n"
          ]
        },
        {
          "output_type": "stream",
          "name": "stdout",
          "text": [
            " -> Min Val Loss (MSE): 599.8328\n",
            "PSO Eval 127: N1=95, N2=48, DR=0.129, LR=0.00737, BS=36"
          ]
        },
        {
          "output_type": "stream",
          "name": "stderr",
          "text": [
            "/usr/local/lib/python3.11/dist-packages/keras/src/layers/core/dense.py:87: UserWarning: Do not pass an `input_shape`/`input_dim` argument to a layer. When using Sequential models, prefer using an `Input(shape)` object as the first layer in the model instead.\n",
            "  super().__init__(activity_regularizer=activity_regularizer, **kwargs)\n"
          ]
        },
        {
          "output_type": "stream",
          "name": "stdout",
          "text": [
            " -> Min Val Loss (MSE): 408.0326\n",
            "PSO Eval 128: N1=92, N2=62, DR=0.210, LR=0.00035, BS=52"
          ]
        },
        {
          "output_type": "stream",
          "name": "stderr",
          "text": [
            "/usr/local/lib/python3.11/dist-packages/keras/src/layers/core/dense.py:87: UserWarning: Do not pass an `input_shape`/`input_dim` argument to a layer. When using Sequential models, prefer using an `Input(shape)` object as the first layer in the model instead.\n",
            "  super().__init__(activity_regularizer=activity_regularizer, **kwargs)\n"
          ]
        },
        {
          "output_type": "stream",
          "name": "stdout",
          "text": [
            " -> Min Val Loss (MSE): 787.4296\n",
            "PSO Eval 129: N1=55, N2=56, DR=0.101, LR=0.00898, BS=57"
          ]
        },
        {
          "output_type": "stream",
          "name": "stderr",
          "text": [
            "/usr/local/lib/python3.11/dist-packages/keras/src/layers/core/dense.py:87: UserWarning: Do not pass an `input_shape`/`input_dim` argument to a layer. When using Sequential models, prefer using an `Input(shape)` object as the first layer in the model instead.\n",
            "  super().__init__(activity_regularizer=activity_regularizer, **kwargs)\n"
          ]
        },
        {
          "output_type": "stream",
          "name": "stdout",
          "text": [
            " -> Min Val Loss (MSE): 239.7540\n",
            "PSO Eval 130: N1=73, N2=50, DR=0.259, LR=0.00930, BS=45"
          ]
        },
        {
          "output_type": "stream",
          "name": "stderr",
          "text": [
            "/usr/local/lib/python3.11/dist-packages/keras/src/layers/core/dense.py:87: UserWarning: Do not pass an `input_shape`/`input_dim` argument to a layer. When using Sequential models, prefer using an `Input(shape)` object as the first layer in the model instead.\n",
            "  super().__init__(activity_regularizer=activity_regularizer, **kwargs)\n"
          ]
        },
        {
          "output_type": "stream",
          "name": "stdout",
          "text": [
            " -> Min Val Loss (MSE): 1013.3138\n",
            "PSO Eval 131: N1=52, N2=55, DR=0.488, LR=0.00309, BS=44"
          ]
        },
        {
          "output_type": "stream",
          "name": "stderr",
          "text": [
            "/usr/local/lib/python3.11/dist-packages/keras/src/layers/core/dense.py:87: UserWarning: Do not pass an `input_shape`/`input_dim` argument to a layer. When using Sequential models, prefer using an `Input(shape)` object as the first layer in the model instead.\n",
            "  super().__init__(activity_regularizer=activity_regularizer, **kwargs)\n"
          ]
        },
        {
          "output_type": "stream",
          "name": "stdout",
          "text": [
            " -> Min Val Loss (MSE): 1582.7096\n",
            "PSO Eval 132: N1=75, N2=54, DR=0.233, LR=0.00458, BS=45"
          ]
        },
        {
          "output_type": "stream",
          "name": "stderr",
          "text": [
            "/usr/local/lib/python3.11/dist-packages/keras/src/layers/core/dense.py:87: UserWarning: Do not pass an `input_shape`/`input_dim` argument to a layer. When using Sequential models, prefer using an `Input(shape)` object as the first layer in the model instead.\n",
            "  super().__init__(activity_regularizer=activity_regularizer, **kwargs)\n"
          ]
        },
        {
          "output_type": "stream",
          "name": "stdout",
          "text": [
            " -> Min Val Loss (MSE): 340.7091\n",
            "PSO Eval 133: N1=48, N2=51, DR=0.146, LR=0.00186, BS=42"
          ]
        },
        {
          "output_type": "stream",
          "name": "stderr",
          "text": [
            "/usr/local/lib/python3.11/dist-packages/keras/src/layers/core/dense.py:87: UserWarning: Do not pass an `input_shape`/`input_dim` argument to a layer. When using Sequential models, prefer using an `Input(shape)` object as the first layer in the model instead.\n",
            "  super().__init__(activity_regularizer=activity_regularizer, **kwargs)\n"
          ]
        },
        {
          "output_type": "stream",
          "name": "stdout",
          "text": [
            " -> Min Val Loss (MSE): 628.3458\n",
            "PSO Eval 134: N1=52, N2=51, DR=0.325, LR=0.00429, BS=51"
          ]
        },
        {
          "output_type": "stream",
          "name": "stderr",
          "text": [
            "/usr/local/lib/python3.11/dist-packages/keras/src/layers/core/dense.py:87: UserWarning: Do not pass an `input_shape`/`input_dim` argument to a layer. When using Sequential models, prefer using an `Input(shape)` object as the first layer in the model instead.\n",
            "  super().__init__(activity_regularizer=activity_regularizer, **kwargs)\n"
          ]
        },
        {
          "output_type": "stream",
          "name": "stdout",
          "text": [
            " -> Min Val Loss (MSE): 672.9969\n",
            "PSO Eval 135: N1=57, N2=49, DR=0.196, LR=0.00541, BS=50"
          ]
        },
        {
          "output_type": "stream",
          "name": "stderr",
          "text": [
            "/usr/local/lib/python3.11/dist-packages/keras/src/layers/core/dense.py:87: UserWarning: Do not pass an `input_shape`/`input_dim` argument to a layer. When using Sequential models, prefer using an `Input(shape)` object as the first layer in the model instead.\n",
            "  super().__init__(activity_regularizer=activity_regularizer, **kwargs)\n"
          ]
        },
        {
          "output_type": "stream",
          "name": "stdout",
          "text": [
            " -> Min Val Loss (MSE): 299.7518\n",
            "PSO Eval 136: N1=54, N2=54, DR=0.365, LR=0.00645, BS=49"
          ]
        },
        {
          "output_type": "stream",
          "name": "stderr",
          "text": [
            "/usr/local/lib/python3.11/dist-packages/keras/src/layers/core/dense.py:87: UserWarning: Do not pass an `input_shape`/`input_dim` argument to a layer. When using Sequential models, prefer using an `Input(shape)` object as the first layer in the model instead.\n",
            "  super().__init__(activity_regularizer=activity_regularizer, **kwargs)\n"
          ]
        },
        {
          "output_type": "stream",
          "name": "stdout",
          "text": [
            " -> Min Val Loss (MSE): 513.0758\n",
            "PSO Eval 137: N1=41, N2=54, DR=0.215, LR=0.00072, BS=41"
          ]
        },
        {
          "output_type": "stream",
          "name": "stderr",
          "text": [
            "/usr/local/lib/python3.11/dist-packages/keras/src/layers/core/dense.py:87: UserWarning: Do not pass an `input_shape`/`input_dim` argument to a layer. When using Sequential models, prefer using an `Input(shape)` object as the first layer in the model instead.\n",
            "  super().__init__(activity_regularizer=activity_regularizer, **kwargs)\n"
          ]
        },
        {
          "output_type": "stream",
          "name": "stdout",
          "text": [
            " -> Min Val Loss (MSE): 786.4052\n",
            "PSO Eval 138: N1=78, N2=46, DR=0.245, LR=0.00392, BS=34"
          ]
        },
        {
          "output_type": "stream",
          "name": "stderr",
          "text": [
            "/usr/local/lib/python3.11/dist-packages/keras/src/layers/core/dense.py:87: UserWarning: Do not pass an `input_shape`/`input_dim` argument to a layer. When using Sequential models, prefer using an `Input(shape)` object as the first layer in the model instead.\n",
            "  super().__init__(activity_regularizer=activity_regularizer, **kwargs)\n"
          ]
        },
        {
          "output_type": "stream",
          "name": "stdout",
          "text": [
            " -> Min Val Loss (MSE): 624.1459\n",
            "PSO Eval 139: N1=97, N2=40, DR=0.201, LR=0.00046, BS=43"
          ]
        },
        {
          "output_type": "stream",
          "name": "stderr",
          "text": [
            "/usr/local/lib/python3.11/dist-packages/keras/src/layers/core/dense.py:87: UserWarning: Do not pass an `input_shape`/`input_dim` argument to a layer. When using Sequential models, prefer using an `Input(shape)` object as the first layer in the model instead.\n",
            "  super().__init__(activity_regularizer=activity_regularizer, **kwargs)\n"
          ]
        },
        {
          "output_type": "stream",
          "name": "stdout",
          "text": [
            " -> Min Val Loss (MSE): 684.1458\n",
            "PSO Eval 140: N1=51, N2=51, DR=0.292, LR=0.00224, BS=46"
          ]
        },
        {
          "output_type": "stream",
          "name": "stderr",
          "text": [
            "/usr/local/lib/python3.11/dist-packages/keras/src/layers/core/dense.py:87: UserWarning: Do not pass an `input_shape`/`input_dim` argument to a layer. When using Sequential models, prefer using an `Input(shape)` object as the first layer in the model instead.\n",
            "  super().__init__(activity_regularizer=activity_regularizer, **kwargs)\n",
            "pyswarms.single.global_best:  70%|███████   |7/10, best_cost=240"
          ]
        },
        {
          "output_type": "stream",
          "name": "stdout",
          "text": [
            " -> Min Val Loss (MSE): 616.8007\n",
            "PSO Eval 141: N1=44, N2=60, DR=0.141, LR=0.00706, BS=53"
          ]
        },
        {
          "output_type": "stream",
          "name": "stderr",
          "text": [
            "/usr/local/lib/python3.11/dist-packages/keras/src/layers/core/dense.py:87: UserWarning: Do not pass an `input_shape`/`input_dim` argument to a layer. When using Sequential models, prefer using an `Input(shape)` object as the first layer in the model instead.\n",
            "  super().__init__(activity_regularizer=activity_regularizer, **kwargs)\n"
          ]
        },
        {
          "output_type": "stream",
          "name": "stdout",
          "text": [
            " -> Min Val Loss (MSE): 395.2233\n",
            "PSO Eval 142: N1=60, N2=47, DR=0.426, LR=0.00937, BS=52"
          ]
        },
        {
          "output_type": "stream",
          "name": "stderr",
          "text": [
            "/usr/local/lib/python3.11/dist-packages/keras/src/layers/core/dense.py:87: UserWarning: Do not pass an `input_shape`/`input_dim` argument to a layer. When using Sequential models, prefer using an `Input(shape)` object as the first layer in the model instead.\n",
            "  super().__init__(activity_regularizer=activity_regularizer, **kwargs)\n"
          ]
        },
        {
          "output_type": "stream",
          "name": "stdout",
          "text": [
            " -> Min Val Loss (MSE): 1948.9470\n",
            "PSO Eval 143: N1=53, N2=51, DR=0.212, LR=0.00564, BS=48"
          ]
        },
        {
          "output_type": "stream",
          "name": "stderr",
          "text": [
            "/usr/local/lib/python3.11/dist-packages/keras/src/layers/core/dense.py:87: UserWarning: Do not pass an `input_shape`/`input_dim` argument to a layer. When using Sequential models, prefer using an `Input(shape)` object as the first layer in the model instead.\n",
            "  super().__init__(activity_regularizer=activity_regularizer, **kwargs)\n"
          ]
        },
        {
          "output_type": "stream",
          "name": "stdout",
          "text": [
            " -> Min Val Loss (MSE): 855.3409\n",
            "PSO Eval 144: N1=59, N2=53, DR=0.121, LR=0.00802, BS=46"
          ]
        },
        {
          "output_type": "stream",
          "name": "stderr",
          "text": [
            "/usr/local/lib/python3.11/dist-packages/keras/src/layers/core/dense.py:87: UserWarning: Do not pass an `input_shape`/`input_dim` argument to a layer. When using Sequential models, prefer using an `Input(shape)` object as the first layer in the model instead.\n",
            "  super().__init__(activity_regularizer=activity_regularizer, **kwargs)\n"
          ]
        },
        {
          "output_type": "stream",
          "name": "stdout",
          "text": [
            " -> Min Val Loss (MSE): 757.0791\n",
            "PSO Eval 145: N1=88, N2=36, DR=0.162, LR=0.00767, BS=43"
          ]
        },
        {
          "output_type": "stream",
          "name": "stderr",
          "text": [
            "/usr/local/lib/python3.11/dist-packages/keras/src/layers/core/dense.py:87: UserWarning: Do not pass an `input_shape`/`input_dim` argument to a layer. When using Sequential models, prefer using an `Input(shape)` object as the first layer in the model instead.\n",
            "  super().__init__(activity_regularizer=activity_regularizer, **kwargs)\n"
          ]
        },
        {
          "output_type": "stream",
          "name": "stdout",
          "text": [
            " -> Min Val Loss (MSE): 626.1921\n",
            "PSO Eval 146: N1=69, N2=52, DR=0.170, LR=0.00151, BS=40"
          ]
        },
        {
          "output_type": "stream",
          "name": "stderr",
          "text": [
            "/usr/local/lib/python3.11/dist-packages/keras/src/layers/core/dense.py:87: UserWarning: Do not pass an `input_shape`/`input_dim` argument to a layer. When using Sequential models, prefer using an `Input(shape)` object as the first layer in the model instead.\n",
            "  super().__init__(activity_regularizer=activity_regularizer, **kwargs)\n"
          ]
        },
        {
          "output_type": "stream",
          "name": "stdout",
          "text": [
            " -> Min Val Loss (MSE): 437.1269\n",
            "PSO Eval 147: N1=108, N2=49, DR=0.499, LR=0.00395, BS=39"
          ]
        },
        {
          "output_type": "stream",
          "name": "stderr",
          "text": [
            "/usr/local/lib/python3.11/dist-packages/keras/src/layers/core/dense.py:87: UserWarning: Do not pass an `input_shape`/`input_dim` argument to a layer. When using Sequential models, prefer using an `Input(shape)` object as the first layer in the model instead.\n",
            "  super().__init__(activity_regularizer=activity_regularizer, **kwargs)\n"
          ]
        },
        {
          "output_type": "stream",
          "name": "stdout",
          "text": [
            " -> Min Val Loss (MSE): 2128.9438\n",
            "PSO Eval 148: N1=67, N2=18, DR=0.167, LR=0.00506, BS=60"
          ]
        },
        {
          "output_type": "stream",
          "name": "stderr",
          "text": [
            "/usr/local/lib/python3.11/dist-packages/keras/src/layers/core/dense.py:87: UserWarning: Do not pass an `input_shape`/`input_dim` argument to a layer. When using Sequential models, prefer using an `Input(shape)` object as the first layer in the model instead.\n",
            "  super().__init__(activity_regularizer=activity_regularizer, **kwargs)\n"
          ]
        },
        {
          "output_type": "stream",
          "name": "stdout",
          "text": [
            " -> Min Val Loss (MSE): 584.0818\n",
            "PSO Eval 149: N1=56, N2=55, DR=0.193, LR=0.00359, BS=59"
          ]
        },
        {
          "output_type": "stream",
          "name": "stderr",
          "text": [
            "/usr/local/lib/python3.11/dist-packages/keras/src/layers/core/dense.py:87: UserWarning: Do not pass an `input_shape`/`input_dim` argument to a layer. When using Sequential models, prefer using an `Input(shape)` object as the first layer in the model instead.\n",
            "  super().__init__(activity_regularizer=activity_regularizer, **kwargs)\n"
          ]
        },
        {
          "output_type": "stream",
          "name": "stdout",
          "text": [
            " -> Min Val Loss (MSE): 510.9649\n",
            "PSO Eval 150: N1=76, N2=56, DR=0.107, LR=0.00798, BS=44"
          ]
        },
        {
          "output_type": "stream",
          "name": "stderr",
          "text": [
            "/usr/local/lib/python3.11/dist-packages/keras/src/layers/core/dense.py:87: UserWarning: Do not pass an `input_shape`/`input_dim` argument to a layer. When using Sequential models, prefer using an `Input(shape)` object as the first layer in the model instead.\n",
            "  super().__init__(activity_regularizer=activity_regularizer, **kwargs)\n"
          ]
        },
        {
          "output_type": "stream",
          "name": "stdout",
          "text": [
            " -> Min Val Loss (MSE): 393.0253\n",
            "PSO Eval 151: N1=69, N2=56, DR=0.334, LR=0.00518, BS=44"
          ]
        },
        {
          "output_type": "stream",
          "name": "stderr",
          "text": [
            "/usr/local/lib/python3.11/dist-packages/keras/src/layers/core/dense.py:87: UserWarning: Do not pass an `input_shape`/`input_dim` argument to a layer. When using Sequential models, prefer using an `Input(shape)` object as the first layer in the model instead.\n",
            "  super().__init__(activity_regularizer=activity_regularizer, **kwargs)\n"
          ]
        },
        {
          "output_type": "stream",
          "name": "stdout",
          "text": [
            " -> Min Val Loss (MSE): 774.5791\n",
            "PSO Eval 152: N1=77, N2=57, DR=0.367, LR=0.00647, BS=45"
          ]
        },
        {
          "output_type": "stream",
          "name": "stderr",
          "text": [
            "/usr/local/lib/python3.11/dist-packages/keras/src/layers/core/dense.py:87: UserWarning: Do not pass an `input_shape`/`input_dim` argument to a layer. When using Sequential models, prefer using an `Input(shape)` object as the first layer in the model instead.\n",
            "  super().__init__(activity_regularizer=activity_regularizer, **kwargs)\n"
          ]
        },
        {
          "output_type": "stream",
          "name": "stdout",
          "text": [
            " -> Min Val Loss (MSE): 1063.5544\n",
            "PSO Eval 153: N1=60, N2=51, DR=0.340, LR=0.00892, BS=45"
          ]
        },
        {
          "output_type": "stream",
          "name": "stderr",
          "text": [
            "/usr/local/lib/python3.11/dist-packages/keras/src/layers/core/dense.py:87: UserWarning: Do not pass an `input_shape`/`input_dim` argument to a layer. When using Sequential models, prefer using an `Input(shape)` object as the first layer in the model instead.\n",
            "  super().__init__(activity_regularizer=activity_regularizer, **kwargs)\n"
          ]
        },
        {
          "output_type": "stream",
          "name": "stdout",
          "text": [
            " -> Min Val Loss (MSE): 1342.6367\n",
            "PSO Eval 154: N1=50, N2=48, DR=0.128, LR=0.00333, BS=49"
          ]
        },
        {
          "output_type": "stream",
          "name": "stderr",
          "text": [
            "/usr/local/lib/python3.11/dist-packages/keras/src/layers/core/dense.py:87: UserWarning: Do not pass an `input_shape`/`input_dim` argument to a layer. When using Sequential models, prefer using an `Input(shape)` object as the first layer in the model instead.\n",
            "  super().__init__(activity_regularizer=activity_regularizer, **kwargs)\n"
          ]
        },
        {
          "output_type": "stream",
          "name": "stdout",
          "text": [
            " -> Min Val Loss (MSE): 441.9309\n",
            "PSO Eval 155: N1=53, N2=49, DR=0.341, LR=0.00798, BS=51"
          ]
        },
        {
          "output_type": "stream",
          "name": "stderr",
          "text": [
            "/usr/local/lib/python3.11/dist-packages/keras/src/layers/core/dense.py:87: UserWarning: Do not pass an `input_shape`/`input_dim` argument to a layer. When using Sequential models, prefer using an `Input(shape)` object as the first layer in the model instead.\n",
            "  super().__init__(activity_regularizer=activity_regularizer, **kwargs)\n"
          ]
        },
        {
          "output_type": "stream",
          "name": "stdout",
          "text": [
            " -> Min Val Loss (MSE): 799.0276\n",
            "PSO Eval 156: N1=55, N2=44, DR=0.109, LR=0.00973, BS=49"
          ]
        },
        {
          "output_type": "stream",
          "name": "stderr",
          "text": [
            "/usr/local/lib/python3.11/dist-packages/keras/src/layers/core/dense.py:87: UserWarning: Do not pass an `input_shape`/`input_dim` argument to a layer. When using Sequential models, prefer using an `Input(shape)` object as the first layer in the model instead.\n",
            "  super().__init__(activity_regularizer=activity_regularizer, **kwargs)\n"
          ]
        },
        {
          "output_type": "stream",
          "name": "stdout",
          "text": [
            " -> Min Val Loss (MSE): 435.1547\n",
            "PSO Eval 157: N1=40, N2=54, DR=0.299, LR=0.00832, BS=45"
          ]
        },
        {
          "output_type": "stream",
          "name": "stderr",
          "text": [
            "/usr/local/lib/python3.11/dist-packages/keras/src/layers/core/dense.py:87: UserWarning: Do not pass an `input_shape`/`input_dim` argument to a layer. When using Sequential models, prefer using an `Input(shape)` object as the first layer in the model instead.\n",
            "  super().__init__(activity_regularizer=activity_regularizer, **kwargs)\n"
          ]
        },
        {
          "output_type": "stream",
          "name": "stdout",
          "text": [
            " -> Min Val Loss (MSE): 790.1531\n",
            "PSO Eval 158: N1=87, N2=40, DR=0.489, LR=0.00970, BS=36"
          ]
        },
        {
          "output_type": "stream",
          "name": "stderr",
          "text": [
            "/usr/local/lib/python3.11/dist-packages/keras/src/layers/core/dense.py:87: UserWarning: Do not pass an `input_shape`/`input_dim` argument to a layer. When using Sequential models, prefer using an `Input(shape)` object as the first layer in the model instead.\n",
            "  super().__init__(activity_regularizer=activity_regularizer, **kwargs)\n"
          ]
        },
        {
          "output_type": "stream",
          "name": "stdout",
          "text": [
            " -> Min Val Loss (MSE): 7038.0591\n",
            "PSO Eval 159: N1=122, N2=36, DR=0.133, LR=0.00774, BS=44"
          ]
        },
        {
          "output_type": "stream",
          "name": "stderr",
          "text": [
            "/usr/local/lib/python3.11/dist-packages/keras/src/layers/core/dense.py:87: UserWarning: Do not pass an `input_shape`/`input_dim` argument to a layer. When using Sequential models, prefer using an `Input(shape)` object as the first layer in the model instead.\n",
            "  super().__init__(activity_regularizer=activity_regularizer, **kwargs)\n"
          ]
        },
        {
          "output_type": "stream",
          "name": "stdout",
          "text": [
            " -> Min Val Loss (MSE): 364.1425\n",
            "PSO Eval 160: N1=53, N2=52, DR=0.477, LR=0.00782, BS=48"
          ]
        },
        {
          "output_type": "stream",
          "name": "stderr",
          "text": [
            "/usr/local/lib/python3.11/dist-packages/keras/src/layers/core/dense.py:87: UserWarning: Do not pass an `input_shape`/`input_dim` argument to a layer. When using Sequential models, prefer using an `Input(shape)` object as the first layer in the model instead.\n",
            "  super().__init__(activity_regularizer=activity_regularizer, **kwargs)\n",
            "pyswarms.single.global_best:  80%|████████  |8/10, best_cost=240"
          ]
        },
        {
          "output_type": "stream",
          "name": "stdout",
          "text": [
            " -> Min Val Loss (MSE): 1622.3790\n",
            "PSO Eval 161: N1=44, N2=57, DR=0.235, LR=0.00668, BS=54"
          ]
        },
        {
          "output_type": "stream",
          "name": "stderr",
          "text": [
            "/usr/local/lib/python3.11/dist-packages/keras/src/layers/core/dense.py:87: UserWarning: Do not pass an `input_shape`/`input_dim` argument to a layer. When using Sequential models, prefer using an `Input(shape)` object as the first layer in the model instead.\n",
            "  super().__init__(activity_regularizer=activity_regularizer, **kwargs)\n"
          ]
        },
        {
          "output_type": "stream",
          "name": "stdout",
          "text": [
            " -> Min Val Loss (MSE): 1038.5079\n",
            "PSO Eval 162: N1=58, N2=50, DR=0.392, LR=0.00899, BS=53"
          ]
        },
        {
          "output_type": "stream",
          "name": "stderr",
          "text": [
            "/usr/local/lib/python3.11/dist-packages/keras/src/layers/core/dense.py:87: UserWarning: Do not pass an `input_shape`/`input_dim` argument to a layer. When using Sequential models, prefer using an `Input(shape)` object as the first layer in the model instead.\n",
            "  super().__init__(activity_regularizer=activity_regularizer, **kwargs)\n"
          ]
        },
        {
          "output_type": "stream",
          "name": "stdout",
          "text": [
            " -> Min Val Loss (MSE): 1201.8409\n",
            "PSO Eval 163: N1=53, N2=53, DR=0.367, LR=0.00977, BS=52"
          ]
        },
        {
          "output_type": "stream",
          "name": "stderr",
          "text": [
            "/usr/local/lib/python3.11/dist-packages/keras/src/layers/core/dense.py:87: UserWarning: Do not pass an `input_shape`/`input_dim` argument to a layer. When using Sequential models, prefer using an `Input(shape)` object as the first layer in the model instead.\n",
            "  super().__init__(activity_regularizer=activity_regularizer, **kwargs)\n"
          ]
        },
        {
          "output_type": "stream",
          "name": "stdout",
          "text": [
            " -> Min Val Loss (MSE): 1662.3866\n",
            "PSO Eval 164: N1=56, N2=54, DR=0.118, LR=0.00530, BS=46"
          ]
        },
        {
          "output_type": "stream",
          "name": "stderr",
          "text": [
            "/usr/local/lib/python3.11/dist-packages/keras/src/layers/core/dense.py:87: UserWarning: Do not pass an `input_shape`/`input_dim` argument to a layer. When using Sequential models, prefer using an `Input(shape)` object as the first layer in the model instead.\n",
            "  super().__init__(activity_regularizer=activity_regularizer, **kwargs)\n"
          ]
        },
        {
          "output_type": "stream",
          "name": "stdout",
          "text": [
            " -> Min Val Loss (MSE): 301.2650\n",
            "PSO Eval 165: N1=94, N2=33, DR=0.342, LR=0.00859, BS=44"
          ]
        },
        {
          "output_type": "stream",
          "name": "stderr",
          "text": [
            "/usr/local/lib/python3.11/dist-packages/keras/src/layers/core/dense.py:87: UserWarning: Do not pass an `input_shape`/`input_dim` argument to a layer. When using Sequential models, prefer using an `Input(shape)` object as the first layer in the model instead.\n",
            "  super().__init__(activity_regularizer=activity_regularizer, **kwargs)\n"
          ]
        },
        {
          "output_type": "stream",
          "name": "stdout",
          "text": [
            " -> Min Val Loss (MSE): 747.2013\n",
            "PSO Eval 166: N1=66, N2=54, DR=0.454, LR=0.00888, BS=40"
          ]
        },
        {
          "output_type": "stream",
          "name": "stderr",
          "text": [
            "/usr/local/lib/python3.11/dist-packages/keras/src/layers/core/dense.py:87: UserWarning: Do not pass an `input_shape`/`input_dim` argument to a layer. When using Sequential models, prefer using an `Input(shape)` object as the first layer in the model instead.\n",
            "  super().__init__(activity_regularizer=activity_regularizer, **kwargs)\n"
          ]
        },
        {
          "output_type": "stream",
          "name": "stdout",
          "text": [
            " -> Min Val Loss (MSE): 3271.2151\n",
            "PSO Eval 167: N1=118, N2=50, DR=0.362, LR=0.00075, BS=45"
          ]
        },
        {
          "output_type": "stream",
          "name": "stderr",
          "text": [
            "/usr/local/lib/python3.11/dist-packages/keras/src/layers/core/dense.py:87: UserWarning: Do not pass an `input_shape`/`input_dim` argument to a layer. When using Sequential models, prefer using an `Input(shape)` object as the first layer in the model instead.\n",
            "  super().__init__(activity_regularizer=activity_regularizer, **kwargs)\n"
          ]
        },
        {
          "output_type": "stream",
          "name": "stdout",
          "text": [
            " -> Min Val Loss (MSE): 686.4975\n",
            "PSO Eval 168: N1=68, N2=31, DR=0.480, LR=0.00177, BS=60"
          ]
        },
        {
          "output_type": "stream",
          "name": "stderr",
          "text": [
            "/usr/local/lib/python3.11/dist-packages/keras/src/layers/core/dense.py:87: UserWarning: Do not pass an `input_shape`/`input_dim` argument to a layer. When using Sequential models, prefer using an `Input(shape)` object as the first layer in the model instead.\n",
            "  super().__init__(activity_regularizer=activity_regularizer, **kwargs)\n"
          ]
        },
        {
          "output_type": "stream",
          "name": "stdout",
          "text": [
            " -> Min Val Loss (MSE): 3685.8335\n",
            "PSO Eval 169: N1=56, N2=55, DR=0.252, LR=0.00784, BS=60"
          ]
        },
        {
          "output_type": "stream",
          "name": "stderr",
          "text": [
            "/usr/local/lib/python3.11/dist-packages/keras/src/layers/core/dense.py:87: UserWarning: Do not pass an `input_shape`/`input_dim` argument to a layer. When using Sequential models, prefer using an `Input(shape)` object as the first layer in the model instead.\n",
            "  super().__init__(activity_regularizer=activity_regularizer, **kwargs)\n"
          ]
        },
        {
          "output_type": "stream",
          "name": "stdout",
          "text": [
            " -> Min Val Loss (MSE): 1134.1549\n",
            "PSO Eval 170: N1=75, N2=62, DR=0.329, LR=0.00707, BS=45"
          ]
        },
        {
          "output_type": "stream",
          "name": "stderr",
          "text": [
            "/usr/local/lib/python3.11/dist-packages/keras/src/layers/core/dense.py:87: UserWarning: Do not pass an `input_shape`/`input_dim` argument to a layer. When using Sequential models, prefer using an `Input(shape)` object as the first layer in the model instead.\n",
            "  super().__init__(activity_regularizer=activity_regularizer, **kwargs)\n"
          ]
        },
        {
          "output_type": "stream",
          "name": "stdout",
          "text": [
            " -> Min Val Loss (MSE): 1184.6453\n",
            "PSO Eval 171: N1=98, N2=58, DR=0.146, LR=0.00261, BS=41"
          ]
        },
        {
          "output_type": "stream",
          "name": "stderr",
          "text": [
            "/usr/local/lib/python3.11/dist-packages/keras/src/layers/core/dense.py:87: UserWarning: Do not pass an `input_shape`/`input_dim` argument to a layer. When using Sequential models, prefer using an `Input(shape)` object as the first layer in the model instead.\n",
            "  super().__init__(activity_regularizer=activity_regularizer, **kwargs)\n"
          ]
        },
        {
          "output_type": "stream",
          "name": "stdout",
          "text": [
            " -> Min Val Loss (MSE): 547.1200\n",
            "PSO Eval 172: N1=74, N2=58, DR=0.407, LR=0.00013, BS=47"
          ]
        },
        {
          "output_type": "stream",
          "name": "stderr",
          "text": [
            "/usr/local/lib/python3.11/dist-packages/keras/src/layers/core/dense.py:87: UserWarning: Do not pass an `input_shape`/`input_dim` argument to a layer. When using Sequential models, prefer using an `Input(shape)` object as the first layer in the model instead.\n",
            "  super().__init__(activity_regularizer=activity_regularizer, **kwargs)\n"
          ]
        },
        {
          "output_type": "stream",
          "name": "stdout",
          "text": [
            " -> Min Val Loss (MSE): 17184.0645\n",
            "PSO Eval 173: N1=71, N2=52, DR=0.436, LR=0.00967, BS=48"
          ]
        },
        {
          "output_type": "stream",
          "name": "stderr",
          "text": [
            "/usr/local/lib/python3.11/dist-packages/keras/src/layers/core/dense.py:87: UserWarning: Do not pass an `input_shape`/`input_dim` argument to a layer. When using Sequential models, prefer using an `Input(shape)` object as the first layer in the model instead.\n",
            "  super().__init__(activity_regularizer=activity_regularizer, **kwargs)\n"
          ]
        },
        {
          "output_type": "stream",
          "name": "stdout",
          "text": [
            " -> Min Val Loss (MSE): 520.1811\n",
            "PSO Eval 174: N1=51, N2=44, DR=0.308, LR=0.00290, BS=44"
          ]
        },
        {
          "output_type": "stream",
          "name": "stderr",
          "text": [
            "/usr/local/lib/python3.11/dist-packages/keras/src/layers/core/dense.py:87: UserWarning: Do not pass an `input_shape`/`input_dim` argument to a layer. When using Sequential models, prefer using an `Input(shape)` object as the first layer in the model instead.\n",
            "  super().__init__(activity_regularizer=activity_regularizer, **kwargs)\n"
          ]
        },
        {
          "output_type": "stream",
          "name": "stdout",
          "text": [
            " -> Min Val Loss (MSE): 1318.1459\n",
            "PSO Eval 175: N1=51, N2=52, DR=0.414, LR=0.00615, BS=52"
          ]
        },
        {
          "output_type": "stream",
          "name": "stderr",
          "text": [
            "/usr/local/lib/python3.11/dist-packages/keras/src/layers/core/dense.py:87: UserWarning: Do not pass an `input_shape`/`input_dim` argument to a layer. When using Sequential models, prefer using an `Input(shape)` object as the first layer in the model instead.\n",
            "  super().__init__(activity_regularizer=activity_regularizer, **kwargs)\n"
          ]
        },
        {
          "output_type": "stream",
          "name": "stdout",
          "text": [
            " -> Min Val Loss (MSE): 1023.5089\n",
            "PSO Eval 176: N1=56, N2=36, DR=0.279, LR=0.00656, BS=52"
          ]
        },
        {
          "output_type": "stream",
          "name": "stderr",
          "text": [
            "/usr/local/lib/python3.11/dist-packages/keras/src/layers/core/dense.py:87: UserWarning: Do not pass an `input_shape`/`input_dim` argument to a layer. When using Sequential models, prefer using an `Input(shape)` object as the first layer in the model instead.\n",
            "  super().__init__(activity_regularizer=activity_regularizer, **kwargs)\n"
          ]
        },
        {
          "output_type": "stream",
          "name": "stdout",
          "text": [
            " -> Min Val Loss (MSE): 409.6809\n",
            "PSO Eval 177: N1=44, N2=54, DR=0.307, LR=0.00819, BS=47"
          ]
        },
        {
          "output_type": "stream",
          "name": "stderr",
          "text": [
            "/usr/local/lib/python3.11/dist-packages/keras/src/layers/core/dense.py:87: UserWarning: Do not pass an `input_shape`/`input_dim` argument to a layer. When using Sequential models, prefer using an `Input(shape)` object as the first layer in the model instead.\n",
            "  super().__init__(activity_regularizer=activity_regularizer, **kwargs)\n"
          ]
        },
        {
          "output_type": "stream",
          "name": "stdout",
          "text": [
            " -> Min Val Loss (MSE): 1314.6194\n",
            "PSO Eval 178: N1=94, N2=33, DR=0.133, LR=0.00267, BS=42"
          ]
        },
        {
          "output_type": "stream",
          "name": "stderr",
          "text": [
            "/usr/local/lib/python3.11/dist-packages/keras/src/layers/core/dense.py:87: UserWarning: Do not pass an `input_shape`/`input_dim` argument to a layer. When using Sequential models, prefer using an `Input(shape)` object as the first layer in the model instead.\n",
            "  super().__init__(activity_regularizer=activity_regularizer, **kwargs)\n"
          ]
        },
        {
          "output_type": "stream",
          "name": "stdout",
          "text": [
            " -> Min Val Loss (MSE): 650.4711\n",
            "PSO Eval 179: N1=43, N2=36, DR=0.467, LR=0.00670, BS=47"
          ]
        },
        {
          "output_type": "stream",
          "name": "stderr",
          "text": [
            "/usr/local/lib/python3.11/dist-packages/keras/src/layers/core/dense.py:87: UserWarning: Do not pass an `input_shape`/`input_dim` argument to a layer. When using Sequential models, prefer using an `Input(shape)` object as the first layer in the model instead.\n",
            "  super().__init__(activity_regularizer=activity_regularizer, **kwargs)\n"
          ]
        },
        {
          "output_type": "stream",
          "name": "stdout",
          "text": [
            " -> Min Val Loss (MSE): 1543.0310\n",
            "PSO Eval 180: N1=57, N2=54, DR=0.148, LR=0.00717, BS=50"
          ]
        },
        {
          "output_type": "stream",
          "name": "stderr",
          "text": [
            "/usr/local/lib/python3.11/dist-packages/keras/src/layers/core/dense.py:87: UserWarning: Do not pass an `input_shape`/`input_dim` argument to a layer. When using Sequential models, prefer using an `Input(shape)` object as the first layer in the model instead.\n",
            "  super().__init__(activity_regularizer=activity_regularizer, **kwargs)\n",
            "pyswarms.single.global_best:  90%|█████████ |9/10, best_cost=240"
          ]
        },
        {
          "output_type": "stream",
          "name": "stdout",
          "text": [
            " -> Min Val Loss (MSE): 336.8598\n",
            "PSO Eval 181: N1=47, N2=55, DR=0.251, LR=0.00668, BS=56"
          ]
        },
        {
          "output_type": "stream",
          "name": "stderr",
          "text": [
            "/usr/local/lib/python3.11/dist-packages/keras/src/layers/core/dense.py:87: UserWarning: Do not pass an `input_shape`/`input_dim` argument to a layer. When using Sequential models, prefer using an `Input(shape)` object as the first layer in the model instead.\n",
            "  super().__init__(activity_regularizer=activity_regularizer, **kwargs)\n"
          ]
        },
        {
          "output_type": "stream",
          "name": "stdout",
          "text": [
            " -> Min Val Loss (MSE): 684.1215\n",
            "PSO Eval 182: N1=56, N2=50, DR=0.258, LR=0.00267, BS=54"
          ]
        },
        {
          "output_type": "stream",
          "name": "stderr",
          "text": [
            "/usr/local/lib/python3.11/dist-packages/keras/src/layers/core/dense.py:87: UserWarning: Do not pass an `input_shape`/`input_dim` argument to a layer. When using Sequential models, prefer using an `Input(shape)` object as the first layer in the model instead.\n",
            "  super().__init__(activity_regularizer=activity_regularizer, **kwargs)\n"
          ]
        },
        {
          "output_type": "stream",
          "name": "stdout",
          "text": [
            " -> Min Val Loss (MSE): 1224.4131\n",
            "PSO Eval 183: N1=54, N2=55, DR=0.497, LR=0.00239, BS=56"
          ]
        },
        {
          "output_type": "stream",
          "name": "stderr",
          "text": [
            "/usr/local/lib/python3.11/dist-packages/keras/src/layers/core/dense.py:87: UserWarning: Do not pass an `input_shape`/`input_dim` argument to a layer. When using Sequential models, prefer using an `Input(shape)` object as the first layer in the model instead.\n",
            "  super().__init__(activity_regularizer=activity_regularizer, **kwargs)\n"
          ]
        },
        {
          "output_type": "stream",
          "name": "stdout",
          "text": [
            " -> Min Val Loss (MSE): 2189.8792\n",
            "PSO Eval 184: N1=54, N2=55, DR=0.113, LR=0.00256, BS=48"
          ]
        },
        {
          "output_type": "stream",
          "name": "stderr",
          "text": [
            "/usr/local/lib/python3.11/dist-packages/keras/src/layers/core/dense.py:87: UserWarning: Do not pass an `input_shape`/`input_dim` argument to a layer. When using Sequential models, prefer using an `Input(shape)` object as the first layer in the model instead.\n",
            "  super().__init__(activity_regularizer=activity_regularizer, **kwargs)\n"
          ]
        },
        {
          "output_type": "stream",
          "name": "stdout",
          "text": [
            " -> Min Val Loss (MSE): 727.7272\n",
            "PSO Eval 185: N1=113, N2=31, DR=0.435, LR=0.00856, BS=41"
          ]
        },
        {
          "output_type": "stream",
          "name": "stderr",
          "text": [
            "/usr/local/lib/python3.11/dist-packages/keras/src/layers/core/dense.py:87: UserWarning: Do not pass an `input_shape`/`input_dim` argument to a layer. When using Sequential models, prefer using an `Input(shape)` object as the first layer in the model instead.\n",
            "  super().__init__(activity_regularizer=activity_regularizer, **kwargs)\n"
          ]
        },
        {
          "output_type": "stream",
          "name": "stdout",
          "text": [
            " -> Min Val Loss (MSE): 898.1324\n",
            "PSO Eval 186: N1=65, N2=55, DR=0.187, LR=0.00035, BS=42"
          ]
        },
        {
          "output_type": "stream",
          "name": "stderr",
          "text": [
            "/usr/local/lib/python3.11/dist-packages/keras/src/layers/core/dense.py:87: UserWarning: Do not pass an `input_shape`/`input_dim` argument to a layer. When using Sequential models, prefer using an `Input(shape)` object as the first layer in the model instead.\n",
            "  super().__init__(activity_regularizer=activity_regularizer, **kwargs)\n"
          ]
        },
        {
          "output_type": "stream",
          "name": "stdout",
          "text": [
            " -> Min Val Loss (MSE): 932.4599\n",
            "PSO Eval 187: N1=103, N2=51, DR=0.132, LR=0.00138, BS=52"
          ]
        },
        {
          "output_type": "stream",
          "name": "stderr",
          "text": [
            "/usr/local/lib/python3.11/dist-packages/keras/src/layers/core/dense.py:87: UserWarning: Do not pass an `input_shape`/`input_dim` argument to a layer. When using Sequential models, prefer using an `Input(shape)` object as the first layer in the model instead.\n",
            "  super().__init__(activity_regularizer=activity_regularizer, **kwargs)\n"
          ]
        },
        {
          "output_type": "stream",
          "name": "stdout",
          "text": [
            " -> Min Val Loss (MSE): 580.1949\n",
            "PSO Eval 188: N1=73, N2=54, DR=0.253, LR=0.00471, BS=55"
          ]
        },
        {
          "output_type": "stream",
          "name": "stderr",
          "text": [
            "/usr/local/lib/python3.11/dist-packages/keras/src/layers/core/dense.py:87: UserWarning: Do not pass an `input_shape`/`input_dim` argument to a layer. When using Sequential models, prefer using an `Input(shape)` object as the first layer in the model instead.\n",
            "  super().__init__(activity_regularizer=activity_regularizer, **kwargs)\n"
          ]
        },
        {
          "output_type": "stream",
          "name": "stdout",
          "text": [
            " -> Min Val Loss (MSE): 672.9481\n",
            "PSO Eval 189: N1=56, N2=55, DR=0.246, LR=0.00553, BS=59"
          ]
        },
        {
          "output_type": "stream",
          "name": "stderr",
          "text": [
            "/usr/local/lib/python3.11/dist-packages/keras/src/layers/core/dense.py:87: UserWarning: Do not pass an `input_shape`/`input_dim` argument to a layer. When using Sequential models, prefer using an `Input(shape)` object as the first layer in the model instead.\n",
            "  super().__init__(activity_regularizer=activity_regularizer, **kwargs)\n"
          ]
        },
        {
          "output_type": "stream",
          "name": "stdout",
          "text": [
            " -> Min Val Loss (MSE): 751.0569\n",
            "PSO Eval 190: N1=73, N2=16, DR=0.479, LR=0.00999, BS=46"
          ]
        },
        {
          "output_type": "stream",
          "name": "stderr",
          "text": [
            "/usr/local/lib/python3.11/dist-packages/keras/src/layers/core/dense.py:87: UserWarning: Do not pass an `input_shape`/`input_dim` argument to a layer. When using Sequential models, prefer using an `Input(shape)` object as the first layer in the model instead.\n",
            "  super().__init__(activity_regularizer=activity_regularizer, **kwargs)\n"
          ]
        },
        {
          "output_type": "stream",
          "name": "stdout",
          "text": [
            " -> Min Val Loss (MSE): 4392.2285\n",
            "PSO Eval 191: N1=113, N2=58, DR=0.367, LR=0.00968, BS=42"
          ]
        },
        {
          "output_type": "stream",
          "name": "stderr",
          "text": [
            "/usr/local/lib/python3.11/dist-packages/keras/src/layers/core/dense.py:87: UserWarning: Do not pass an `input_shape`/`input_dim` argument to a layer. When using Sequential models, prefer using an `Input(shape)` object as the first layer in the model instead.\n",
            "  super().__init__(activity_regularizer=activity_regularizer, **kwargs)\n"
          ]
        },
        {
          "output_type": "stream",
          "name": "stdout",
          "text": [
            " -> Min Val Loss (MSE): 2334.9131\n",
            "PSO Eval 192: N1=66, N2=56, DR=0.291, LR=0.00060, BS=50"
          ]
        },
        {
          "output_type": "stream",
          "name": "stderr",
          "text": [
            "/usr/local/lib/python3.11/dist-packages/keras/src/layers/core/dense.py:87: UserWarning: Do not pass an `input_shape`/`input_dim` argument to a layer. When using Sequential models, prefer using an `Input(shape)` object as the first layer in the model instead.\n",
            "  super().__init__(activity_regularizer=activity_regularizer, **kwargs)\n"
          ]
        },
        {
          "output_type": "stream",
          "name": "stdout",
          "text": [
            " -> Min Val Loss (MSE): 863.8936\n",
            "PSO Eval 193: N1=77, N2=54, DR=0.362, LR=0.00687, BS=49"
          ]
        },
        {
          "output_type": "stream",
          "name": "stderr",
          "text": [
            "/usr/local/lib/python3.11/dist-packages/keras/src/layers/core/dense.py:87: UserWarning: Do not pass an `input_shape`/`input_dim` argument to a layer. When using Sequential models, prefer using an `Input(shape)` object as the first layer in the model instead.\n",
            "  super().__init__(activity_regularizer=activity_regularizer, **kwargs)\n"
          ]
        },
        {
          "output_type": "stream",
          "name": "stdout",
          "text": [
            " -> Min Val Loss (MSE): 1114.7351\n",
            "PSO Eval 194: N1=56, N2=39, DR=0.416, LR=0.00297, BS=38"
          ]
        },
        {
          "output_type": "stream",
          "name": "stderr",
          "text": [
            "/usr/local/lib/python3.11/dist-packages/keras/src/layers/core/dense.py:87: UserWarning: Do not pass an `input_shape`/`input_dim` argument to a layer. When using Sequential models, prefer using an `Input(shape)` object as the first layer in the model instead.\n",
            "  super().__init__(activity_regularizer=activity_regularizer, **kwargs)\n"
          ]
        },
        {
          "output_type": "stream",
          "name": "stdout",
          "text": [
            " -> Min Val Loss (MSE): 2665.8997\n",
            "PSO Eval 195: N1=54, N2=54, DR=0.360, LR=0.00076, BS=54"
          ]
        },
        {
          "output_type": "stream",
          "name": "stderr",
          "text": [
            "/usr/local/lib/python3.11/dist-packages/keras/src/layers/core/dense.py:87: UserWarning: Do not pass an `input_shape`/`input_dim` argument to a layer. When using Sequential models, prefer using an `Input(shape)` object as the first layer in the model instead.\n",
            "  super().__init__(activity_regularizer=activity_regularizer, **kwargs)\n"
          ]
        },
        {
          "output_type": "stream",
          "name": "stdout",
          "text": [
            " -> Min Val Loss (MSE): 2615.5713\n",
            "PSO Eval 196: N1=56, N2=30, DR=0.431, LR=0.00242, BS=55"
          ]
        },
        {
          "output_type": "stream",
          "name": "stderr",
          "text": [
            "/usr/local/lib/python3.11/dist-packages/keras/src/layers/core/dense.py:87: UserWarning: Do not pass an `input_shape`/`input_dim` argument to a layer. When using Sequential models, prefer using an `Input(shape)` object as the first layer in the model instead.\n",
            "  super().__init__(activity_regularizer=activity_regularizer, **kwargs)\n"
          ]
        },
        {
          "output_type": "stream",
          "name": "stdout",
          "text": [
            " -> Min Val Loss (MSE): 5111.3232\n",
            "PSO Eval 197: N1=46, N2=54, DR=0.273, LR=0.00697, BS=49"
          ]
        },
        {
          "output_type": "stream",
          "name": "stderr",
          "text": [
            "/usr/local/lib/python3.11/dist-packages/keras/src/layers/core/dense.py:87: UserWarning: Do not pass an `input_shape`/`input_dim` argument to a layer. When using Sequential models, prefer using an `Input(shape)` object as the first layer in the model instead.\n",
            "  super().__init__(activity_regularizer=activity_regularizer, **kwargs)\n"
          ]
        },
        {
          "output_type": "stream",
          "name": "stdout",
          "text": [
            " -> Min Val Loss (MSE): 574.2746\n",
            "PSO Eval 198: N1=96, N2=30, DR=0.203, LR=0.00895, BS=45"
          ]
        },
        {
          "output_type": "stream",
          "name": "stderr",
          "text": [
            "/usr/local/lib/python3.11/dist-packages/keras/src/layers/core/dense.py:87: UserWarning: Do not pass an `input_shape`/`input_dim` argument to a layer. When using Sequential models, prefer using an `Input(shape)` object as the first layer in the model instead.\n",
            "  super().__init__(activity_regularizer=activity_regularizer, **kwargs)\n"
          ]
        },
        {
          "output_type": "stream",
          "name": "stdout",
          "text": [
            " -> Min Val Loss (MSE): 831.8950\n",
            "PSO Eval 199: N1=87, N2=41, DR=0.222, LR=0.00178, BS=51"
          ]
        },
        {
          "output_type": "stream",
          "name": "stderr",
          "text": [
            "/usr/local/lib/python3.11/dist-packages/keras/src/layers/core/dense.py:87: UserWarning: Do not pass an `input_shape`/`input_dim` argument to a layer. When using Sequential models, prefer using an `Input(shape)` object as the first layer in the model instead.\n",
            "  super().__init__(activity_regularizer=activity_regularizer, **kwargs)\n"
          ]
        },
        {
          "output_type": "stream",
          "name": "stdout",
          "text": [
            " -> Min Val Loss (MSE): 669.0049\n",
            "PSO Eval 200: N1=60, N2=56, DR=0.198, LR=0.00697, BS=52"
          ]
        },
        {
          "output_type": "stream",
          "name": "stderr",
          "text": [
            "/usr/local/lib/python3.11/dist-packages/keras/src/layers/core/dense.py:87: UserWarning: Do not pass an `input_shape`/`input_dim` argument to a layer. When using Sequential models, prefer using an `Input(shape)` object as the first layer in the model instead.\n",
            "  super().__init__(activity_regularizer=activity_regularizer, **kwargs)\n",
            "pyswarms.single.global_best: 100%|██████████|10/10, best_cost=240\n",
            "2025-05-22 22:26:13,072 - pyswarms.single.global_best - INFO - Optimization finished | best cost: 239.75404357910156, best pos: [5.45771762e+01 5.58137848e+01 1.00755589e-01 8.98260599e-03\n",
            " 5.70020372e+01]\n"
          ]
        },
        {
          "output_type": "stream",
          "name": "stdout",
          "text": [
            " -> Min Val Loss (MSE): 402.1799\n",
            "\n",
            "--- PSO Optimization Finished ---\n",
            "Best cost (min_val_loss MSE) from PSO: 239.7540\n",
            "Best hyperparameters from PSO: [5.45771762e+01 5.58137848e+01 1.00755589e-01 8.98260599e-03\n",
            " 5.70020372e+01]\n",
            "\n",
            "Formatted Best Hyperparameters from PSO:\n",
            "  Neurons L1: 55, Neurons L2: 56\n",
            "  Dropout: 0.1008, LR: 0.008983, Batch Size: 57\n",
            "\n",
            "--- Training Final Model with PSO-Optimized Hyperparameters ---\n"
          ]
        },
        {
          "output_type": "stream",
          "name": "stderr",
          "text": [
            "/usr/local/lib/python3.11/dist-packages/keras/src/layers/core/dense.py:87: UserWarning: Do not pass an `input_shape`/`input_dim` argument to a layer. When using Sequential models, prefer using an `Input(shape)` object as the first layer in the model instead.\n",
            "  super().__init__(activity_regularizer=activity_regularizer, **kwargs)\n"
          ]
        },
        {
          "output_type": "display_data",
          "data": {
            "text/plain": [
              "\u001b[1mModel: \"sequential\"\u001b[0m\n"
            ],
            "text/html": [
              "<pre style=\"white-space:pre;overflow-x:auto;line-height:normal;font-family:Menlo,'DejaVu Sans Mono',consolas,'Courier New',monospace\"><span style=\"font-weight: bold\">Model: \"sequential\"</span>\n",
              "</pre>\n"
            ]
          },
          "metadata": {}
        },
        {
          "output_type": "display_data",
          "data": {
            "text/plain": [
              "┏━━━━━━━━━━━━━━━━━━━━━━━━━━━━━━━━━┳━━━━━━━━━━━━━━━━━━━━━━━━┳━━━━━━━━━━━━━━━┓\n",
              "┃\u001b[1m \u001b[0m\u001b[1mLayer (type)                   \u001b[0m\u001b[1m \u001b[0m┃\u001b[1m \u001b[0m\u001b[1mOutput Shape          \u001b[0m\u001b[1m \u001b[0m┃\u001b[1m \u001b[0m\u001b[1m      Param #\u001b[0m\u001b[1m \u001b[0m┃\n",
              "┡━━━━━━━━━━━━━━━━━━━━━━━━━━━━━━━━━╇━━━━━━━━━━━━━━━━━━━━━━━━╇━━━━━━━━━━━━━━━┩\n",
              "│ dense (\u001b[38;5;33mDense\u001b[0m)                   │ (\u001b[38;5;45mNone\u001b[0m, \u001b[38;5;34m55\u001b[0m)             │           \u001b[38;5;34m550\u001b[0m │\n",
              "├─────────────────────────────────┼────────────────────────┼───────────────┤\n",
              "│ dropout (\u001b[38;5;33mDropout\u001b[0m)               │ (\u001b[38;5;45mNone\u001b[0m, \u001b[38;5;34m55\u001b[0m)             │             \u001b[38;5;34m0\u001b[0m │\n",
              "├─────────────────────────────────┼────────────────────────┼───────────────┤\n",
              "│ dense_1 (\u001b[38;5;33mDense\u001b[0m)                 │ (\u001b[38;5;45mNone\u001b[0m, \u001b[38;5;34m56\u001b[0m)             │         \u001b[38;5;34m3,136\u001b[0m │\n",
              "├─────────────────────────────────┼────────────────────────┼───────────────┤\n",
              "│ dropout_1 (\u001b[38;5;33mDropout\u001b[0m)             │ (\u001b[38;5;45mNone\u001b[0m, \u001b[38;5;34m56\u001b[0m)             │             \u001b[38;5;34m0\u001b[0m │\n",
              "├─────────────────────────────────┼────────────────────────┼───────────────┤\n",
              "│ dense_2 (\u001b[38;5;33mDense\u001b[0m)                 │ (\u001b[38;5;45mNone\u001b[0m, \u001b[38;5;34m1\u001b[0m)              │            \u001b[38;5;34m57\u001b[0m │\n",
              "└─────────────────────────────────┴────────────────────────┴───────────────┘\n"
            ],
            "text/html": [
              "<pre style=\"white-space:pre;overflow-x:auto;line-height:normal;font-family:Menlo,'DejaVu Sans Mono',consolas,'Courier New',monospace\">┏━━━━━━━━━━━━━━━━━━━━━━━━━━━━━━━━━┳━━━━━━━━━━━━━━━━━━━━━━━━┳━━━━━━━━━━━━━━━┓\n",
              "┃<span style=\"font-weight: bold\"> Layer (type)                    </span>┃<span style=\"font-weight: bold\"> Output Shape           </span>┃<span style=\"font-weight: bold\">       Param # </span>┃\n",
              "┡━━━━━━━━━━━━━━━━━━━━━━━━━━━━━━━━━╇━━━━━━━━━━━━━━━━━━━━━━━━╇━━━━━━━━━━━━━━━┩\n",
              "│ dense (<span style=\"color: #0087ff; text-decoration-color: #0087ff\">Dense</span>)                   │ (<span style=\"color: #00d7ff; text-decoration-color: #00d7ff\">None</span>, <span style=\"color: #00af00; text-decoration-color: #00af00\">55</span>)             │           <span style=\"color: #00af00; text-decoration-color: #00af00\">550</span> │\n",
              "├─────────────────────────────────┼────────────────────────┼───────────────┤\n",
              "│ dropout (<span style=\"color: #0087ff; text-decoration-color: #0087ff\">Dropout</span>)               │ (<span style=\"color: #00d7ff; text-decoration-color: #00d7ff\">None</span>, <span style=\"color: #00af00; text-decoration-color: #00af00\">55</span>)             │             <span style=\"color: #00af00; text-decoration-color: #00af00\">0</span> │\n",
              "├─────────────────────────────────┼────────────────────────┼───────────────┤\n",
              "│ dense_1 (<span style=\"color: #0087ff; text-decoration-color: #0087ff\">Dense</span>)                 │ (<span style=\"color: #00d7ff; text-decoration-color: #00d7ff\">None</span>, <span style=\"color: #00af00; text-decoration-color: #00af00\">56</span>)             │         <span style=\"color: #00af00; text-decoration-color: #00af00\">3,136</span> │\n",
              "├─────────────────────────────────┼────────────────────────┼───────────────┤\n",
              "│ dropout_1 (<span style=\"color: #0087ff; text-decoration-color: #0087ff\">Dropout</span>)             │ (<span style=\"color: #00d7ff; text-decoration-color: #00d7ff\">None</span>, <span style=\"color: #00af00; text-decoration-color: #00af00\">56</span>)             │             <span style=\"color: #00af00; text-decoration-color: #00af00\">0</span> │\n",
              "├─────────────────────────────────┼────────────────────────┼───────────────┤\n",
              "│ dense_2 (<span style=\"color: #0087ff; text-decoration-color: #0087ff\">Dense</span>)                 │ (<span style=\"color: #00d7ff; text-decoration-color: #00d7ff\">None</span>, <span style=\"color: #00af00; text-decoration-color: #00af00\">1</span>)              │            <span style=\"color: #00af00; text-decoration-color: #00af00\">57</span> │\n",
              "└─────────────────────────────────┴────────────────────────┴───────────────┘\n",
              "</pre>\n"
            ]
          },
          "metadata": {}
        },
        {
          "output_type": "display_data",
          "data": {
            "text/plain": [
              "\u001b[1m Total params: \u001b[0m\u001b[38;5;34m3,743\u001b[0m (14.62 KB)\n"
            ],
            "text/html": [
              "<pre style=\"white-space:pre;overflow-x:auto;line-height:normal;font-family:Menlo,'DejaVu Sans Mono',consolas,'Courier New',monospace\"><span style=\"font-weight: bold\"> Total params: </span><span style=\"color: #00af00; text-decoration-color: #00af00\">3,743</span> (14.62 KB)\n",
              "</pre>\n"
            ]
          },
          "metadata": {}
        },
        {
          "output_type": "display_data",
          "data": {
            "text/plain": [
              "\u001b[1m Trainable params: \u001b[0m\u001b[38;5;34m3,743\u001b[0m (14.62 KB)\n"
            ],
            "text/html": [
              "<pre style=\"white-space:pre;overflow-x:auto;line-height:normal;font-family:Menlo,'DejaVu Sans Mono',consolas,'Courier New',monospace\"><span style=\"font-weight: bold\"> Trainable params: </span><span style=\"color: #00af00; text-decoration-color: #00af00\">3,743</span> (14.62 KB)\n",
              "</pre>\n"
            ]
          },
          "metadata": {}
        },
        {
          "output_type": "display_data",
          "data": {
            "text/plain": [
              "\u001b[1m Non-trainable params: \u001b[0m\u001b[38;5;34m0\u001b[0m (0.00 B)\n"
            ],
            "text/html": [
              "<pre style=\"white-space:pre;overflow-x:auto;line-height:normal;font-family:Menlo,'DejaVu Sans Mono',consolas,'Courier New',monospace\"><span style=\"font-weight: bold\"> Non-trainable params: </span><span style=\"color: #00af00; text-decoration-color: #00af00\">0</span> (0.00 B)\n",
              "</pre>\n"
            ]
          },
          "metadata": {}
        },
        {
          "output_type": "stream",
          "name": "stdout",
          "text": [
            "Epoch 1/100\n",
            "\u001b[1m275/275\u001b[0m \u001b[32m━━━━━━━━━━━━━━━━━━━━\u001b[0m\u001b[37m\u001b[0m \u001b[1m3s\u001b[0m 5ms/step - loss: 619060.1875 - mae: 319.4436 - mse: 619060.1875 - val_loss: 1088.5482 - val_mae: 24.9960 - val_mse: 1088.5482\n",
            "Epoch 2/100\n",
            "\u001b[1m275/275\u001b[0m \u001b[32m━━━━━━━━━━━━━━━━━━━━\u001b[0m\u001b[37m\u001b[0m \u001b[1m2s\u001b[0m 4ms/step - loss: 10777.4639 - mae: 52.4664 - mse: 10777.4639 - val_loss: 963.0200 - val_mae: 22.3235 - val_mse: 963.0200\n",
            "Epoch 3/100\n",
            "\u001b[1m275/275\u001b[0m \u001b[32m━━━━━━━━━━━━━━━━━━━━\u001b[0m\u001b[37m\u001b[0m \u001b[1m2s\u001b[0m 5ms/step - loss: 10472.3340 - mae: 50.0555 - mse: 10472.3340 - val_loss: 859.4277 - val_mae: 19.1339 - val_mse: 859.4277\n",
            "Epoch 4/100\n",
            "\u001b[1m275/275\u001b[0m \u001b[32m━━━━━━━━━━━━━━━━━━━━\u001b[0m\u001b[37m\u001b[0m \u001b[1m3s\u001b[0m 7ms/step - loss: 10756.8076 - mae: 49.4117 - mse: 10756.8076 - val_loss: 425.0427 - val_mae: 14.6408 - val_mse: 425.0427\n",
            "Epoch 5/100\n",
            "\u001b[1m275/275\u001b[0m \u001b[32m━━━━━━━━━━━━━━━━━━━━\u001b[0m\u001b[37m\u001b[0m \u001b[1m2s\u001b[0m 7ms/step - loss: 9478.9639 - mae: 46.4879 - mse: 9478.9639 - val_loss: 2380.5830 - val_mae: 28.4037 - val_mse: 2380.5830\n",
            "Epoch 6/100\n",
            "\u001b[1m275/275\u001b[0m \u001b[32m━━━━━━━━━━━━━━━━━━━━\u001b[0m\u001b[37m\u001b[0m \u001b[1m2s\u001b[0m 5ms/step - loss: 11925.4111 - mae: 49.2052 - mse: 11925.4111 - val_loss: 4142.1895 - val_mae: 37.2223 - val_mse: 4142.1895\n",
            "Epoch 7/100\n",
            "\u001b[1m275/275\u001b[0m \u001b[32m━━━━━━━━━━━━━━━━━━━━\u001b[0m\u001b[37m\u001b[0m \u001b[1m1s\u001b[0m 5ms/step - loss: 11216.4795 - mae: 47.3813 - mse: 11216.4795 - val_loss: 597.7443 - val_mae: 15.6803 - val_mse: 597.7443\n",
            "Epoch 8/100\n",
            "\u001b[1m275/275\u001b[0m \u001b[32m━━━━━━━━━━━━━━━━━━━━\u001b[0m\u001b[37m\u001b[0m \u001b[1m2s\u001b[0m 5ms/step - loss: 10216.5342 - mae: 46.2452 - mse: 10216.5342 - val_loss: 1991.5494 - val_mae: 26.4568 - val_mse: 1991.5494\n",
            "Epoch 9/100\n",
            "\u001b[1m275/275\u001b[0m \u001b[32m━━━━━━━━━━━━━━━━━━━━\u001b[0m\u001b[37m\u001b[0m \u001b[1m3s\u001b[0m 5ms/step - loss: 9711.9775 - mae: 44.7863 - mse: 9711.9775 - val_loss: 896.1349 - val_mae: 17.9707 - val_mse: 896.1349\n",
            "Epoch 10/100\n",
            "\u001b[1m275/275\u001b[0m \u001b[32m━━━━━━━━━━━━━━━━━━━━\u001b[0m\u001b[37m\u001b[0m \u001b[1m1s\u001b[0m 5ms/step - loss: 11148.0488 - mae: 46.6456 - mse: 11148.0488 - val_loss: 1545.9805 - val_mae: 21.9825 - val_mse: 1545.9805\n",
            "Epoch 11/100\n",
            "\u001b[1m275/275\u001b[0m \u001b[32m━━━━━━━━━━━━━━━━━━━━\u001b[0m\u001b[37m\u001b[0m \u001b[1m3s\u001b[0m 7ms/step - loss: 9706.3896 - mae: 44.2936 - mse: 9706.3896 - val_loss: 586.0605 - val_mae: 15.3544 - val_mse: 586.0605\n",
            "Epoch 12/100\n",
            "\u001b[1m275/275\u001b[0m \u001b[32m━━━━━━━━━━━━━━━━━━━━\u001b[0m\u001b[37m\u001b[0m \u001b[1m2s\u001b[0m 6ms/step - loss: 10944.2031 - mae: 46.2074 - mse: 10944.2031 - val_loss: 655.6979 - val_mae: 16.7369 - val_mse: 655.6979\n",
            "Epoch 13/100\n",
            "\u001b[1m275/275\u001b[0m \u001b[32m━━━━━━━━━━━━━━━━━━━━\u001b[0m\u001b[37m\u001b[0m \u001b[1m1s\u001b[0m 4ms/step - loss: 9429.2344 - mae: 44.2299 - mse: 9429.2344 - val_loss: 632.2789 - val_mae: 15.4505 - val_mse: 632.2789\n",
            "Epoch 14/100\n",
            "\u001b[1m275/275\u001b[0m \u001b[32m━━━━━━━━━━━━━━━━━━━━\u001b[0m\u001b[37m\u001b[0m \u001b[1m2s\u001b[0m 5ms/step - loss: 10845.8584 - mae: 45.9029 - mse: 10845.8584 - val_loss: 1525.6071 - val_mae: 23.4036 - val_mse: 1525.6069\n",
            "\n",
            "--- Evaluating PSO Optimized Model ---\n",
            "\u001b[1m153/153\u001b[0m \u001b[32m━━━━━━━━━━━━━━━━━━━━\u001b[0m\u001b[37m\u001b[0m \u001b[1m0s\u001b[0m 2ms/step\n",
            "PSO Optimized Model Test MSE: 405.1226\n",
            "PSO Optimized Model Test RMSE: 20.1277\n",
            "PSO Optimized Model Test MAE: 14.4613\n",
            "PSO Optimized Model Test R-squared (R²): 0.9997\n",
            "PSO Optimized Model Test MAPE: 17.57%\n",
            "PSO Optimized Model Test MedAE: 10.0140\n",
            "\n",
            "\n",
            "--- Comparison of Model Performance (Regression Metrics) ---\n",
            "Metric Baseline Model PSO Optimized Model\n",
            "   MSE         411.46              405.12\n",
            "  RMSE          20.28               20.13\n",
            "   MAE          14.22               14.46\n",
            "    R2         0.9997              0.9997\n",
            "  MAPE         18.28%              17.57%\n",
            " MedAE           9.30               10.01\n"
          ]
        },
        {
          "output_type": "stream",
          "name": "stderr",
          "text": [
            "<ipython-input-13-fcf3c6b92562>:450: FutureWarning: DataFrame.applymap has been deprecated. Use DataFrame.map instead.\n",
            "  comparison_df.loc[row_indexer, [\"Baseline Model\", \"PSO Optimized Model\"]].applymap(lambda x: fmt_str % x if pd.notnull(x) else \"N/A\")\n",
            "<ipython-input-13-fcf3c6b92562>:449: FutureWarning: Setting an item of incompatible dtype is deprecated and will raise an error in a future version of pandas. Value '['411.46']' has dtype incompatible with float64, please explicitly cast to a compatible dtype first.\n",
            "  formatted_comparison_df.loc[row_indexer, [\"Baseline Model\", \"PSO Optimized Model\"]] = \\\n",
            "<ipython-input-13-fcf3c6b92562>:449: FutureWarning: Setting an item of incompatible dtype is deprecated and will raise an error in a future version of pandas. Value '['405.12']' has dtype incompatible with float64, please explicitly cast to a compatible dtype first.\n",
            "  formatted_comparison_df.loc[row_indexer, [\"Baseline Model\", \"PSO Optimized Model\"]] = \\\n",
            "<ipython-input-13-fcf3c6b92562>:450: FutureWarning: DataFrame.applymap has been deprecated. Use DataFrame.map instead.\n",
            "  comparison_df.loc[row_indexer, [\"Baseline Model\", \"PSO Optimized Model\"]].applymap(lambda x: fmt_str % x if pd.notnull(x) else \"N/A\")\n",
            "<ipython-input-13-fcf3c6b92562>:450: FutureWarning: DataFrame.applymap has been deprecated. Use DataFrame.map instead.\n",
            "  comparison_df.loc[row_indexer, [\"Baseline Model\", \"PSO Optimized Model\"]].applymap(lambda x: fmt_str % x if pd.notnull(x) else \"N/A\")\n",
            "<ipython-input-13-fcf3c6b92562>:450: FutureWarning: DataFrame.applymap has been deprecated. Use DataFrame.map instead.\n",
            "  comparison_df.loc[row_indexer, [\"Baseline Model\", \"PSO Optimized Model\"]].applymap(lambda x: fmt_str % x if pd.notnull(x) else \"N/A\")\n",
            "<ipython-input-13-fcf3c6b92562>:447: FutureWarning: DataFrame.applymap has been deprecated. Use DataFrame.map instead.\n",
            "  comparison_df.loc[row_indexer, [\"Baseline Model\", \"PSO Optimized Model\"]].applymap(lambda x: f\"{x:.2f}%\" if pd.notnull(x) else \"N/A\")\n",
            "<ipython-input-13-fcf3c6b92562>:450: FutureWarning: DataFrame.applymap has been deprecated. Use DataFrame.map instead.\n",
            "  comparison_df.loc[row_indexer, [\"Baseline Model\", \"PSO Optimized Model\"]].applymap(lambda x: fmt_str % x if pd.notnull(x) else \"N/A\")\n"
          ]
        },
        {
          "output_type": "display_data",
          "data": {
            "text/plain": [
              "<Figure size 1000x600 with 1 Axes>"
            ],
            "image/png": "[encoded data removed]"
          },
          "metadata": {}
        },
        {
          "output_type": "display_data",
          "data": {
            "text/plain": [
              "<Figure size 1000x600 with 1 Axes>"
            ],
            "image/png": "[encoded data removed]"
          },
          "metadata": {}
        },
        {
          "output_type": "stream",
          "name": "stdout",
          "text": [
            "\u001b[1m153/153\u001b[0m \u001b[32m━━━━━━━━━━━━━━━━━━━━\u001b[0m\u001b[37m\u001b[0m \u001b[1m0s\u001b[0m 2ms/step\n"
          ]
        },
        {
          "output_type": "display_data",
          "data": {
            "text/plain": [
              "<Figure size 800x800 with 1 Axes>"
            ],
            "image/png": "[encoded data removed]"
          },
          "metadata": {}
        },
        {
          "output_type": "stream",
          "name": "stdout",
          "text": [
            "\n",
            "--- Script Finished ---\n"
          ]
        }
      ]
    }
  ]
}