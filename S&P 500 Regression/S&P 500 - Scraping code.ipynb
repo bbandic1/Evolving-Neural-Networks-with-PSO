{
  "nbformat": 4,
  "nbformat_minor": 0,
  "metadata": {
    "colab": {
      "provenance": []
    },
    "kernelspec": {
      "name": "python3",
      "display_name": "Python 3"
    },
    "language_info": {
      "name": "python"
    }
  },
  "cells": [
    {
      "cell_type": "code",
      "execution_count": null,
      "metadata": {
        "id": "YCLSFRHwKy7N",
        "colab": {
          "base_uri": "https://localhost:8080/"
        },
        "outputId": "1390d949-8dee-452e-9073-a86cb166d9cf"
      },
      "outputs": [
        {
          "output_type": "stream",
          "name": "stdout",
          "text": [
            "Requirement already satisfied: yfinance in /usr/local/lib/python3.11/dist-packages (0.2.55)\n",
            "Requirement already satisfied: pandas>=1.3.0 in /usr/local/lib/python3.11/dist-packages (from yfinance) (2.2.2)\n",
            "Requirement already satisfied: numpy>=1.16.5 in /usr/local/lib/python3.11/dist-packages (from yfinance) (2.0.2)\n",
            "Requirement already satisfied: requests>=2.31 in /usr/local/lib/python3.11/dist-packages (from yfinance) (2.32.3)\n",
            "Requirement already satisfied: multitasking>=0.0.7 in /usr/local/lib/python3.11/dist-packages (from yfinance) (0.0.11)\n",
            "Requirement already satisfied: platformdirs>=2.0.0 in /usr/local/lib/python3.11/dist-packages (from yfinance) (4.3.7)\n",
            "Requirement already satisfied: pytz>=2022.5 in /usr/local/lib/python3.11/dist-packages (from yfinance) (2025.2)\n",
            "Requirement already satisfied: frozendict>=2.3.4 in /usr/local/lib/python3.11/dist-packages (from yfinance) (2.4.6)\n",
            "Requirement already satisfied: peewee>=3.16.2 in /usr/local/lib/python3.11/dist-packages (from yfinance) (3.17.9)\n",
            "Requirement already satisfied: beautifulsoup4>=4.11.1 in /usr/local/lib/python3.11/dist-packages (from yfinance) (4.13.4)\n",
            "Requirement already satisfied: soupsieve>1.2 in /usr/local/lib/python3.11/dist-packages (from beautifulsoup4>=4.11.1->yfinance) (2.7)\n",
            "Requirement already satisfied: typing-extensions>=4.0.0 in /usr/local/lib/python3.11/dist-packages (from beautifulsoup4>=4.11.1->yfinance) (4.13.2)\n",
            "Requirement already satisfied: python-dateutil>=2.8.2 in /usr/local/lib/python3.11/dist-packages (from pandas>=1.3.0->yfinance) (2.8.2)\n",
            "Requirement already satisfied: tzdata>=2022.7 in /usr/local/lib/python3.11/dist-packages (from pandas>=1.3.0->yfinance) (2025.2)\n",
            "Requirement already satisfied: charset-normalizer<4,>=2 in /usr/local/lib/python3.11/dist-packages (from requests>=2.31->yfinance) (3.4.1)\n",
            "Requirement already satisfied: idna<4,>=2.5 in /usr/local/lib/python3.11/dist-packages (from requests>=2.31->yfinance) (3.10)\n",
            "Requirement already satisfied: urllib3<3,>=1.21.1 in /usr/local/lib/python3.11/dist-packages (from requests>=2.31->yfinance) (2.3.0)\n",
            "Requirement already satisfied: certifi>=2017.4.17 in /usr/local/lib/python3.11/dist-packages (from requests>=2.31->yfinance) (2025.1.31)\n",
            "Requirement already satisfied: six>=1.5 in /usr/local/lib/python3.11/dist-packages (from python-dateutil>=2.8.2->pandas>=1.3.0->yfinance) (1.17.0)\n",
            "Attempting to download historical data for ^GSPC from 1927-12-01 to 2025-04-26...\n"
          ]
        },
        {
          "output_type": "stream",
          "name": "stderr",
          "text": [
            "\r[*********************100%***********************]  1 of 1 completed"
          ]
        },
        {
          "output_type": "stream",
          "name": "stdout",
          "text": [
            "\n",
            "Data downloaded successfully!\n",
            "\n",
            "Flattening column MultiIndex...\n",
            "Columns flattened.\n",
            "\n",
            "DataFrame Info after flattening columns:\n",
            "<class 'pandas.core.frame.DataFrame'>\n",
            "DatetimeIndex: 24445 entries, 1927-12-30 to 2025-04-25\n",
            "Data columns (total 5 columns):\n",
            " #   Column  Non-Null Count  Dtype  \n",
            "---  ------  --------------  -----  \n",
            " 0   Close   24445 non-null  float64\n",
            " 1   High    24445 non-null  float64\n",
            " 2   Low     24445 non-null  float64\n",
            " 3   Open    24445 non-null  float64\n",
            " 4   Volume  24445 non-null  int64  \n",
            "dtypes: float64(4), int64(1)\n",
            "memory usage: 1.1 MB\n",
            "\n",
            "Total rows (trading days) downloaded: 24445\n",
            "\n",
            "First 5 rows (Earliest available data):\n",
            "Price           Close       High        Low       Open  Volume\n",
            "Date                                                          \n",
            "1927-12-30  17.660000  17.660000  17.660000  17.660000       0\n",
            "1928-01-03  17.760000  17.760000  17.760000  17.760000       0\n",
            "1928-01-04  17.719999  17.719999  17.719999  17.719999       0\n",
            "1928-01-05  17.549999  17.549999  17.549999  17.549999       0\n",
            "1928-01-06  17.660000  17.660000  17.660000  17.660000       0\n",
            "\n",
            "Last 5 rows (Latest available data):\n",
            "Price             Close         High          Low         Open      Volume\n",
            "Date                                                                      \n",
            "2025-04-21  5158.200195  5232.939941  5101.629883  5232.939941  4226340000\n",
            "2025-04-22  5287.759766  5309.609863  5207.669922  5207.669922  4666950000\n",
            "2025-04-23  5375.859863  5469.689941  5356.169922  5395.919922  5371390000\n",
            "2025-04-24  5484.770020  5489.399902  5371.959961  5381.379883  4697710000\n",
            "2025-04-25  5525.209961  5528.109863  5455.859863  5489.729980  4236580000\n",
            "\n",
            "Missing values per column:\n",
            "Price\n",
            "Close     0\n",
            "High      0\n",
            "Low       0\n",
            "Open      0\n",
            "Volume    0\n",
            "dtype: int64\n",
            "\n",
            "Forward/Backward fill applied (if any NaNs existed).\n"
          ]
        },
        {
          "output_type": "stream",
          "name": "stderr",
          "text": [
            "\n"
          ]
        },
        {
          "output_type": "stream",
          "name": "stdout",
          "text": [
            "\n",
            "Data saved successfully to S&P_500_historical_1927_2025.csv\n",
            "\n",
            "Converting DataFrame to JSON format...\n",
            "Saving data to JSON file: S&P_500_historical_1927_2025.json\n",
            "Data saved successfully to S&P_500_historical_1927_2025.json\n",
            "You can download both files from the Colab file browser.\n"
          ]
        }
      ],
      "source": [
        "!pip install yfinance\n",
        "\n",
        "import yfinance as yf\n",
        "import pandas as pd\n",
        "import sys\n",
        "import json\n",
        "import math\n",
        "\n",
        "ticker = \"^GSPC\"\n",
        "start_date = \"1927-12-01\"\n",
        "end_date = \"2025-04-26\"\n",
        "\n",
        "print(f\"Attempting to download historical data for {ticker} from {start_date} to {end_date}...\")\n",
        "sys.stdout.flush()\n",
        "\n",
        "try:\n",
        "    sp500_data = yf.download(ticker, start=start_date, end=end_date, interval=\"1d\", actions=False)\n",
        "\n",
        "    print(\"\\nData downloaded successfully!\")\n",
        "\n",
        "    if isinstance(sp500_data.columns, pd.MultiIndex):\n",
        "        print(\"\\nFlattening column MultiIndex...\")\n",
        "        sp500_data.columns = sp500_data.columns.get_level_values(0)\n",
        "        print(\"Columns flattened.\")\n",
        "\n",
        "    print(\"\\nDataFrame Info after flattening columns:\")\n",
        "    sp500_data.info()\n",
        "    print(f\"\\nTotal rows (trading days) downloaded: {len(sp500_data)}\")\n",
        "    print(\"\\nFirst 5 rows (Earliest available data):\")\n",
        "    print(sp500_data.head())\n",
        "    print(\"\\nLast 5 rows (Latest available data):\")\n",
        "    print(sp500_data.tail())\n",
        "    print(\"\\nMissing values per column:\")\n",
        "    print(sp500_data.isnull().sum())\n",
        "\n",
        "    initial_rows = len(sp500_data)\n",
        "    sp500_data.ffill(inplace=True)\n",
        "    sp500_data.bfill(inplace=True)\n",
        "    if len(sp500_data) < initial_rows:\n",
        "         print(\"\\nNote: Rows with only NaN might have been dropped implicitly before filling.\")\n",
        "    elif sp500_data.isnull().sum().sum() > 0:\n",
        "         print(\"\\nWarning: Some missing values might still remain after ffill/bfill.\")\n",
        "    else:\n",
        "         print(\"\\nForward/Backward fill applied (if any NaNs existed).\")\n",
        "\n",
        "    csv_path_local = 'S&P_500_historical_1927_2025.csv'\n",
        "    sp500_data.to_csv(csv_path_local)\n",
        "    print(f\"\\nData saved successfully to {csv_path_local}\")\n",
        "\n",
        "    json_path_local = 'S&P_500_historical_1927_2025.json'\n",
        "    sp500_data_reset = sp500_data.reset_index()\n",
        "    sp500_data_reset['Date'] = sp500_data_reset['Date'].astype(str)\n",
        "\n",
        "    print(f\"\\nConverting DataFrame to JSON format...\")\n",
        "    data_list = sp500_data_reset.to_dict(orient='records')\n",
        "\n",
        "    for record in data_list:\n",
        "        for key, value in record.items():\n",
        "            if isinstance(value, float) and math.isnan(value):\n",
        "                record[key] = None\n",
        "\n",
        "    print(f\"Saving data to JSON file: {json_path_local}\")\n",
        "    with open(json_path_local, 'w', encoding='utf-8') as f:\n",
        "        json.dump(data_list, f, ensure_ascii=False, indent=4)\n",
        "\n",
        "    print(f\"Data saved successfully to {json_path_local}\")\n",
        "    print(\"You can download both files from the Colab file browser.\")\n",
        "\n",
        "except Exception as e:\n",
        "    print(f\"\\nAn error occurred during download or processing: {e}\")\n",
        "    print(\"Check the ticker symbol and date range, or potential network issues.\")"
      ]
    }
  ]
}