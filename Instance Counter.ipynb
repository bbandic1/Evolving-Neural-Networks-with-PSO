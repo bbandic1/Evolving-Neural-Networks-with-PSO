{
 "cells": [
  {
   "cell_type": "code",
   "execution_count": null,
   "id": "73b0a68e",
   "metadata": {},
   "outputs": [
    {
     "name": "stdout",
     "output_type": "stream",
     "text": [
      "Number of instances in the list: 24445\n"
     ]
    }
   ],
   "source": [
    "import json\n",
    "\n",
    "with open('S&P 500 Regression/S&P 500 Dataset - JSON.json', 'r', encoding='utf-8') as f:\n",
    "    data = json.load(f)\n",
    "\n",
    "if isinstance(data, list):\n",
    "    print(\"Number of instances in the list:\", len(data))\n",
    "else:\n",
    "    print(\"JSON content is not a list.\")\n"
   ]
  },
  {
   "cell_type": "code",
   "execution_count": 1,
   "id": "fd4a7e33",
   "metadata": {},
   "outputs": [
    {
     "name": "stdout",
     "output_type": "stream",
     "text": [
      "Number of instances in the list: 8500\n"
     ]
    }
   ],
   "source": [
    "import json\n",
    "\n",
    "with open('Yu-Gi-Oh! Card Classification/yugioh_monster_cards.json', 'r', encoding='utf-8') as f:\n",
    "    data = json.load(f)\n",
    "\n",
    "if isinstance(data, list):\n",
    "    print(\"Number of instances in the list:\", len(data))\n",
    "else:\n",
    "    print(\"JSON content is not a list.\")"
   ]
  },
  {
   "cell_type": "code",
   "execution_count": 2,
   "id": "f06e6b8f",
   "metadata": {},
   "outputs": [
    {
     "name": "stdout",
     "output_type": "stream",
     "text": [
      "Number of instances in the list: 21198\n"
     ]
    }
   ],
   "source": [
    "import json\n",
    "\n",
    "with open('Autolist Regression/autolist_car_details.json', 'r', encoding='utf-8') as f:\n",
    "    data = json.load(f)\n",
    "\n",
    "if isinstance(data, list):\n",
    "    print(\"Number of instances in the list:\", len(data))\n",
    "else:\n",
    "    print(\"JSON content is not a list.\")"
   ]
  }
 ],
 "metadata": {
  "kernelspec": {
   "display_name": "Python 3",
   "language": "python",
   "name": "python3"
  },
  "language_info": {
   "codemirror_mode": {
    "name": "ipython",
    "version": 3
   },
   "file_extension": ".py",
   "mimetype": "text/x-python",
   "name": "python",
   "nbconvert_exporter": "python",
   "pygments_lexer": "ipython3",
   "version": "3.11.9"
  }
 },
 "nbformat": 4,
 "nbformat_minor": 5
}
