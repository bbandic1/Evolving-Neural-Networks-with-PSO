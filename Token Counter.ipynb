{
 "cells": [
  {
   "cell_type": "code",
   "execution_count": 1,
   "id": "fcf638cc",
   "metadata": {},
   "outputs": [
    {
     "name": "stdout",
     "output_type": "stream",
     "text": [
      "Requirement already satisfied: tiktoken in c:\\users\\benjo\\appdata\\local\\packages\\pythonsoftwarefoundation.python.3.11_qbz5n2kfra8p0\\localcache\\local-packages\\python311\\site-packages (0.9.0)\n",
      "Requirement already satisfied: regex>=2022.1.18 in c:\\users\\benjo\\appdata\\local\\packages\\pythonsoftwarefoundation.python.3.11_qbz5n2kfra8p0\\localcache\\local-packages\\python311\\site-packages (from tiktoken) (2024.11.6)\n",
      "Requirement already satisfied: requests>=2.26.0 in c:\\users\\benjo\\appdata\\local\\packages\\pythonsoftwarefoundation.python.3.11_qbz5n2kfra8p0\\localcache\\local-packages\\python311\\site-packages (from tiktoken) (2.32.3)\n",
      "Requirement already satisfied: charset-normalizer<4,>=2 in c:\\users\\benjo\\appdata\\local\\packages\\pythonsoftwarefoundation.python.3.11_qbz5n2kfra8p0\\localcache\\local-packages\\python311\\site-packages (from requests>=2.26.0->tiktoken) (3.4.1)\n",
      "Requirement already satisfied: idna<4,>=2.5 in c:\\users\\benjo\\appdata\\local\\packages\\pythonsoftwarefoundation.python.3.11_qbz5n2kfra8p0\\localcache\\local-packages\\python311\\site-packages (from requests>=2.26.0->tiktoken) (3.10)\n",
      "Requirement already satisfied: urllib3<3,>=1.21.1 in c:\\users\\benjo\\appdata\\local\\packages\\pythonsoftwarefoundation.python.3.11_qbz5n2kfra8p0\\localcache\\local-packages\\python311\\site-packages (from requests>=2.26.0->tiktoken) (2.4.0)\n",
      "Requirement already satisfied: certifi>=2017.4.17 in c:\\users\\benjo\\appdata\\local\\packages\\pythonsoftwarefoundation.python.3.11_qbz5n2kfra8p0\\localcache\\local-packages\\python311\\site-packages (from requests>=2.26.0->tiktoken) (2025.1.31)\n"
     ]
    }
   ],
   "source": [
    "!pip install tiktoken"
   ]
  },
  {
   "cell_type": "code",
   "execution_count": 2,
   "id": "072dc27e",
   "metadata": {},
   "outputs": [
    {
     "name": "stdout",
     "output_type": "stream",
     "text": [
      "Autolist Regression/autolist_car_details.json: 1718187 tokens\n",
      "Yu-Gi-Oh! Card Classification/yugioh_monster_cards.json: 789218 tokens\n",
      "S&P 500 Regression/S&P 500 Dataset - JSON.json: 1016572 tokens\n",
      "\n",
      "Total tokens across selected files: 3523977\n"
     ]
    }
   ],
   "source": [
    "import json\n",
    "import tiktoken\n",
    "import os\n",
    "\n",
    "encoding = tiktoken.encoding_for_model(\"gpt-3.5-turbo\")\n",
    "\n",
    "def count_tokens_tiktoken(text):\n",
    "    return len(encoding.encode(text))\n",
    "\n",
    "def extract_text_from_json(data):\n",
    "    text_content = \"\"\n",
    "    if isinstance(data, list):\n",
    "        for item in data:\n",
    "            if isinstance(item, dict):\n",
    "                text_content += \" \".join(str(v) for v in item.values()) + \" \"\n",
    "            else:\n",
    "                text_content += str(item) + \" \"\n",
    "    elif isinstance(data, dict):\n",
    "        text_content += \" \".join(str(v) for v in data.values()) + \" \"\n",
    "    else:\n",
    "        text_content += str(data)\n",
    "    return text_content\n",
    "\n",
    "def count_tokens_in_file_tiktoken(filepath):\n",
    "    with open(filepath, 'r', encoding='utf-8') as f:\n",
    "        data = json.load(f)\n",
    "    text = extract_text_from_json(data)\n",
    "    return count_tokens_tiktoken(text)\n",
    "\n",
    "json_files = [\n",
    "    \"Autolist Regression/autolist_car_details.json\",\n",
    "    \"Yu-Gi-Oh! Card Classification/yugioh_monster_cards.json\",\n",
    "    \"S&P 500 Regression/S&P 500 Dataset - JSON.json\"\n",
    "]\n",
    "\n",
    "total_tokens = 0\n",
    "for file in json_files:\n",
    "    tokens = count_tokens_in_file_tiktoken(file)\n",
    "    print(f\"{file}: {tokens} tokens\")\n",
    "    total_tokens += tokens\n",
    "\n",
    "print(f\"\\nTotal tokens across selected files: {total_tokens}\")\n"
   ]
  }
 ],
 "metadata": {
  "kernelspec": {
   "display_name": "Python 3",
   "language": "python",
   "name": "python3"
  },
  "language_info": {
   "codemirror_mode": {
    "name": "ipython",
    "version": 3
   },
   "file_extension": ".py",
   "mimetype": "text/x-python",
   "name": "python",
   "nbconvert_exporter": "python",
   "pygments_lexer": "ipython3",
   "version": "3.11.9"
  }
 },
 "nbformat": 4,
 "nbformat_minor": 5
}
